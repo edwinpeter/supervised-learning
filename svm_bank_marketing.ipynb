{
 "cells": [
  {
   "cell_type": "markdown",
   "metadata": {},
   "source": [
    "# Support Vector Machines"
   ]
  },
  {
   "cell_type": "markdown",
   "metadata": {},
   "source": [
    "This notebook shows the SVM model for the bank marketing data"
   ]
  },
  {
   "cell_type": "code",
   "execution_count": 2,
   "metadata": {},
   "outputs": [],
   "source": [
    "import pandas as pd\n",
    "import numpy as np\n",
    "import matplotlib.pyplot as plt\n",
    "import seaborn as sns\n",
    "from utils import Timer, plot_learning_curve"
   ]
  },
  {
   "cell_type": "code",
   "execution_count": 3,
   "metadata": {},
   "outputs": [],
   "source": [
    "df = pd.read_csv(\"bank-additional-clean.csv\")"
   ]
  },
  {
   "cell_type": "code",
   "execution_count": 4,
   "metadata": {},
   "outputs": [
    {
     "data": {
      "text/html": [
       "<div>\n",
       "<style scoped>\n",
       "    .dataframe tbody tr th:only-of-type {\n",
       "        vertical-align: middle;\n",
       "    }\n",
       "\n",
       "    .dataframe tbody tr th {\n",
       "        vertical-align: top;\n",
       "    }\n",
       "\n",
       "    .dataframe thead th {\n",
       "        text-align: right;\n",
       "    }\n",
       "</style>\n",
       "<table border=\"1\" class=\"dataframe\">\n",
       "  <thead>\n",
       "    <tr style=\"text-align: right;\">\n",
       "      <th></th>\n",
       "      <th>age</th>\n",
       "      <th>default</th>\n",
       "      <th>housing</th>\n",
       "      <th>loan</th>\n",
       "      <th>month</th>\n",
       "      <th>day_of_week</th>\n",
       "      <th>duration</th>\n",
       "      <th>campaign</th>\n",
       "      <th>pdays</th>\n",
       "      <th>previous</th>\n",
       "      <th>...</th>\n",
       "      <th>education_basic.9y</th>\n",
       "      <th>education_high.school</th>\n",
       "      <th>education_illiterate</th>\n",
       "      <th>education_professional.course</th>\n",
       "      <th>education_university.degree</th>\n",
       "      <th>contact_cellular</th>\n",
       "      <th>contact_telephone</th>\n",
       "      <th>poutcome_failure</th>\n",
       "      <th>poutcome_nonexistent</th>\n",
       "      <th>poutcome_success</th>\n",
       "    </tr>\n",
       "  </thead>\n",
       "  <tbody>\n",
       "    <tr>\n",
       "      <th>0</th>\n",
       "      <td>40</td>\n",
       "      <td>0</td>\n",
       "      <td>1</td>\n",
       "      <td>0</td>\n",
       "      <td>7</td>\n",
       "      <td>2</td>\n",
       "      <td>180</td>\n",
       "      <td>1</td>\n",
       "      <td>999</td>\n",
       "      <td>1</td>\n",
       "      <td>...</td>\n",
       "      <td>0</td>\n",
       "      <td>0</td>\n",
       "      <td>0</td>\n",
       "      <td>1</td>\n",
       "      <td>0</td>\n",
       "      <td>1</td>\n",
       "      <td>0</td>\n",
       "      <td>1</td>\n",
       "      <td>0</td>\n",
       "      <td>0</td>\n",
       "    </tr>\n",
       "    <tr>\n",
       "      <th>1</th>\n",
       "      <td>49</td>\n",
       "      <td>0</td>\n",
       "      <td>0</td>\n",
       "      <td>0</td>\n",
       "      <td>4</td>\n",
       "      <td>1</td>\n",
       "      <td>464</td>\n",
       "      <td>2</td>\n",
       "      <td>999</td>\n",
       "      <td>0</td>\n",
       "      <td>...</td>\n",
       "      <td>0</td>\n",
       "      <td>0</td>\n",
       "      <td>0</td>\n",
       "      <td>1</td>\n",
       "      <td>0</td>\n",
       "      <td>0</td>\n",
       "      <td>1</td>\n",
       "      <td>0</td>\n",
       "      <td>1</td>\n",
       "      <td>0</td>\n",
       "    </tr>\n",
       "    <tr>\n",
       "      <th>2</th>\n",
       "      <td>41</td>\n",
       "      <td>0</td>\n",
       "      <td>1</td>\n",
       "      <td>0</td>\n",
       "      <td>4</td>\n",
       "      <td>0</td>\n",
       "      <td>307</td>\n",
       "      <td>1</td>\n",
       "      <td>999</td>\n",
       "      <td>0</td>\n",
       "      <td>...</td>\n",
       "      <td>1</td>\n",
       "      <td>0</td>\n",
       "      <td>0</td>\n",
       "      <td>0</td>\n",
       "      <td>0</td>\n",
       "      <td>0</td>\n",
       "      <td>1</td>\n",
       "      <td>0</td>\n",
       "      <td>1</td>\n",
       "      <td>0</td>\n",
       "    </tr>\n",
       "    <tr>\n",
       "      <th>3</th>\n",
       "      <td>54</td>\n",
       "      <td>0</td>\n",
       "      <td>1</td>\n",
       "      <td>0</td>\n",
       "      <td>4</td>\n",
       "      <td>1</td>\n",
       "      <td>111</td>\n",
       "      <td>2</td>\n",
       "      <td>999</td>\n",
       "      <td>0</td>\n",
       "      <td>...</td>\n",
       "      <td>1</td>\n",
       "      <td>0</td>\n",
       "      <td>0</td>\n",
       "      <td>0</td>\n",
       "      <td>0</td>\n",
       "      <td>0</td>\n",
       "      <td>1</td>\n",
       "      <td>0</td>\n",
       "      <td>1</td>\n",
       "      <td>0</td>\n",
       "    </tr>\n",
       "    <tr>\n",
       "      <th>4</th>\n",
       "      <td>57</td>\n",
       "      <td>0</td>\n",
       "      <td>1</td>\n",
       "      <td>1</td>\n",
       "      <td>0</td>\n",
       "      <td>1</td>\n",
       "      <td>45</td>\n",
       "      <td>1</td>\n",
       "      <td>999</td>\n",
       "      <td>1</td>\n",
       "      <td>...</td>\n",
       "      <td>0</td>\n",
       "      <td>0</td>\n",
       "      <td>0</td>\n",
       "      <td>0</td>\n",
       "      <td>1</td>\n",
       "      <td>1</td>\n",
       "      <td>0</td>\n",
       "      <td>1</td>\n",
       "      <td>0</td>\n",
       "      <td>0</td>\n",
       "    </tr>\n",
       "  </tbody>\n",
       "</table>\n",
       "<p>5 rows × 42 columns</p>\n",
       "</div>"
      ],
      "text/plain": [
       "   age  default  housing  loan  month  day_of_week  duration  campaign  pdays  \\\n",
       "0   40        0        1     0      7            2       180         1    999   \n",
       "1   49        0        0     0      4            1       464         2    999   \n",
       "2   41        0        1     0      4            0       307         1    999   \n",
       "3   54        0        1     0      4            1       111         2    999   \n",
       "4   57        0        1     1      0            1        45         1    999   \n",
       "\n",
       "   previous  ...  education_basic.9y  education_high.school  \\\n",
       "0         1  ...                   0                      0   \n",
       "1         0  ...                   0                      0   \n",
       "2         0  ...                   1                      0   \n",
       "3         0  ...                   1                      0   \n",
       "4         1  ...                   0                      0   \n",
       "\n",
       "   education_illiterate  education_professional.course  \\\n",
       "0                     0                              1   \n",
       "1                     0                              1   \n",
       "2                     0                              0   \n",
       "3                     0                              0   \n",
       "4                     0                              0   \n",
       "\n",
       "   education_university.degree  contact_cellular  contact_telephone  \\\n",
       "0                            0                 1                  0   \n",
       "1                            0                 0                  1   \n",
       "2                            0                 0                  1   \n",
       "3                            0                 0                  1   \n",
       "4                            1                 1                  0   \n",
       "\n",
       "   poutcome_failure  poutcome_nonexistent  poutcome_success  \n",
       "0                 1                     0                 0  \n",
       "1                 0                     1                 0  \n",
       "2                 0                     1                 0  \n",
       "3                 0                     1                 0  \n",
       "4                 1                     0                 0  \n",
       "\n",
       "[5 rows x 42 columns]"
      ]
     },
     "execution_count": 4,
     "metadata": {},
     "output_type": "execute_result"
    }
   ],
   "source": [
    "df.head()"
   ]
  },
  {
   "cell_type": "markdown",
   "metadata": {},
   "source": [
    "### Modelling"
   ]
  },
  {
   "cell_type": "markdown",
   "metadata": {},
   "source": [
    "1. Split dataset into training and test set"
   ]
  },
  {
   "cell_type": "code",
   "execution_count": 5,
   "metadata": {},
   "outputs": [],
   "source": [
    "from sklearn.model_selection import train_test_split\n",
    "\n",
    "X = df.drop('y', axis=1)\n",
    "y = df['y']\n",
    "\n",
    "X_train, X_test, y_train, y_test = train_test_split(X, y, test_size=0.33, random_state=42)"
   ]
  },
  {
   "cell_type": "code",
   "execution_count": 6,
   "metadata": {},
   "outputs": [],
   "source": [
    "# Set up timer\n",
    "t = Timer()"
   ]
  },
  {
   "cell_type": "markdown",
   "metadata": {},
   "source": [
    "## SVM"
   ]
  },
  {
   "cell_type": "markdown",
   "metadata": {},
   "source": [
    "1. Default SVC model"
   ]
  },
  {
   "cell_type": "code",
   "execution_count": 7,
   "metadata": {},
   "outputs": [
    {
     "name": "stdout",
     "output_type": "stream",
     "text": [
      "Elapsed time: 10.9098 seconds\n",
      "Train Accuracy of SVC, C=1: 0.833\n",
      "Train Precision of SVC, C=1: 0.763\n",
      "Train Recall of SVC, C=1: 0.475\n",
      "Train F1 of SVC, C=1: 0.585\n",
      "Train ROC AUC of SVC, C=1: 0.713\n",
      "---\n",
      "Test Accuracy of SVC, C=1: 0.846\n",
      "Test Precision of SVC, C=1: 0.773\n",
      "Test Recall of SVC, C=1: 0.482\n",
      "Test F1 of SVC, C=1: 0.594\n",
      "Test ROC AUC of SVC, C=1: 0.719\n"
     ]
    }
   ],
   "source": [
    "from sklearn.svm import SVC\n",
    "from sklearn.model_selection import learning_curve\n",
    "from sklearn.metrics import classification_report,confusion_matrix, accuracy_score,roc_curve,roc_auc_score\n",
    "from sklearn.metrics import recall_score, precision_score, f1_score\n",
    "\n",
    "t.start()\n",
    "svc_base = SVC(C=1)\n",
    "svc_base.fit(X_train, y_train)\n",
    "y_pred_svc_base_train = svc_base.predict(X_train)\n",
    "y_pred_svc_base_test = svc_base.predict(X_test)\n",
    "t.stop()\n",
    "\n",
    "accuracy_train = accuracy_score(y_train, y_pred_svc_base_train)\n",
    "precision_train = precision_score(y_train, y_pred_svc_base_train)\n",
    "recall_train = recall_score(y_train, y_pred_svc_base_train)\n",
    "f1_train = f1_score(y_train, y_pred_svc_base_train)\n",
    "roc_auc_train = roc_auc_score(y_train, y_pred_svc_base_train)\n",
    "\n",
    "accuracy_test = accuracy_score(y_test, y_pred_svc_base_test)\n",
    "precision_test = precision_score(y_test, y_pred_svc_base_test)\n",
    "recall_test = recall_score(y_test, y_pred_svc_base_test)\n",
    "f1_test = f1_score(y_test, y_pred_svc_base_test)\n",
    "roc_auc_test = roc_auc_score(y_test, y_pred_svc_base_test)\n",
    "\n",
    "\n",
    "print(f\"Train Accuracy of SVC, C=1: {accuracy_train:.3f}\")\n",
    "print(f\"Train Precision of SVC, C=1: {precision_train:.3f}\")\n",
    "print(f\"Train Recall of SVC, C=1: {recall_train:.3f}\")\n",
    "print(f\"Train F1 of SVC, C=1: {f1_train:.3f}\")\n",
    "print(f\"Train ROC AUC of SVC, C=1: {roc_auc_train:.3f}\")\n",
    "\n",
    "print(\"---\")\n",
    "print(f\"Test Accuracy of SVC, C=1: {accuracy_test:.3f}\")\n",
    "print(f\"Test Precision of SVC, C=1: {precision_test:.3f}\")\n",
    "print(f\"Test Recall of SVC, C=1: {recall_test:.3f}\")\n",
    "print(f\"Test F1 of SVC, C=1: {f1_test:.3f}\")\n",
    "print(f\"Test ROC AUC of SVC, C=1: {roc_auc_test:.3f}\")"
   ]
  },
  {
   "cell_type": "markdown",
   "metadata": {},
   "source": [
    "Use Cross Validation for default model"
   ]
  },
  {
   "cell_type": "code",
   "execution_count": 8,
   "metadata": {},
   "outputs": [
    {
     "name": "stdout",
     "output_type": "stream",
     "text": [
      "Elapsed time: 29.9018 seconds\n"
     ]
    }
   ],
   "source": [
    "from sklearn.model_selection import cross_validate,cross_val_predict\n",
    "\n",
    "t.start()\n",
    "svc_base_res_base = cross_validate(\n",
    "      estimator=svc_base,\n",
    "      X=X_train,\n",
    "      y=y_train,\n",
    "      cv=5,\n",
    "      scoring=['accuracy', 'precision', 'recall', 'f1'],\n",
    "      return_train_score=True\n",
    "      )\n",
    "t.stop()"
   ]
  },
  {
   "cell_type": "markdown",
   "metadata": {},
   "source": [
    "Collect mean of all scores"
   ]
  },
  {
   "cell_type": "code",
   "execution_count": 9,
   "metadata": {},
   "outputs": [
    {
     "name": "stdout",
     "output_type": "stream",
     "text": [
      "train_accuracy: 0.831\n",
      "train_precision: 0.763\n",
      "train_recall: 0.462\n",
      "train_f1: 0.575\n",
      "----\n",
      "test_accuracy: 0.831\n",
      "test_precision: 0.764\n",
      "test_recall: 0.461\n",
      "test_f1: 0.575\n"
     ]
    }
   ],
   "source": [
    "training_metrics = [\"train_accuracy\", \"train_precision\", \"train_recall\", \"train_f1\"]\n",
    "testing_metrics = [\"test_accuracy\", \"test_precision\", \"test_recall\", \"test_f1\"]\n",
    "for m in training_metrics:\n",
    "    print(f\"{m}: {np.mean(svc_base_res_base[m]):.3f}\")\n",
    "print(\"----\")\n",
    "for m in testing_metrics:\n",
    "    print(f\"{m}: {np.mean(svc_base_res_base[m]):.3f}\")"
   ]
  },
  {
   "cell_type": "markdown",
   "metadata": {},
   "source": [
    "Plot learning curve of default SVC"
   ]
  },
  {
   "cell_type": "code",
   "execution_count": 10,
   "metadata": {},
   "outputs": [
    {
     "data": {
      "image/png": "[encoded data removed]",
      "text/plain": [
       "<Figure size 1440x360 with 3 Axes>"
      ]
     },
     "metadata": {
      "needs_background": "light"
     },
     "output_type": "display_data"
    }
   ],
   "source": [
    "title = \"SVC, C=1\"\n",
    "plot_learning_curve(\n",
    "    svc_base, title, X_train, y_train, ylim=(0.7, 1.01), cv=5, n_jobs=4\n",
    ")\n",
    "\n",
    "plt.show()"
   ]
  },
  {
   "cell_type": "code",
   "execution_count": 11,
   "metadata": {},
   "outputs": [
    {
     "name": "stdout",
     "output_type": "stream",
     "text": [
      "Train Accuracy of SVC, C=1: 0.831\n",
      "Train Precision of SVC, C=1: 0.764\n",
      "Train Recall of SVC, C=1: 0.461\n",
      "Train F1 of SVC, C=1: 0.575\n",
      "Train ROC AUC of SVC, C=1: 0.707\n",
      "---\n",
      "Test Accuracy of SVC, C=1: 0.830\n",
      "Test Precision of SVC, C=1: 0.792\n",
      "Test Recall of SVC, C=1: 0.370\n",
      "Test F1 of SVC, C=1: 0.504\n",
      "Test ROC AUC of SVC, C=1: 0.670\n"
     ]
    }
   ],
   "source": [
    "y_pred_svc_base_train = cross_val_predict(svc_base, X_train, y_train, cv=5)\n",
    "y_pred_svc_base_test = cross_val_predict(svc_base, X_test, y_test, cv=5)\n",
    "\n",
    "accuracy_train = accuracy_score(y_train, y_pred_svc_base_train)\n",
    "precision_train = precision_score(y_train, y_pred_svc_base_train)\n",
    "recall_train = recall_score(y_train, y_pred_svc_base_train)\n",
    "f1_train = f1_score(y_train, y_pred_svc_base_train)\n",
    "roc_auc_train = roc_auc_score(y_train, y_pred_svc_base_train)\n",
    "\n",
    "accuracy_test = accuracy_score(y_test, y_pred_svc_base_test)\n",
    "precision_test = precision_score(y_test, y_pred_svc_base_test)\n",
    "recall_test = recall_score(y_test, y_pred_svc_base_test)\n",
    "f1_test = f1_score(y_test, y_pred_svc_base_test)\n",
    "roc_auc_test = roc_auc_score(y_test, y_pred_svc_base_test)\n",
    "\n",
    "print(f\"Train Accuracy of SVC, C=1: {accuracy_train:.3f}\")\n",
    "print(f\"Train Precision of SVC, C=1: {precision_train:.3f}\")\n",
    "print(f\"Train Recall of SVC, C=1: {recall_train:.3f}\")\n",
    "print(f\"Train F1 of SVC, C=1: {f1_train:.3f}\")\n",
    "print(f\"Train ROC AUC of SVC, C=1: {roc_auc_train:.3f}\")\n",
    "\n",
    "print(\"---\")\n",
    "print(f\"Test Accuracy of SVC, C=1: {accuracy_test:.3f}\")\n",
    "print(f\"Test Precision of SVC, C=1: {precision_test:.3f}\")\n",
    "print(f\"Test Recall of SVC, C=1: {recall_test:.3f}\")\n",
    "print(f\"Test F1 of SVC, C=1: {f1_test:.3f}\")\n",
    "print(f\"Test ROC AUC of SVC, C=1: {roc_auc_test:.3f}\")"
   ]
  },
  {
   "cell_type": "markdown",
   "metadata": {},
   "source": [
    "Perform a hyperparameter tuning"
   ]
  },
  {
   "cell_type": "code",
   "execution_count": 12,
   "metadata": {},
   "outputs": [],
   "source": [
    "# Try with different kernels and C (reg parameter)\n",
    "kernels = [\"linear\", \"poly\", \"rbf\", \"sigmoid\"]\n",
    "regs = [0.0001, 0.001, 0.01, 0.1, 1]"
   ]
  },
  {
   "cell_type": "code",
   "execution_count": 13,
   "metadata": {},
   "outputs": [
    {
     "name": "stdout",
     "output_type": "stream",
     "text": [
      "Training for linear, 0.0001\n",
      "Training for linear, 0.001\n",
      "Training for linear, 0.01\n",
      "Training for linear, 0.1\n",
      "Training for linear, 1\n",
      "Training for poly, 0.0001\n"
     ]
    },
    {
     "name": "stderr",
     "output_type": "stream",
     "text": [
      "/Users/edwin/.virtualenvs/env/lib/python3.9/site-packages/sklearn/metrics/_classification.py:1334: UndefinedMetricWarning: Precision is ill-defined and being set to 0.0 due to no predicted samples. Use `zero_division` parameter to control this behavior.\n",
      "  _warn_prf(average, modifier, msg_start, len(result))\n",
      "/Users/edwin/.virtualenvs/env/lib/python3.9/site-packages/sklearn/metrics/_classification.py:1334: UndefinedMetricWarning: Precision is ill-defined and being set to 0.0 due to no predicted samples. Use `zero_division` parameter to control this behavior.\n",
      "  _warn_prf(average, modifier, msg_start, len(result))\n"
     ]
    },
    {
     "name": "stdout",
     "output_type": "stream",
     "text": [
      "Training for poly, 0.001\n"
     ]
    },
    {
     "name": "stderr",
     "output_type": "stream",
     "text": [
      "/Users/edwin/.virtualenvs/env/lib/python3.9/site-packages/sklearn/metrics/_classification.py:1334: UndefinedMetricWarning: Precision is ill-defined and being set to 0.0 due to no predicted samples. Use `zero_division` parameter to control this behavior.\n",
      "  _warn_prf(average, modifier, msg_start, len(result))\n",
      "/Users/edwin/.virtualenvs/env/lib/python3.9/site-packages/sklearn/metrics/_classification.py:1334: UndefinedMetricWarning: Precision is ill-defined and being set to 0.0 due to no predicted samples. Use `zero_division` parameter to control this behavior.\n",
      "  _warn_prf(average, modifier, msg_start, len(result))\n"
     ]
    },
    {
     "name": "stdout",
     "output_type": "stream",
     "text": [
      "Training for poly, 0.01\n",
      "Training for poly, 0.1\n",
      "Training for poly, 1\n",
      "Training for rbf, 0.0001\n"
     ]
    },
    {
     "name": "stderr",
     "output_type": "stream",
     "text": [
      "/Users/edwin/.virtualenvs/env/lib/python3.9/site-packages/sklearn/metrics/_classification.py:1334: UndefinedMetricWarning: Precision is ill-defined and being set to 0.0 due to no predicted samples. Use `zero_division` parameter to control this behavior.\n",
      "  _warn_prf(average, modifier, msg_start, len(result))\n",
      "/Users/edwin/.virtualenvs/env/lib/python3.9/site-packages/sklearn/metrics/_classification.py:1334: UndefinedMetricWarning: Precision is ill-defined and being set to 0.0 due to no predicted samples. Use `zero_division` parameter to control this behavior.\n",
      "  _warn_prf(average, modifier, msg_start, len(result))\n"
     ]
    },
    {
     "name": "stdout",
     "output_type": "stream",
     "text": [
      "Training for rbf, 0.001\n"
     ]
    },
    {
     "name": "stderr",
     "output_type": "stream",
     "text": [
      "/Users/edwin/.virtualenvs/env/lib/python3.9/site-packages/sklearn/metrics/_classification.py:1334: UndefinedMetricWarning: Precision is ill-defined and being set to 0.0 due to no predicted samples. Use `zero_division` parameter to control this behavior.\n",
      "  _warn_prf(average, modifier, msg_start, len(result))\n",
      "/Users/edwin/.virtualenvs/env/lib/python3.9/site-packages/sklearn/metrics/_classification.py:1334: UndefinedMetricWarning: Precision is ill-defined and being set to 0.0 due to no predicted samples. Use `zero_division` parameter to control this behavior.\n",
      "  _warn_prf(average, modifier, msg_start, len(result))\n"
     ]
    },
    {
     "name": "stdout",
     "output_type": "stream",
     "text": [
      "Training for rbf, 0.01\n"
     ]
    },
    {
     "name": "stderr",
     "output_type": "stream",
     "text": [
      "/Users/edwin/.virtualenvs/env/lib/python3.9/site-packages/sklearn/metrics/_classification.py:1334: UndefinedMetricWarning: Precision is ill-defined and being set to 0.0 due to no predicted samples. Use `zero_division` parameter to control this behavior.\n",
      "  _warn_prf(average, modifier, msg_start, len(result))\n",
      "/Users/edwin/.virtualenvs/env/lib/python3.9/site-packages/sklearn/metrics/_classification.py:1334: UndefinedMetricWarning: Precision is ill-defined and being set to 0.0 due to no predicted samples. Use `zero_division` parameter to control this behavior.\n",
      "  _warn_prf(average, modifier, msg_start, len(result))\n"
     ]
    },
    {
     "name": "stdout",
     "output_type": "stream",
     "text": [
      "Training for rbf, 0.1\n",
      "Training for rbf, 1\n",
      "Training for sigmoid, 0.0001\n"
     ]
    },
    {
     "name": "stderr",
     "output_type": "stream",
     "text": [
      "/Users/edwin/.virtualenvs/env/lib/python3.9/site-packages/sklearn/metrics/_classification.py:1334: UndefinedMetricWarning: Precision is ill-defined and being set to 0.0 due to no predicted samples. Use `zero_division` parameter to control this behavior.\n",
      "  _warn_prf(average, modifier, msg_start, len(result))\n",
      "/Users/edwin/.virtualenvs/env/lib/python3.9/site-packages/sklearn/metrics/_classification.py:1334: UndefinedMetricWarning: Precision is ill-defined and being set to 0.0 due to no predicted samples. Use `zero_division` parameter to control this behavior.\n",
      "  _warn_prf(average, modifier, msg_start, len(result))\n"
     ]
    },
    {
     "name": "stdout",
     "output_type": "stream",
     "text": [
      "Training for sigmoid, 0.001\n"
     ]
    },
    {
     "name": "stderr",
     "output_type": "stream",
     "text": [
      "/Users/edwin/.virtualenvs/env/lib/python3.9/site-packages/sklearn/metrics/_classification.py:1334: UndefinedMetricWarning: Precision is ill-defined and being set to 0.0 due to no predicted samples. Use `zero_division` parameter to control this behavior.\n",
      "  _warn_prf(average, modifier, msg_start, len(result))\n",
      "/Users/edwin/.virtualenvs/env/lib/python3.9/site-packages/sklearn/metrics/_classification.py:1334: UndefinedMetricWarning: Precision is ill-defined and being set to 0.0 due to no predicted samples. Use `zero_division` parameter to control this behavior.\n",
      "  _warn_prf(average, modifier, msg_start, len(result))\n"
     ]
    },
    {
     "name": "stdout",
     "output_type": "stream",
     "text": [
      "Training for sigmoid, 0.01\n"
     ]
    },
    {
     "name": "stderr",
     "output_type": "stream",
     "text": [
      "/Users/edwin/.virtualenvs/env/lib/python3.9/site-packages/sklearn/metrics/_classification.py:1334: UndefinedMetricWarning: Precision is ill-defined and being set to 0.0 due to no predicted samples. Use `zero_division` parameter to control this behavior.\n",
      "  _warn_prf(average, modifier, msg_start, len(result))\n",
      "/Users/edwin/.virtualenvs/env/lib/python3.9/site-packages/sklearn/metrics/_classification.py:1334: UndefinedMetricWarning: Precision is ill-defined and being set to 0.0 due to no predicted samples. Use `zero_division` parameter to control this behavior.\n",
      "  _warn_prf(average, modifier, msg_start, len(result))\n"
     ]
    },
    {
     "name": "stdout",
     "output_type": "stream",
     "text": [
      "Training for sigmoid, 0.1\n",
      "Training for sigmoid, 1\n"
     ]
    }
   ],
   "source": [
    "hp_scores = {}\n",
    "for k in kernels:\n",
    "    for c in regs:\n",
    "        hp_scores[f\"{k},{c}\"] = {}\n",
    "        print(f\"Training for {k}, {c}\")\n",
    "        svc = SVC(kernel = k, C=c)\n",
    "        svc.fit(X_train, y_train)\n",
    "        y_pred_train = svc.predict(X_train)\n",
    "        y_pred_test = svc.predict(X_test)\n",
    "\n",
    "        train_acc = accuracy_score(y_train,y_pred_train)\n",
    "        train_precision = precision_score(y_train, y_pred_train)\n",
    "        train_recall = recall_score(y_train, y_pred_train)\n",
    "        train_f1 = f1_score(y_train, y_pred_train)\n",
    "        train_roc = roc_auc_score(y_train, y_pred_train)\n",
    "\n",
    "        test_acc = accuracy_score(y_test,y_pred_test)\n",
    "        test_precision = precision_score(y_test, y_pred_test)\n",
    "        test_recall = recall_score(y_test, y_pred_test)\n",
    "        test_f1 = f1_score(y_test, y_pred_test)\n",
    "        test_roc = roc_auc_score(y_test, y_pred_test)\n",
    "    \n",
    "        hp_scores[f\"{k},{c}\"][\"train_acc\"] = train_acc\n",
    "        hp_scores[f\"{k},{c}\"][\"train_precision\"] = train_precision\n",
    "        hp_scores[f\"{k},{c}\"][\"train_recall\"] = train_recall\n",
    "        hp_scores[f\"{k},{c}\"][\"train_f1\"] = train_f1\n",
    "        hp_scores[f\"{k},{c}\"][\"train_roc\"] = train_roc\n",
    "\n",
    "        hp_scores[f\"{k},{c}\"][\"test_acc\"] = test_acc\n",
    "        hp_scores[f\"{k},{c}\"][\"test_precision\"] = test_precision\n",
    "        hp_scores[f\"{k},{c}\"][\"test_recall\"] = test_recall\n",
    "        hp_scores[f\"{k},{c}\"][\"test_f1\"] = test_f1\n",
    "        hp_scores[f\"{k},{c}\"][\"test_roc\"] = test_roc"
   ]
  },
  {
   "cell_type": "code",
   "execution_count": 14,
   "metadata": {},
   "outputs": [],
   "source": [
    "hp_scores_df = pd.DataFrame(hp_scores)"
   ]
  },
  {
   "cell_type": "code",
   "execution_count": 15,
   "metadata": {},
   "outputs": [
    {
     "data": {
      "text/plain": [
       "train_acc          linear,0.001\n",
       "train_precision       poly,0.01\n",
       "train_recall       linear,0.001\n",
       "train_f1           linear,0.001\n",
       "train_roc          linear,0.001\n",
       "test_acc           linear,0.001\n",
       "test_precision          rbf,0.1\n",
       "test_recall        linear,0.001\n",
       "test_f1            linear,0.001\n",
       "test_roc           linear,0.001\n",
       "dtype: object"
      ]
     },
     "execution_count": 15,
     "metadata": {},
     "output_type": "execute_result"
    }
   ],
   "source": [
    "hp_scores_df.idxmax(axis=1)"
   ]
  },
  {
   "cell_type": "code",
   "execution_count": 16,
   "metadata": {},
   "outputs": [],
   "source": [
    "lin_columns = [c for c in hp_scores_df.columns if c.startswith(\"linear,\")]\n",
    "poly_columns = [c for c in hp_scores_df.columns if c.startswith(\"poly,\")]\n",
    "rbf_columns = [c for c in hp_scores_df.columns if c.startswith(\"rbf,\")]\n",
    "sig_columns = [c for c in hp_scores_df.columns if c.startswith(\"sigmoid,\")]\n",
    "\n",
    "lin_roc_scores_test = hp_scores_df.loc[\"test_roc\", lin_columns]\n",
    "poly_roc_scores_test = hp_scores_df.loc[\"test_roc\", poly_columns]\n",
    "rbf_roc_scores_test = hp_scores_df.loc[\"test_roc\", rbf_columns]\n",
    "sig_roc_scores_test = hp_scores_df.loc[\"test_roc\", sig_columns]"
   ]
  },
  {
   "cell_type": "code",
   "execution_count": 17,
   "metadata": {},
   "outputs": [
    {
     "data": {
      "text/plain": [
       "(array([-0.2,  0. ,  0.2,  0.4,  0.6,  0.8,  1. ,  1.2]),\n",
       " [Text(0, 0, ''),\n",
       "  Text(0, 0, ''),\n",
       "  Text(0, 0, ''),\n",
       "  Text(0, 0, ''),\n",
       "  Text(0, 0, ''),\n",
       "  Text(0, 0, ''),\n",
       "  Text(0, 0, ''),\n",
       "  Text(0, 0, '')])"
      ]
     },
     "execution_count": 17,
     "metadata": {},
     "output_type": "execute_result"
    },
    {
     "data": {
      "image/png": "[encoded data removed]",
      "text/plain": [
       "<Figure size 432x288 with 1 Axes>"
      ]
     },
     "metadata": {
      "needs_background": "light"
     },
     "output_type": "display_data"
    }
   ],
   "source": [
    "fig, ax = plt.subplots()\n",
    "\n",
    "ax.plot(\n",
    "    regs,\n",
    "    lin_roc_scores_test,\n",
    "    color='black', \n",
    "    linestyle='dashed', \n",
    "    marker='o',\n",
    "    markerfacecolor='black', \n",
    "    markersize=8,\n",
    "    label=\"linear\"\n",
    ")\n",
    "ax.plot(\n",
    "    regs,\n",
    "    poly_roc_scores_test,\n",
    "    color='blue', \n",
    "    linestyle='dashed', \n",
    "    marker='o',\n",
    "    markerfacecolor='blue', \n",
    "    markersize=8,\n",
    "    label=\"polynomial\"\n",
    ")\n",
    "ax.plot(\n",
    "    regs,\n",
    "    rbf_roc_scores_test,\n",
    "    color='red', \n",
    "    linestyle='dashed', \n",
    "    marker='o',\n",
    "    markerfacecolor='red', \n",
    "    markersize=8,\n",
    "    label=\"rbf\"\n",
    ")\n",
    "ax.plot(\n",
    "    regs,\n",
    "    sig_roc_scores_test,\n",
    "    color='green', \n",
    "    linestyle='dashed', \n",
    "    marker='o',\n",
    "    markerfacecolor='green', \n",
    "    markersize=8,\n",
    "    label=\"rbf\"\n",
    ")\n",
    "plt.title('ROC vs. C')\n",
    "plt.xlabel('C')\n",
    "plt.ylabel('ROC Score')\n",
    "plt.legend()\n",
    "plt.xticks()"
   ]
  },
  {
   "cell_type": "markdown",
   "metadata": {},
   "source": [
    "It seems that kernel=linear and C=0.001 provided the best scores. We will train the model again with these settings"
   ]
  },
  {
   "cell_type": "markdown",
   "metadata": {},
   "source": [
    "Advanced model"
   ]
  },
  {
   "cell_type": "code",
   "execution_count": 18,
   "metadata": {},
   "outputs": [
    {
     "name": "stdout",
     "output_type": "stream",
     "text": [
      "Elapsed time: 6.0739 seconds\n",
      "Train Accuracy of SVC, kernel=linear, C=0.001: 0.857\n",
      "Train Precision of SVC, kernel=linear, C=0.001: 0.763\n",
      "Train Recall of SVC, kernel=linear, C=0.001: 0.615\n",
      "Train F1 of SVC, kernel=linear, C=0.001: 0.681\n",
      "Train ROC AUC of SVC, kernel=linear, C=0.001: 0.776\n",
      "---\n",
      "Test Accuracy of SVC, kernel=linear, C=0.001: 0.861\n",
      "Test Precision of SVC, kernel=linear, C=0.001: 0.751\n",
      "Test Recall of SVC, kernel=linear, C=0.001: 0.605\n",
      "Test F1 of SVC, kernel=linear, C=0.001: 0.670\n",
      "Test ROC AUC of SVC, kernel=linear, C=0.001: 0.772\n"
     ]
    }
   ],
   "source": [
    "t.start()\n",
    "svc_adv = SVC(C=0.001, kernel=\"linear\")\n",
    "svc_adv.fit(X_train, y_train)\n",
    "y_pred_svc_adv_train = svc_adv.predict(X_train)\n",
    "y_pred_svc_adv_test = svc_adv.predict(X_test)\n",
    "t.stop()\n",
    "\n",
    "accuracy_train = accuracy_score(y_train, y_pred_svc_adv_train)\n",
    "precision_train = precision_score(y_train, y_pred_svc_adv_train)\n",
    "recall_train = recall_score(y_train, y_pred_svc_adv_train)\n",
    "f1_train = f1_score(y_train, y_pred_svc_adv_train)\n",
    "roc_auc_train = roc_auc_score(y_train, y_pred_svc_adv_train)\n",
    "\n",
    "accuracy_test = accuracy_score(y_test, y_pred_svc_adv_test)\n",
    "precision_test = precision_score(y_test, y_pred_svc_adv_test)\n",
    "recall_test = recall_score(y_test, y_pred_svc_adv_test)\n",
    "f1_test = f1_score(y_test, y_pred_svc_adv_test)\n",
    "roc_auc_test = roc_auc_score(y_test, y_pred_svc_adv_test)\n",
    "\n",
    "print(f\"Train Accuracy of SVC, kernel=linear, C=0.001: {accuracy_train:.3f}\")\n",
    "print(f\"Train Precision of SVC, kernel=linear, C=0.001: {precision_train:.3f}\")\n",
    "print(f\"Train Recall of SVC, kernel=linear, C=0.001: {recall_train:.3f}\")\n",
    "print(f\"Train F1 of SVC, kernel=linear, C=0.001: {f1_train:.3f}\")\n",
    "print(f\"Train ROC AUC of SVC, kernel=linear, C=0.001: {roc_auc_train:.3f}\")\n",
    "\n",
    "print(\"---\")\n",
    "print(f\"Test Accuracy of SVC, kernel=linear, C=0.001: {accuracy_test:.3f}\")\n",
    "print(f\"Test Precision of SVC, kernel=linear, C=0.001: {precision_test:.3f}\")\n",
    "print(f\"Test Recall of SVC, kernel=linear, C=0.001: {recall_test:.3f}\")\n",
    "print(f\"Test F1 of SVC, kernel=linear, C=0.001: {f1_test:.3f}\")\n",
    "print(f\"Test ROC AUC of SVC, kernel=linear, C=0.001: {roc_auc_test:.3f}\")\n"
   ]
  },
  {
   "cell_type": "code",
   "execution_count": 19,
   "metadata": {},
   "outputs": [
    {
     "name": "stdout",
     "output_type": "stream",
     "text": [
      "Elapsed time: 16.3796 seconds\n"
     ]
    }
   ],
   "source": [
    "from sklearn.model_selection import cross_validate,cross_val_predict\n",
    "\n",
    "t.start()\n",
    "svc_base_res_adv = cross_validate(\n",
    "      estimator=svc_adv,\n",
    "      X=X_train,\n",
    "      y=y_train,\n",
    "      cv=5,\n",
    "      scoring=['accuracy', 'precision', 'recall', 'f1'],\n",
    "      return_train_score=True\n",
    "      )\n",
    "t.stop()"
   ]
  },
  {
   "cell_type": "code",
   "execution_count": 20,
   "metadata": {},
   "outputs": [
    {
     "name": "stdout",
     "output_type": "stream",
     "text": [
      "train_accuracy: 0.857\n",
      "train_precision: 0.764\n",
      "train_recall: 0.613\n",
      "train_f1: 0.680\n",
      "----\n",
      "test_accuracy: 0.856\n",
      "test_precision: 0.761\n",
      "test_recall: 0.613\n",
      "test_f1: 0.679\n"
     ]
    }
   ],
   "source": [
    "for m in training_metrics:\n",
    "    print(f\"{m}: {np.mean(svc_base_res_adv[m]):.3f}\")\n",
    "print(\"----\")\n",
    "for m in testing_metrics:\n",
    "    print(f\"{m}: {np.mean(svc_base_res_adv[m]):.3f}\")"
   ]
  },
  {
   "cell_type": "code",
   "execution_count": 21,
   "metadata": {},
   "outputs": [
    {
     "data": {
      "image/png": "[encoded data removed]",
      "text/plain": [
       "<Figure size 1440x360 with 3 Axes>"
      ]
     },
     "metadata": {
      "needs_background": "light"
     },
     "output_type": "display_data"
    }
   ],
   "source": [
    "title = \"SVC, kernel=linear, C=0.001\"\n",
    "plot_learning_curve(\n",
    "    svc_adv, title, X_train, y_train, ylim=(0.7, 1.01), cv=5, n_jobs=4\n",
    ")\n",
    "\n",
    "plt.show()"
   ]
  },
  {
   "cell_type": "code",
   "execution_count": 22,
   "metadata": {},
   "outputs": [
    {
     "name": "stdout",
     "output_type": "stream",
     "text": [
      "Train Accuracy of SVC, kernel=linear, C=0.001: 0.856\n",
      "Train Precision of SVC, kernel=linear, C=0.001: 0.761\n",
      "Train Recall of SVC, kernel=linear, C=0.001: 0.613\n",
      "Train F1 of SVC, kernel=linear, C=0.001: 0.679\n",
      "Train ROC AUC of SVC, kernel=linear, C=0.001: 0.775\n",
      "---\n",
      "Test Accuracy of SVC, kernel=linear, C=0.001: 0.861\n",
      "Test Precision of SVC, kernel=linear, C=0.001: 0.762\n",
      "Test Recall of SVC, kernel=linear, C=0.001: 0.589\n",
      "Test F1 of SVC, kernel=linear, C=0.001: 0.664\n",
      "Test ROC AUC of SVC, kernel=linear, C=0.001: 0.766\n"
     ]
    }
   ],
   "source": [
    "y_pred_svc_adv_train = cross_val_predict(svc_adv, X_train, y_train, cv=5)\n",
    "y_pred_svc_adv_test = cross_val_predict(svc_adv, X_test, y_test, cv=5)\n",
    "\n",
    "accuracy_train = accuracy_score(y_train, y_pred_svc_adv_train)\n",
    "precision_train = precision_score(y_train, y_pred_svc_adv_train)\n",
    "recall_train = recall_score(y_train, y_pred_svc_adv_train)\n",
    "f1_train = f1_score(y_train, y_pred_svc_adv_train)\n",
    "roc_auc_train = roc_auc_score(y_train, y_pred_svc_adv_train)\n",
    "\n",
    "accuracy_test = accuracy_score(y_test, y_pred_svc_adv_test)\n",
    "precision_test = precision_score(y_test, y_pred_svc_adv_test)\n",
    "recall_test = recall_score(y_test, y_pred_svc_adv_test)\n",
    "f1_test = f1_score(y_test, y_pred_svc_adv_test)\n",
    "roc_auc_test = roc_auc_score(y_test, y_pred_svc_adv_test)\n",
    "\n",
    "print(f\"Train Accuracy of SVC, kernel=linear, C=0.001: {accuracy_train:.3f}\")\n",
    "print(f\"Train Precision of SVC, kernel=linear, C=0.001: {precision_train:.3f}\")\n",
    "print(f\"Train Recall of SVC, kernel=linear, C=0.001: {recall_train:.3f}\")\n",
    "print(f\"Train F1 of SVC, kernel=linear, C=0.001: {f1_train:.3f}\")\n",
    "print(f\"Train ROC AUC of SVC, kernel=linear, C=0.001: {roc_auc_train:.3f}\")\n",
    "\n",
    "print(\"---\")\n",
    "print(f\"Test Accuracy of SVC, kernel=linear, C=0.001: {accuracy_test:.3f}\")\n",
    "print(f\"Test Precision of SVC, kernel=linear, C=0.001: {precision_test:.3f}\")\n",
    "print(f\"Test Recall of SVC, kernel=linear, C=0.001: {recall_test:.3f}\")\n",
    "print(f\"Test F1 of SVC, kernel=linear, C=0.001: {f1_test:.3f}\")\n",
    "print(f\"Test ROC AUC of SVC, kernel=linear, C=0.001: {roc_auc_test:.3f}\")"
   ]
  },
  {
   "cell_type": "code",
   "execution_count": 23,
   "metadata": {},
   "outputs": [],
   "source": [
    "y_pred_base_svc_train_f = svc_base.predict(X_train)\n",
    "y_pred_adv_svc_train_f = svc_adv.predict(X_train)\n",
    "\n",
    "accuracy_base_train = accuracy_score(y_train, y_pred_base_svc_train_f)\n",
    "precision_base_train = precision_score(y_train, y_pred_base_svc_train_f)\n",
    "recall_base_train = recall_score(y_train, y_pred_base_svc_train_f)\n",
    "f1_base_train = f1_score(y_train, y_pred_base_svc_train_f)\n",
    "roc_base_train = roc_auc_score(y_train, y_pred_base_svc_train_f)\n",
    "\n",
    "accuracy_adv_train = accuracy_score(y_train, y_pred_adv_svc_train_f)\n",
    "precision_adv_train = precision_score(y_train, y_pred_adv_svc_train_f)\n",
    "recall_adv_train = recall_score(y_train, y_pred_adv_svc_train_f)\n",
    "f1_adv_train = f1_score(y_train, y_pred_adv_svc_train_f)\n",
    "roc_adv_train = roc_auc_score(y_train, y_pred_adv_svc_train_f)\n",
    "\n",
    "y_pred_base_svc_test_f = svc_base.predict(X_test)\n",
    "y_pred_adv_svc_test_f = svc_adv.predict(X_test)\n",
    "\n",
    "accuracy_base_test = accuracy_score(y_test, y_pred_base_svc_test_f)\n",
    "precision_base_test = precision_score(y_test, y_pred_base_svc_test_f)\n",
    "recall_base_test = recall_score(y_test, y_pred_base_svc_test_f)\n",
    "f1_base_test = f1_score(y_test, y_pred_base_svc_test_f)\n",
    "roc_base_test = roc_auc_score(y_test, y_pred_base_svc_test_f)\n",
    "\n",
    "accuracy_adv_test = accuracy_score(y_test, y_pred_adv_svc_test_f)\n",
    "precision_adv_test = precision_score(y_test, y_pred_adv_svc_test_f)\n",
    "recall_adv_test = recall_score(y_test, y_pred_adv_svc_test_f)\n",
    "f1_adv_test = f1_score(y_test, y_pred_adv_svc_test_f)\n",
    "roc_adv_test = roc_auc_score(y_test, y_pred_adv_svc_test_f)"
   ]
  },
  {
   "cell_type": "code",
   "execution_count": 24,
   "metadata": {},
   "outputs": [
    {
     "name": "stdout",
     "output_type": "stream",
     "text": [
      "Final - Training Set Performance\n",
      "Train Accuracy of Base SVC: 0.833\n",
      "Train Precision of Base SVC: 0.763\n",
      "Train Recall of Base SVC: 0.475\n",
      "Train F1 of Base SVC: 0.585\n",
      "Train ROC of Base SVC: 0.713\n",
      "-\n",
      "Train Accuracy of Adv SVC: 0.857\n",
      "Train Precision of Adv SVC: 0.763\n",
      "Train Recall of Adv SVC: 0.615\n",
      "Train F1 of Adv SVC: 0.681\n",
      "Train ROC of Adv SVC: 0.776\n",
      "---\n",
      "Test Accuracy of Base SVC: 0.846\n",
      "Test Precision of Base SVC: 0.773\n",
      "Test Recall of Base SVC: 0.482\n",
      "Test F1 of Base SVC: 0.594\n",
      "Test ROC of Base SVC: 0.719\n",
      "-\n",
      "Test Accuracy of Adv SVC: 0.861\n",
      "Test Precision of Adv SVC: 0.751\n",
      "Test Recall of Adv SVC: 0.605\n",
      "Test F1 of Adv SVC: 0.670\n",
      "Test ROC of Adv SVC: 0.772\n"
     ]
    }
   ],
   "source": [
    "print(\"Final - Training Set Performance\")\n",
    "print(f\"Train Accuracy of Base SVC: {accuracy_base_train:.3f}\")\n",
    "print(f\"Train Precision of Base SVC: {precision_base_train:.3f}\")\n",
    "print(f\"Train Recall of Base SVC: {recall_base_train:.3f}\")\n",
    "print(f\"Train F1 of Base SVC: {f1_base_train:.3f}\")\n",
    "print(f\"Train ROC of Base SVC: {roc_base_train:.3f}\")\n",
    "print(\"-\")\n",
    "print(f\"Train Accuracy of Adv SVC: {accuracy_adv_train:.3f}\")\n",
    "print(f\"Train Precision of Adv SVC: {precision_adv_train:.3f}\")\n",
    "print(f\"Train Recall of Adv SVC: {recall_adv_train:.3f}\")\n",
    "print(f\"Train F1 of Adv SVC: {f1_adv_train:.3f}\")\n",
    "print(f\"Train ROC of Adv SVC: {roc_adv_train:.3f}\")\n",
    "\n",
    "print(\"---\")\n",
    "\n",
    "print(f\"Test Accuracy of Base SVC: {accuracy_base_test:.3f}\")\n",
    "print(f\"Test Precision of Base SVC: {precision_base_test:.3f}\")\n",
    "print(f\"Test Recall of Base SVC: {recall_base_test:.3f}\")\n",
    "print(f\"Test F1 of Base SVC: {f1_base_test:.3f}\")\n",
    "print(f\"Test ROC of Base SVC: {roc_base_test:.3f}\")\n",
    "print(\"-\")\n",
    "print(f\"Test Accuracy of Adv SVC: {accuracy_adv_test:.3f}\")\n",
    "print(f\"Test Precision of Adv SVC: {precision_adv_test:.3f}\")\n",
    "print(f\"Test Recall of Adv SVC: {recall_adv_test:.3f}\")\n",
    "print(f\"Test F1 of Adv SVC: {f1_adv_test:.3f}\")\n",
    "print(f\"Test ROC of Adv SVC: {roc_adv_test:.3f}\")"
   ]
  },
  {
   "cell_type": "code",
   "execution_count": 25,
   "metadata": {},
   "outputs": [
    {
     "data": {
      "text/plain": [
       "<matplotlib.legend.Legend at 0x7ff4e22df7c0>"
      ]
     },
     "execution_count": 25,
     "metadata": {},
     "output_type": "execute_result"
    },
    {
     "data": {
      "image/png": "[encoded data removed]",
      "text/plain": [
       "<Figure size 432x288 with 1 Axes>"
      ]
     },
     "metadata": {
      "needs_background": "light"
     },
     "output_type": "display_data"
    }
   ],
   "source": [
    "plt.figure(0).clf()\n",
    "\n",
    "# Basic\n",
    "fpr, tpr, _ = roc_curve(y_train, y_pred_base_svc_train_f)\n",
    "auc = round(roc_auc_score(y_train, y_pred_base_svc_train_f), 4)\n",
    "plt.plot(fpr,tpr,label=\"RBF Kernel SVC - Training, AUC=\"+str(auc), linestyle=\"dotted\")\n",
    "\n",
    "fpr, tpr, _ = roc_curve(y_test, y_pred_base_svc_test_f)\n",
    "auc = round(roc_auc_score(y_test, y_pred_base_svc_test_f), 4)\n",
    "plt.plot(fpr,tpr,label=\"RBF Kernel SVC - Testing, AUC=\"+str(auc), linestyle=\"solid\")\n",
    "\n",
    "# ADV\n",
    "\n",
    "fpr, tpr, _ = roc_curve(y_train, y_pred_adv_svc_train_f)\n",
    "auc = round(roc_auc_score(y_train, y_pred_adv_svc_train_f), 4)\n",
    "plt.plot(fpr,tpr,label=f\"Linear Kernel SVC - Training, AUC=\"+str(auc), linestyle=\"dotted\")\n",
    "plt.legend()\n",
    "\n",
    "fpr, tpr, _ = roc_curve(y_test, y_pred_adv_svc_test_f)\n",
    "auc = round(roc_auc_score(y_test, y_pred_adv_svc_test_f), 4)\n",
    "plt.plot(fpr,tpr,label=f\"Linear Kernel SVC - Testing, AUC=\"+str(auc), linestyle=\"solid\")\n",
    "plt.legend()"
   ]
  }
 ],
 "metadata": {
  "kernelspec": {
   "display_name": "Python 3.9.0 ('env')",
   "language": "python",
   "name": "python3"
  },
  "language_info": {
   "codemirror_mode": {
    "name": "ipython",
    "version": 3
   },
   "file_extension": ".py",
   "mimetype": "text/x-python",
   "name": "python",
   "nbconvert_exporter": "python",
   "pygments_lexer": "ipython3",
   "version": "3.9.0"
  },
  "orig_nbformat": 4,
  "vscode": {
   "interpreter": {
    "hash": "feb712a7b8845ee20af226e60c344eb8ada9fd25c3cb3dd6e0156fe71ad0fb01"
   }
  }
 },
 "nbformat": 4,
 "nbformat_minor": 2
}
