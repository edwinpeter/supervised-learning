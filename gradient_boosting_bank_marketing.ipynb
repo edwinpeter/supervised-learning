{
 "cells": [
  {
   "cell_type": "markdown",
   "metadata": {},
   "source": [
    "# Gradient Boosting"
   ]
  },
  {
   "cell_type": "markdown",
   "metadata": {},
   "source": [
    "This notebook shows the Gradient Boosting model for bank marketing data"
   ]
  },
  {
   "cell_type": "code",
   "execution_count": 2,
   "metadata": {},
   "outputs": [],
   "source": [
    "import pandas as pd\n",
    "import numpy as np\n",
    "import matplotlib.pyplot as plt\n",
    "import seaborn as sns\n",
    "from utils import Timer, plot_learning_curve"
   ]
  },
  {
   "cell_type": "code",
   "execution_count": 3,
   "metadata": {},
   "outputs": [],
   "source": [
    "df = pd.read_csv(\"bank-additional-clean.csv\")"
   ]
  },
  {
   "cell_type": "code",
   "execution_count": 4,
   "metadata": {},
   "outputs": [
    {
     "data": {
      "text/html": [
       "<div>\n",
       "<style scoped>\n",
       "    .dataframe tbody tr th:only-of-type {\n",
       "        vertical-align: middle;\n",
       "    }\n",
       "\n",
       "    .dataframe tbody tr th {\n",
       "        vertical-align: top;\n",
       "    }\n",
       "\n",
       "    .dataframe thead th {\n",
       "        text-align: right;\n",
       "    }\n",
       "</style>\n",
       "<table border=\"1\" class=\"dataframe\">\n",
       "  <thead>\n",
       "    <tr style=\"text-align: right;\">\n",
       "      <th></th>\n",
       "      <th>age</th>\n",
       "      <th>default</th>\n",
       "      <th>housing</th>\n",
       "      <th>loan</th>\n",
       "      <th>month</th>\n",
       "      <th>day_of_week</th>\n",
       "      <th>duration</th>\n",
       "      <th>campaign</th>\n",
       "      <th>pdays</th>\n",
       "      <th>previous</th>\n",
       "      <th>...</th>\n",
       "      <th>education_basic.9y</th>\n",
       "      <th>education_high.school</th>\n",
       "      <th>education_illiterate</th>\n",
       "      <th>education_professional.course</th>\n",
       "      <th>education_university.degree</th>\n",
       "      <th>contact_cellular</th>\n",
       "      <th>contact_telephone</th>\n",
       "      <th>poutcome_failure</th>\n",
       "      <th>poutcome_nonexistent</th>\n",
       "      <th>poutcome_success</th>\n",
       "    </tr>\n",
       "  </thead>\n",
       "  <tbody>\n",
       "    <tr>\n",
       "      <th>0</th>\n",
       "      <td>40</td>\n",
       "      <td>0</td>\n",
       "      <td>1</td>\n",
       "      <td>0</td>\n",
       "      <td>7</td>\n",
       "      <td>2</td>\n",
       "      <td>180</td>\n",
       "      <td>1</td>\n",
       "      <td>999</td>\n",
       "      <td>1</td>\n",
       "      <td>...</td>\n",
       "      <td>0</td>\n",
       "      <td>0</td>\n",
       "      <td>0</td>\n",
       "      <td>1</td>\n",
       "      <td>0</td>\n",
       "      <td>1</td>\n",
       "      <td>0</td>\n",
       "      <td>1</td>\n",
       "      <td>0</td>\n",
       "      <td>0</td>\n",
       "    </tr>\n",
       "    <tr>\n",
       "      <th>1</th>\n",
       "      <td>49</td>\n",
       "      <td>0</td>\n",
       "      <td>0</td>\n",
       "      <td>0</td>\n",
       "      <td>4</td>\n",
       "      <td>1</td>\n",
       "      <td>464</td>\n",
       "      <td>2</td>\n",
       "      <td>999</td>\n",
       "      <td>0</td>\n",
       "      <td>...</td>\n",
       "      <td>0</td>\n",
       "      <td>0</td>\n",
       "      <td>0</td>\n",
       "      <td>1</td>\n",
       "      <td>0</td>\n",
       "      <td>0</td>\n",
       "      <td>1</td>\n",
       "      <td>0</td>\n",
       "      <td>1</td>\n",
       "      <td>0</td>\n",
       "    </tr>\n",
       "    <tr>\n",
       "      <th>2</th>\n",
       "      <td>41</td>\n",
       "      <td>0</td>\n",
       "      <td>1</td>\n",
       "      <td>0</td>\n",
       "      <td>4</td>\n",
       "      <td>0</td>\n",
       "      <td>307</td>\n",
       "      <td>1</td>\n",
       "      <td>999</td>\n",
       "      <td>0</td>\n",
       "      <td>...</td>\n",
       "      <td>1</td>\n",
       "      <td>0</td>\n",
       "      <td>0</td>\n",
       "      <td>0</td>\n",
       "      <td>0</td>\n",
       "      <td>0</td>\n",
       "      <td>1</td>\n",
       "      <td>0</td>\n",
       "      <td>1</td>\n",
       "      <td>0</td>\n",
       "    </tr>\n",
       "    <tr>\n",
       "      <th>3</th>\n",
       "      <td>54</td>\n",
       "      <td>0</td>\n",
       "      <td>1</td>\n",
       "      <td>0</td>\n",
       "      <td>4</td>\n",
       "      <td>1</td>\n",
       "      <td>111</td>\n",
       "      <td>2</td>\n",
       "      <td>999</td>\n",
       "      <td>0</td>\n",
       "      <td>...</td>\n",
       "      <td>1</td>\n",
       "      <td>0</td>\n",
       "      <td>0</td>\n",
       "      <td>0</td>\n",
       "      <td>0</td>\n",
       "      <td>0</td>\n",
       "      <td>1</td>\n",
       "      <td>0</td>\n",
       "      <td>1</td>\n",
       "      <td>0</td>\n",
       "    </tr>\n",
       "    <tr>\n",
       "      <th>4</th>\n",
       "      <td>57</td>\n",
       "      <td>0</td>\n",
       "      <td>1</td>\n",
       "      <td>1</td>\n",
       "      <td>0</td>\n",
       "      <td>1</td>\n",
       "      <td>45</td>\n",
       "      <td>1</td>\n",
       "      <td>999</td>\n",
       "      <td>1</td>\n",
       "      <td>...</td>\n",
       "      <td>0</td>\n",
       "      <td>0</td>\n",
       "      <td>0</td>\n",
       "      <td>0</td>\n",
       "      <td>1</td>\n",
       "      <td>1</td>\n",
       "      <td>0</td>\n",
       "      <td>1</td>\n",
       "      <td>0</td>\n",
       "      <td>0</td>\n",
       "    </tr>\n",
       "  </tbody>\n",
       "</table>\n",
       "<p>5 rows × 42 columns</p>\n",
       "</div>"
      ],
      "text/plain": [
       "   age  default  housing  loan  month  day_of_week  duration  campaign  pdays  \\\n",
       "0   40        0        1     0      7            2       180         1    999   \n",
       "1   49        0        0     0      4            1       464         2    999   \n",
       "2   41        0        1     0      4            0       307         1    999   \n",
       "3   54        0        1     0      4            1       111         2    999   \n",
       "4   57        0        1     1      0            1        45         1    999   \n",
       "\n",
       "   previous  ...  education_basic.9y  education_high.school  \\\n",
       "0         1  ...                   0                      0   \n",
       "1         0  ...                   0                      0   \n",
       "2         0  ...                   1                      0   \n",
       "3         0  ...                   1                      0   \n",
       "4         1  ...                   0                      0   \n",
       "\n",
       "   education_illiterate  education_professional.course  \\\n",
       "0                     0                              1   \n",
       "1                     0                              1   \n",
       "2                     0                              0   \n",
       "3                     0                              0   \n",
       "4                     0                              0   \n",
       "\n",
       "   education_university.degree  contact_cellular  contact_telephone  \\\n",
       "0                            0                 1                  0   \n",
       "1                            0                 0                  1   \n",
       "2                            0                 0                  1   \n",
       "3                            0                 0                  1   \n",
       "4                            1                 1                  0   \n",
       "\n",
       "   poutcome_failure  poutcome_nonexistent  poutcome_success  \n",
       "0                 1                     0                 0  \n",
       "1                 0                     1                 0  \n",
       "2                 0                     1                 0  \n",
       "3                 0                     1                 0  \n",
       "4                 1                     0                 0  \n",
       "\n",
       "[5 rows x 42 columns]"
      ]
     },
     "execution_count": 4,
     "metadata": {},
     "output_type": "execute_result"
    }
   ],
   "source": [
    "df.head()"
   ]
  },
  {
   "cell_type": "markdown",
   "metadata": {},
   "source": [
    "### Modelling"
   ]
  },
  {
   "cell_type": "markdown",
   "metadata": {},
   "source": [
    "1. Split dataset into training and test set"
   ]
  },
  {
   "cell_type": "code",
   "execution_count": 5,
   "metadata": {},
   "outputs": [],
   "source": [
    "from sklearn.model_selection import train_test_split\n",
    "\n",
    "X = df.drop('y', axis=1)\n",
    "y = df['y']\n",
    "\n",
    "X_train, X_test, y_train, y_test = train_test_split(X, y, test_size=0.33, random_state=42)"
   ]
  },
  {
   "cell_type": "code",
   "execution_count": 6,
   "metadata": {},
   "outputs": [],
   "source": [
    "# Set up timer\n",
    "t = Timer()"
   ]
  },
  {
   "cell_type": "markdown",
   "metadata": {},
   "source": [
    "## Gradient Boosting"
   ]
  },
  {
   "cell_type": "markdown",
   "metadata": {},
   "source": [
    "1. Default Gradient Boosting model"
   ]
  },
  {
   "cell_type": "code",
   "execution_count": 7,
   "metadata": {},
   "outputs": [
    {
     "name": "stdout",
     "output_type": "stream",
     "text": [
      "Elapsed time: 3.3306 seconds\n",
      "Train Accuracy of GBC: 0.918\n",
      "Train Precision of GBC: 0.830\n",
      "Train Recall of GBC: 0.841\n",
      "Train F1 of GBC: 0.835\n",
      "Train ROC of GBC: 0.892\n",
      "---\n",
      "Test Accuracy of GBC: 0.877\n",
      "Test Precision of GBC: 0.734\n",
      "Test Recall of GBC: 0.747\n",
      "Test F1 of GBC: 0.740\n",
      "Test ROC of GBC: 0.832\n"
     ]
    }
   ],
   "source": [
    "from sklearn.ensemble import GradientBoostingClassifier\n",
    "from sklearn.model_selection import learning_curve\n",
    "from sklearn.metrics import classification_report,confusion_matrix, accuracy_score,roc_curve,roc_auc_score\n",
    "from sklearn.metrics import recall_score, precision_score, f1_score\n",
    "\n",
    "t.start()\n",
    "gbc_base = GradientBoostingClassifier(\n",
    "    random_state=0, \n",
    "    n_estimators=200,\n",
    "    learning_rate=0.1, \n",
    "    max_depth=4\n",
    ")\n",
    "gbc_base.fit(X_train, y_train)\n",
    "y_pred_gbc_base_train = gbc_base.predict(X_train)\n",
    "y_pred_gbc_base_test = gbc_base.predict(X_test)\n",
    "t.stop()\n",
    "\n",
    "accuracy_train = accuracy_score(y_train, y_pred_gbc_base_train)\n",
    "precision_train = precision_score(y_train, y_pred_gbc_base_train)\n",
    "recall_train = recall_score(y_train, y_pred_gbc_base_train)\n",
    "f1_train = f1_score(y_train, y_pred_gbc_base_train)\n",
    "roc_auc_train = roc_auc_score(y_train, y_pred_gbc_base_train)\n",
    "\n",
    "accuracy_test = accuracy_score(y_test, y_pred_gbc_base_test)\n",
    "precision_test = precision_score(y_test, y_pred_gbc_base_test)\n",
    "recall_test = recall_score(y_test, y_pred_gbc_base_test)\n",
    "f1_test = f1_score(y_test, y_pred_gbc_base_test)\n",
    "roc_auc_test = roc_auc_score(y_test, y_pred_gbc_base_test)\n",
    "\n",
    "print(f\"Train Accuracy of GBC: {accuracy_train:.3f}\")\n",
    "print(f\"Train Precision of GBC: {precision_train:.3f}\")\n",
    "print(f\"Train Recall of GBC: {recall_train:.3f}\")\n",
    "print(f\"Train F1 of GBC: {f1_train:.3f}\")\n",
    "print(f\"Train ROC of GBC: {roc_auc_train:.3f}\")\n",
    "print(\"---\")\n",
    "print(f\"Test Accuracy of GBC: {accuracy_test:.3f}\")\n",
    "print(f\"Test Precision of GBC: {precision_test:.3f}\")\n",
    "print(f\"Test Recall of GBC: {recall_test:.3f}\")\n",
    "print(f\"Test F1 of GBC: {f1_test:.3f}\")\n",
    "print(f\"Test ROC of GBC: {roc_auc_test:.3f}\")"
   ]
  },
  {
   "cell_type": "markdown",
   "metadata": {},
   "source": [
    "Use Cross Validation for default model"
   ]
  },
  {
   "cell_type": "code",
   "execution_count": 8,
   "metadata": {},
   "outputs": [
    {
     "name": "stdout",
     "output_type": "stream",
     "text": [
      "Elapsed time: 13.6557 seconds\n"
     ]
    }
   ],
   "source": [
    "from sklearn.model_selection import cross_validate,cross_val_predict\n",
    "\n",
    "t.start()\n",
    "gbc_base_res_base = cross_validate(\n",
    "      estimator=gbc_base,\n",
    "      X=X_train,\n",
    "      y=y_train,\n",
    "      cv=5,\n",
    "      scoring=['accuracy', 'precision', 'recall', 'f1'],\n",
    "      return_train_score=True\n",
    "      )\n",
    "t.stop()"
   ]
  },
  {
   "cell_type": "markdown",
   "metadata": {},
   "source": [
    "Collect mean of all scores"
   ]
  },
  {
   "cell_type": "code",
   "execution_count": 9,
   "metadata": {},
   "outputs": [
    {
     "name": "stdout",
     "output_type": "stream",
     "text": [
      "train_accuracy: 0.925\n",
      "train_precision: 0.844\n",
      "train_recall: 0.856\n",
      "train_f1: 0.850\n",
      "----\n",
      "test_accuracy: 0.877\n",
      "test_precision: 0.741\n",
      "test_recall: 0.773\n",
      "test_f1: 0.757\n"
     ]
    }
   ],
   "source": [
    "training_metrics = [\"train_accuracy\", \"train_precision\", \"train_recall\", \"train_f1\"]\n",
    "testing_metrics = [\"test_accuracy\", \"test_precision\", \"test_recall\", \"test_f1\"]\n",
    "for m in training_metrics:\n",
    "    print(f\"{m}: {np.mean(gbc_base_res_base[m]):.3f}\")\n",
    "print(\"----\")\n",
    "for m in testing_metrics:\n",
    "    print(f\"{m}: {np.mean(gbc_base_res_base[m]):.3f}\")"
   ]
  },
  {
   "cell_type": "markdown",
   "metadata": {},
   "source": [
    "Plot learning curve of default GBC"
   ]
  },
  {
   "cell_type": "code",
   "execution_count": 10,
   "metadata": {},
   "outputs": [
    {
     "data": {
      "image/png": "[encoded data removed]",
      "text/plain": [
       "<Figure size 1440x360 with 3 Axes>"
      ]
     },
     "metadata": {
      "needs_background": "light"
     },
     "output_type": "display_data"
    }
   ],
   "source": [
    "title = \"Base GBC\"\n",
    "plot_learning_curve(\n",
    "    gbc_base, title, X_train, y_train, ylim=(0.7, 1.01), cv=5, n_jobs=4\n",
    ")\n",
    "\n",
    "plt.show()"
   ]
  },
  {
   "cell_type": "code",
   "execution_count": 11,
   "metadata": {},
   "outputs": [
    {
     "name": "stdout",
     "output_type": "stream",
     "text": [
      "Train Accuracy of GBC: 0.877\n",
      "Train Precision of GBC: 0.741\n",
      "Train Recall of GBC: 0.773\n",
      "Train F1 of GBC: 0.757\n",
      "Train ROC of GBC: 0.842\n",
      "---\n",
      "Test Accuracy of GBC: 0.871\n",
      "Test Precision of GBC: 0.730\n",
      "Test Recall of GBC: 0.715\n",
      "Test F1 of GBC: 0.722\n",
      "Test ROC of GBC: 0.817\n"
     ]
    }
   ],
   "source": [
    "y_pred_gbc_base_train = cross_val_predict(gbc_base, X_train, y_train, cv=5)\n",
    "y_pred_gbc_base_test = cross_val_predict(gbc_base, X_test, y_test, cv=5)\n",
    "\n",
    "accuracy_train = accuracy_score(y_train, y_pred_gbc_base_train)\n",
    "precision_train = precision_score(y_train, y_pred_gbc_base_train)\n",
    "recall_train = recall_score(y_train, y_pred_gbc_base_train)\n",
    "f1_train = f1_score(y_train, y_pred_gbc_base_train)\n",
    "roc_auc_train = roc_auc_score(y_train, y_pred_gbc_base_train)\n",
    "\n",
    "accuracy_test = accuracy_score(y_test, y_pred_gbc_base_test)\n",
    "precision_test = precision_score(y_test, y_pred_gbc_base_test)\n",
    "recall_test = recall_score(y_test, y_pred_gbc_base_test)\n",
    "f1_test = f1_score(y_test, y_pred_gbc_base_test)\n",
    "roc_auc_test = roc_auc_score(y_test, y_pred_gbc_base_test)\n",
    "\n",
    "print(f\"Train Accuracy of GBC: {accuracy_train:.3f}\")\n",
    "print(f\"Train Precision of GBC: {precision_train:.3f}\")\n",
    "print(f\"Train Recall of GBC: {recall_train:.3f}\")\n",
    "print(f\"Train F1 of GBC: {f1_train:.3f}\")\n",
    "print(f\"Train ROC of GBC: {roc_auc_train:.3f}\")\n",
    "print(\"---\")\n",
    "print(f\"Test Accuracy of GBC: {accuracy_test:.3f}\")\n",
    "print(f\"Test Precision of GBC: {precision_test:.3f}\")\n",
    "print(f\"Test Recall of GBC: {recall_test:.3f}\")\n",
    "print(f\"Test F1 of GBC: {f1_test:.3f}\")\n",
    "print(f\"Test ROC of GBC: {roc_auc_test:.3f}\")"
   ]
  },
  {
   "cell_type": "markdown",
   "metadata": {},
   "source": [
    "Perform pruning"
   ]
  },
  {
   "cell_type": "markdown",
   "metadata": {},
   "source": [
    "I will try to tune the other hyperparameters to prune the model and score higher for the accuracy metrics"
   ]
  },
  {
   "cell_type": "code",
   "execution_count": 138,
   "metadata": {},
   "outputs": [
    {
     "data": {
      "text/html": [
       "<style>#sk-container-id-13 {color: black;background-color: white;}#sk-container-id-13 pre{padding: 0;}#sk-container-id-13 div.sk-toggleable {background-color: white;}#sk-container-id-13 label.sk-toggleable__label {cursor: pointer;display: block;width: 100%;margin-bottom: 0;padding: 0.3em;box-sizing: border-box;text-align: center;}#sk-container-id-13 label.sk-toggleable__label-arrow:before {content: \"▸\";float: left;margin-right: 0.25em;color: #696969;}#sk-container-id-13 label.sk-toggleable__label-arrow:hover:before {color: black;}#sk-container-id-13 div.sk-estimator:hover label.sk-toggleable__label-arrow:before {color: black;}#sk-container-id-13 div.sk-toggleable__content {max-height: 0;max-width: 0;overflow: hidden;text-align: left;background-color: #f0f8ff;}#sk-container-id-13 div.sk-toggleable__content pre {margin: 0.2em;color: black;border-radius: 0.25em;background-color: #f0f8ff;}#sk-container-id-13 input.sk-toggleable__control:checked~div.sk-toggleable__content {max-height: 200px;max-width: 100%;overflow: auto;}#sk-container-id-13 input.sk-toggleable__control:checked~label.sk-toggleable__label-arrow:before {content: \"▾\";}#sk-container-id-13 div.sk-estimator input.sk-toggleable__control:checked~label.sk-toggleable__label {background-color: #d4ebff;}#sk-container-id-13 div.sk-label input.sk-toggleable__control:checked~label.sk-toggleable__label {background-color: #d4ebff;}#sk-container-id-13 input.sk-hidden--visually {border: 0;clip: rect(1px 1px 1px 1px);clip: rect(1px, 1px, 1px, 1px);height: 1px;margin: -1px;overflow: hidden;padding: 0;position: absolute;width: 1px;}#sk-container-id-13 div.sk-estimator {font-family: monospace;background-color: #f0f8ff;border: 1px dotted black;border-radius: 0.25em;box-sizing: border-box;margin-bottom: 0.5em;}#sk-container-id-13 div.sk-estimator:hover {background-color: #d4ebff;}#sk-container-id-13 div.sk-parallel-item::after {content: \"\";width: 100%;border-bottom: 1px solid gray;flex-grow: 1;}#sk-container-id-13 div.sk-label:hover label.sk-toggleable__label {background-color: #d4ebff;}#sk-container-id-13 div.sk-serial::before {content: \"\";position: absolute;border-left: 1px solid gray;box-sizing: border-box;top: 0;bottom: 0;left: 50%;z-index: 0;}#sk-container-id-13 div.sk-serial {display: flex;flex-direction: column;align-items: center;background-color: white;padding-right: 0.2em;padding-left: 0.2em;position: relative;}#sk-container-id-13 div.sk-item {position: relative;z-index: 1;}#sk-container-id-13 div.sk-parallel {display: flex;align-items: stretch;justify-content: center;background-color: white;position: relative;}#sk-container-id-13 div.sk-item::before, #sk-container-id-13 div.sk-parallel-item::before {content: \"\";position: absolute;border-left: 1px solid gray;box-sizing: border-box;top: 0;bottom: 0;left: 50%;z-index: -1;}#sk-container-id-13 div.sk-parallel-item {display: flex;flex-direction: column;z-index: 1;position: relative;background-color: white;}#sk-container-id-13 div.sk-parallel-item:first-child::after {align-self: flex-end;width: 50%;}#sk-container-id-13 div.sk-parallel-item:last-child::after {align-self: flex-start;width: 50%;}#sk-container-id-13 div.sk-parallel-item:only-child::after {width: 0;}#sk-container-id-13 div.sk-dashed-wrapped {border: 1px dashed gray;margin: 0 0.4em 0.5em 0.4em;box-sizing: border-box;padding-bottom: 0.4em;background-color: white;}#sk-container-id-13 div.sk-label label {font-family: monospace;font-weight: bold;display: inline-block;line-height: 1.2em;}#sk-container-id-13 div.sk-label-container {text-align: center;}#sk-container-id-13 div.sk-container {/* jupyter's `normalize.less` sets `[hidden] { display: none; }` but bootstrap.min.css set `[hidden] { display: none !important; }` so we also need the `!important` here to be able to override the default hidden behavior on the sphinx rendered scikit-learn.org. See: https://github.com/scikit-learn/scikit-learn/issues/21755 */display: inline-block !important;position: relative;}#sk-container-id-13 div.sk-text-repr-fallback {display: none;}</style><div id=\"sk-container-id-13\" class=\"sk-top-container\"><div class=\"sk-text-repr-fallback\"><pre>GridSearchCV(cv=5, estimator=GradientBoostingClassifier(random_state=0),\n",
       "             n_jobs=-1,\n",
       "             param_grid={&#x27;learning_rate&#x27;: [0.001, 0.01, 0.1, 1],\n",
       "                         &#x27;max_depth&#x27;: [1, 2, 3],\n",
       "                         &#x27;n_estimators&#x27;: [25, 50, 75, 100, 125]})</pre><b>In a Jupyter environment, please rerun this cell to show the HTML representation or trust the notebook. <br />On GitHub, the HTML representation is unable to render, please try loading this page with nbviewer.org.</b></div><div class=\"sk-container\" hidden><div class=\"sk-item sk-dashed-wrapped\"><div class=\"sk-label-container\"><div class=\"sk-label sk-toggleable\"><input class=\"sk-toggleable__control sk-hidden--visually\" id=\"sk-estimator-id-31\" type=\"checkbox\" ><label for=\"sk-estimator-id-31\" class=\"sk-toggleable__label sk-toggleable__label-arrow\">GridSearchCV</label><div class=\"sk-toggleable__content\"><pre>GridSearchCV(cv=5, estimator=GradientBoostingClassifier(random_state=0),\n",
       "             n_jobs=-1,\n",
       "             param_grid={&#x27;learning_rate&#x27;: [0.001, 0.01, 0.1, 1],\n",
       "                         &#x27;max_depth&#x27;: [1, 2, 3],\n",
       "                         &#x27;n_estimators&#x27;: [25, 50, 75, 100, 125]})</pre></div></div></div><div class=\"sk-parallel\"><div class=\"sk-parallel-item\"><div class=\"sk-item\"><div class=\"sk-label-container\"><div class=\"sk-label sk-toggleable\"><input class=\"sk-toggleable__control sk-hidden--visually\" id=\"sk-estimator-id-32\" type=\"checkbox\" ><label for=\"sk-estimator-id-32\" class=\"sk-toggleable__label sk-toggleable__label-arrow\">estimator: GradientBoostingClassifier</label><div class=\"sk-toggleable__content\"><pre>GradientBoostingClassifier(random_state=0)</pre></div></div></div><div class=\"sk-serial\"><div class=\"sk-item\"><div class=\"sk-estimator sk-toggleable\"><input class=\"sk-toggleable__control sk-hidden--visually\" id=\"sk-estimator-id-33\" type=\"checkbox\" ><label for=\"sk-estimator-id-33\" class=\"sk-toggleable__label sk-toggleable__label-arrow\">GradientBoostingClassifier</label><div class=\"sk-toggleable__content\"><pre>GradientBoostingClassifier(random_state=0)</pre></div></div></div></div></div></div></div></div></div></div>"
      ],
      "text/plain": [
       "GridSearchCV(cv=5, estimator=GradientBoostingClassifier(random_state=0),\n",
       "             n_jobs=-1,\n",
       "             param_grid={'learning_rate': [0.001, 0.01, 0.1, 1],\n",
       "                         'max_depth': [1, 2, 3],\n",
       "                         'n_estimators': [25, 50, 75, 100, 125]})"
      ]
     },
     "execution_count": 138,
     "metadata": {},
     "output_type": "execute_result"
    }
   ],
   "source": [
    "from sklearn.model_selection import GridSearchCV\n",
    "\n",
    "parameter_space = {\n",
    "    \"max_depth\": [1, 2, 3],\n",
    "    \"learning_rate\": [0.001, 0.01, 0.1, 1],\n",
    "    \"n_estimators\": [25, 50, 75, 100, 125]\n",
    "}\n",
    "gbc = GradientBoostingClassifier(random_state=0)\n",
    "gbc_gs = GridSearchCV(gbc, parameter_space, n_jobs=-1, cv=5)\n",
    "gbc_gs.fit(X_train, y_train)"
   ]
  },
  {
   "cell_type": "code",
   "execution_count": 139,
   "metadata": {},
   "outputs": [],
   "source": [
    "cv_results = pd.DataFrame(gbc_gs.cv_results_)"
   ]
  },
  {
   "cell_type": "code",
   "execution_count": 140,
   "metadata": {},
   "outputs": [
    {
     "data": {
      "text/html": [
       "<div>\n",
       "<style scoped>\n",
       "    .dataframe tbody tr th:only-of-type {\n",
       "        vertical-align: middle;\n",
       "    }\n",
       "\n",
       "    .dataframe tbody tr th {\n",
       "        vertical-align: top;\n",
       "    }\n",
       "\n",
       "    .dataframe thead th {\n",
       "        text-align: right;\n",
       "    }\n",
       "</style>\n",
       "<table border=\"1\" class=\"dataframe\">\n",
       "  <thead>\n",
       "    <tr style=\"text-align: right;\">\n",
       "      <th></th>\n",
       "      <th>mean_fit_time</th>\n",
       "      <th>std_fit_time</th>\n",
       "      <th>mean_score_time</th>\n",
       "      <th>std_score_time</th>\n",
       "      <th>param_learning_rate</th>\n",
       "      <th>param_max_depth</th>\n",
       "      <th>param_n_estimators</th>\n",
       "      <th>params</th>\n",
       "      <th>split0_test_score</th>\n",
       "      <th>split1_test_score</th>\n",
       "      <th>split2_test_score</th>\n",
       "      <th>split3_test_score</th>\n",
       "      <th>split4_test_score</th>\n",
       "      <th>mean_test_score</th>\n",
       "      <th>std_test_score</th>\n",
       "      <th>rank_test_score</th>\n",
       "    </tr>\n",
       "  </thead>\n",
       "  <tbody>\n",
       "    <tr>\n",
       "      <th>43</th>\n",
       "      <td>1.429254</td>\n",
       "      <td>0.074143</td>\n",
       "      <td>0.004987</td>\n",
       "      <td>0.001255</td>\n",
       "      <td>0.1</td>\n",
       "      <td>3</td>\n",
       "      <td>100</td>\n",
       "      <td>{'learning_rate': 0.1, 'max_depth': 3, 'n_esti...</td>\n",
       "      <td>0.878588</td>\n",
       "      <td>0.882353</td>\n",
       "      <td>0.873412</td>\n",
       "      <td>0.877176</td>\n",
       "      <td>0.878588</td>\n",
       "      <td>0.878024</td>\n",
       "      <td>0.002876</td>\n",
       "      <td>1</td>\n",
       "    </tr>\n",
       "    <tr>\n",
       "      <th>44</th>\n",
       "      <td>1.809495</td>\n",
       "      <td>0.031061</td>\n",
       "      <td>0.005757</td>\n",
       "      <td>0.001813</td>\n",
       "      <td>0.1</td>\n",
       "      <td>3</td>\n",
       "      <td>125</td>\n",
       "      <td>{'learning_rate': 0.1, 'max_depth': 3, 'n_esti...</td>\n",
       "      <td>0.880471</td>\n",
       "      <td>0.880471</td>\n",
       "      <td>0.874353</td>\n",
       "      <td>0.876235</td>\n",
       "      <td>0.878588</td>\n",
       "      <td>0.878024</td>\n",
       "      <td>0.002407</td>\n",
       "      <td>2</td>\n",
       "    </tr>\n",
       "    <tr>\n",
       "      <th>42</th>\n",
       "      <td>1.077164</td>\n",
       "      <td>0.034328</td>\n",
       "      <td>0.005933</td>\n",
       "      <td>0.001910</td>\n",
       "      <td>0.1</td>\n",
       "      <td>3</td>\n",
       "      <td>75</td>\n",
       "      <td>{'learning_rate': 0.1, 'max_depth': 3, 'n_esti...</td>\n",
       "      <td>0.880000</td>\n",
       "      <td>0.881882</td>\n",
       "      <td>0.872941</td>\n",
       "      <td>0.875294</td>\n",
       "      <td>0.879529</td>\n",
       "      <td>0.877929</td>\n",
       "      <td>0.003295</td>\n",
       "      <td>3</td>\n",
       "    </tr>\n",
       "  </tbody>\n",
       "</table>\n",
       "</div>"
      ],
      "text/plain": [
       "    mean_fit_time  std_fit_time  mean_score_time  std_score_time  \\\n",
       "43       1.429254      0.074143         0.004987        0.001255   \n",
       "44       1.809495      0.031061         0.005757        0.001813   \n",
       "42       1.077164      0.034328         0.005933        0.001910   \n",
       "\n",
       "   param_learning_rate param_max_depth param_n_estimators  \\\n",
       "43                 0.1               3                100   \n",
       "44                 0.1               3                125   \n",
       "42                 0.1               3                 75   \n",
       "\n",
       "                                               params  split0_test_score  \\\n",
       "43  {'learning_rate': 0.1, 'max_depth': 3, 'n_esti...           0.878588   \n",
       "44  {'learning_rate': 0.1, 'max_depth': 3, 'n_esti...           0.880471   \n",
       "42  {'learning_rate': 0.1, 'max_depth': 3, 'n_esti...           0.880000   \n",
       "\n",
       "    split1_test_score  split2_test_score  split3_test_score  \\\n",
       "43           0.882353           0.873412           0.877176   \n",
       "44           0.880471           0.874353           0.876235   \n",
       "42           0.881882           0.872941           0.875294   \n",
       "\n",
       "    split4_test_score  mean_test_score  std_test_score  rank_test_score  \n",
       "43           0.878588         0.878024        0.002876                1  \n",
       "44           0.878588         0.878024        0.002407                2  \n",
       "42           0.879529         0.877929        0.003295                3  "
      ]
     },
     "execution_count": 140,
     "metadata": {},
     "output_type": "execute_result"
    }
   ],
   "source": [
    "cv_results.sort_values(by=\"mean_test_score\", ascending=False).head(3)"
   ]
  },
  {
   "cell_type": "code",
   "execution_count": 142,
   "metadata": {},
   "outputs": [
    {
     "data": {
      "text/html": [
       "<div>\n",
       "<style scoped>\n",
       "    .dataframe tbody tr th:only-of-type {\n",
       "        vertical-align: middle;\n",
       "    }\n",
       "\n",
       "    .dataframe tbody tr th {\n",
       "        vertical-align: top;\n",
       "    }\n",
       "\n",
       "    .dataframe thead th {\n",
       "        text-align: right;\n",
       "    }\n",
       "</style>\n",
       "<table border=\"1\" class=\"dataframe\">\n",
       "  <thead>\n",
       "    <tr style=\"text-align: right;\">\n",
       "      <th></th>\n",
       "      <th>param_learning_rate</th>\n",
       "      <th>param_max_depth</th>\n",
       "      <th>param_n_estimators</th>\n",
       "      <th>mean_test_score</th>\n",
       "      <th>std_test_score</th>\n",
       "    </tr>\n",
       "  </thead>\n",
       "  <tbody>\n",
       "    <tr>\n",
       "      <th>43</th>\n",
       "      <td>0.1</td>\n",
       "      <td>3</td>\n",
       "      <td>100</td>\n",
       "      <td>0.878024</td>\n",
       "      <td>0.002876</td>\n",
       "    </tr>\n",
       "    <tr>\n",
       "      <th>44</th>\n",
       "      <td>0.1</td>\n",
       "      <td>3</td>\n",
       "      <td>125</td>\n",
       "      <td>0.878024</td>\n",
       "      <td>0.002407</td>\n",
       "    </tr>\n",
       "    <tr>\n",
       "      <th>42</th>\n",
       "      <td>0.1</td>\n",
       "      <td>3</td>\n",
       "      <td>75</td>\n",
       "      <td>0.877929</td>\n",
       "      <td>0.003295</td>\n",
       "    </tr>\n",
       "  </tbody>\n",
       "</table>\n",
       "</div>"
      ],
      "text/plain": [
       "   param_learning_rate param_max_depth param_n_estimators  mean_test_score  \\\n",
       "43                 0.1               3                100         0.878024   \n",
       "44                 0.1               3                125         0.878024   \n",
       "42                 0.1               3                 75         0.877929   \n",
       "\n",
       "    std_test_score  \n",
       "43        0.002876  \n",
       "44        0.002407  \n",
       "42        0.003295  "
      ]
     },
     "execution_count": 142,
     "metadata": {},
     "output_type": "execute_result"
    }
   ],
   "source": [
    "cv_results.sort_values(by=\"mean_test_score\", ascending=False).head(3)[[\"param_learning_rate\", \"param_max_depth\", \"param_n_estimators\", \"mean_test_score\", \"std_test_score\"]]"
   ]
  },
  {
   "cell_type": "markdown",
   "metadata": {},
   "source": [
    "It seems that max_depth = 3, learning_rate = 0.1 and 100 estimators provided the best training scores. We will train the model again with these settings"
   ]
  },
  {
   "cell_type": "markdown",
   "metadata": {},
   "source": [
    "Advanced model"
   ]
  },
  {
   "cell_type": "code",
   "execution_count": 12,
   "metadata": {},
   "outputs": [
    {
     "name": "stdout",
     "output_type": "stream",
     "text": [
      "Elapsed time: 1.2382 seconds\n",
      "Train Accuracy of Adv GBC: 0.890\n",
      "Train Precision of Adv GBC: 0.766\n",
      "Train Recall of Adv GBC: 0.803\n",
      "Train F1 of Adv GBC: 0.784\n",
      "Train ROC of Adv GBC: 0.861\n",
      "---\n",
      "Test Accuracy of Adv GBC: 0.878\n",
      "Test Precision of Adv GBC: 0.730\n",
      "Test Recall of Adv GBC: 0.762\n",
      "Test F1 of Adv GBC: 0.746\n",
      "Test ROC of Adv GBC: 0.838\n"
     ]
    }
   ],
   "source": [
    "t.start()\n",
    "gbc_adv = GradientBoostingClassifier( \n",
    "    random_state=0, \n",
    "    n_estimators=100, \n",
    "    learning_rate=0.1,\n",
    "    max_depth=3\n",
    ")\n",
    "gbc_adv.fit(X_train, y_train)\n",
    "y_pred_gbc_adv_train = gbc_adv.predict(X_train)\n",
    "y_pred_gbc_adv_test = gbc_adv.predict(X_test)\n",
    "t.stop()\n",
    "\n",
    "accuracy_train = accuracy_score(y_train, y_pred_gbc_adv_train)\n",
    "precision_train = precision_score(y_train, y_pred_gbc_adv_train)\n",
    "recall_train = recall_score(y_train, y_pred_gbc_adv_train)\n",
    "f1_train = f1_score(y_train, y_pred_gbc_adv_train)\n",
    "roc_train = roc_auc_score(y_train, y_pred_gbc_adv_train)\n",
    "\n",
    "accuracy_test = accuracy_score(y_test, y_pred_gbc_adv_test)\n",
    "precision_test = precision_score(y_test, y_pred_gbc_adv_test)\n",
    "recall_test = recall_score(y_test, y_pred_gbc_adv_test)\n",
    "f1_test = f1_score(y_test, y_pred_gbc_adv_test)\n",
    "roc_test = roc_auc_score(y_test, y_pred_gbc_adv_test)\n",
    "\n",
    "print(f\"Train Accuracy of Adv GBC: {accuracy_train:.3f}\")\n",
    "print(f\"Train Precision of Adv GBC: {precision_train:.3f}\")\n",
    "print(f\"Train Recall of Adv GBC: {recall_train:.3f}\")\n",
    "print(f\"Train F1 of Adv GBC: {f1_train:.3f}\")\n",
    "print(f\"Train ROC of Adv GBC: {roc_train:.3f}\")\n",
    "print(\"---\")\n",
    "print(f\"Test Accuracy of Adv GBC: {accuracy_test:.3f}\")\n",
    "print(f\"Test Precision of Adv GBC: {precision_test:.3f}\")\n",
    "print(f\"Test Recall of Adv GBC: {recall_test:.3f}\")\n",
    "print(f\"Test F1 of Adv GBC: {f1_test:.3f}\")\n",
    "print(f\"Test ROC of Adv GBC: {roc_test:.3f}\")"
   ]
  },
  {
   "cell_type": "code",
   "execution_count": 13,
   "metadata": {},
   "outputs": [
    {
     "name": "stdout",
     "output_type": "stream",
     "text": [
      "Elapsed time: 4.9564 seconds\n"
     ]
    }
   ],
   "source": [
    "t.start()\n",
    "gbc_adv_res = cross_validate(\n",
    "      estimator=gbc_adv,\n",
    "      X=X_train,\n",
    "      y=y_train,\n",
    "      cv=5,\n",
    "      scoring=['accuracy', 'precision', 'recall', 'f1'],\n",
    "      return_train_score=True\n",
    "      )\n",
    "t.stop()"
   ]
  },
  {
   "cell_type": "code",
   "execution_count": 14,
   "metadata": {},
   "outputs": [
    {
     "name": "stdout",
     "output_type": "stream",
     "text": [
      "train_accuracy: 0.891\n",
      "train_precision: 0.768\n",
      "train_recall: 0.805\n",
      "train_f1: 0.786\n",
      "----\n",
      "test_accuracy: 0.878\n",
      "test_precision: 0.741\n",
      "test_recall: 0.781\n",
      "test_f1: 0.760\n"
     ]
    }
   ],
   "source": [
    "for m in training_metrics:\n",
    "    print(f\"{m}: {np.mean(gbc_adv_res[m]):.3f}\")\n",
    "print(\"----\")\n",
    "for m in testing_metrics:\n",
    "    print(f\"{m}: {np.mean(gbc_adv_res[m]):.3f}\")"
   ]
  },
  {
   "cell_type": "code",
   "execution_count": 15,
   "metadata": {},
   "outputs": [
    {
     "data": {
      "image/png": "[encoded data removed]",
      "text/plain": [
       "<Figure size 1440x360 with 3 Axes>"
      ]
     },
     "metadata": {
      "needs_background": "light"
     },
     "output_type": "display_data"
    }
   ],
   "source": [
    "title = \"Adv. GBC, n_est=100, learning_rate=0.1, max_depth=3\"\n",
    "plot_learning_curve(\n",
    "    gbc_adv, title, X_train, y_train, ylim=(0.7, 1.01), cv=5, n_jobs=-1\n",
    ")\n",
    "\n",
    "plt.show()"
   ]
  },
  {
   "cell_type": "code",
   "execution_count": 147,
   "metadata": {},
   "outputs": [
    {
     "name": "stdout",
     "output_type": "stream",
     "text": [
      "Train Accuracy of Adv GBC: 0.878\n",
      "Train Precision of Adv GBC: 0.741\n",
      "Train Recall of Adv GBC: 0.781\n",
      "Train F1 of Adv GBC: 0.760\n",
      "Train ROC of Adv GBC: 0.845\n",
      "---\n",
      "Test Accuracy of Adv GBC: 0.871\n",
      "Test Precision of Adv GBC: 0.729\n",
      "Test Recall of Adv GBC: 0.717\n",
      "Test F1 of Adv GBC: 0.723\n",
      "Test ROC of Adv GBC: 0.818\n"
     ]
    }
   ],
   "source": [
    "y_pred_gbc_adv_train = cross_val_predict(gbc_adv, X_train, y_train, cv=5)\n",
    "y_pred_gbc_adv_test = cross_val_predict(gbc_adv, X_test, y_test, cv=5)\n",
    "\n",
    "accuracy_train = accuracy_score(y_train, y_pred_gbc_adv_train)\n",
    "precision_train = precision_score(y_train, y_pred_gbc_adv_train)\n",
    "recall_train = recall_score(y_train, y_pred_gbc_adv_train)\n",
    "f1_train = f1_score(y_train, y_pred_gbc_adv_train)\n",
    "roc_train = roc_auc_score(y_train, y_pred_gbc_adv_train)\n",
    "\n",
    "accuracy_test = accuracy_score(y_test, y_pred_gbc_adv_test)\n",
    "precision_test = precision_score(y_test, y_pred_gbc_adv_test)\n",
    "recall_test = recall_score(y_test, y_pred_gbc_adv_test)\n",
    "f1_test = f1_score(y_test, y_pred_gbc_adv_test)\n",
    "roc_test = roc_auc_score(y_test, y_pred_gbc_adv_test)\n",
    "\n",
    "print(f\"Train Accuracy of Adv GBC: {accuracy_train:.3f}\")\n",
    "print(f\"Train Precision of Adv GBC: {precision_train:.3f}\")\n",
    "print(f\"Train Recall of Adv GBC: {recall_train:.3f}\")\n",
    "print(f\"Train F1 of Adv GBC: {f1_train:.3f}\")\n",
    "print(f\"Train ROC of Adv GBC: {roc_train:.3f}\")\n",
    "print(\"---\")\n",
    "print(f\"Test Accuracy of Adv GBC: {accuracy_test:.3f}\")\n",
    "print(f\"Test Precision of Adv GBC: {precision_test:.3f}\")\n",
    "print(f\"Test Recall of Adv GBC: {recall_test:.3f}\")\n",
    "print(f\"Test F1 of Adv GBC: {f1_test:.3f}\")\n",
    "print(f\"Test ROC of Adv GBC: {roc_test:.3f}\")"
   ]
  },
  {
   "cell_type": "markdown",
   "metadata": {},
   "source": [
    "Final scores on test set"
   ]
  },
  {
   "cell_type": "code",
   "execution_count": 148,
   "metadata": {},
   "outputs": [],
   "source": [
    "y_pred_base_gbc_train_f = gbc_base.predict(X_train)\n",
    "y_pred_adv_gbc_train_f = gbc_adv.predict(X_train)\n",
    "\n",
    "accuracy_base_train = accuracy_score(y_train, y_pred_base_gbc_train_f)\n",
    "precision_base_train = precision_score(y_train, y_pred_base_gbc_train_f)\n",
    "recall_base_train = recall_score(y_train, y_pred_base_gbc_train_f)\n",
    "f1_base_train = f1_score(y_train, y_pred_base_gbc_train_f)\n",
    "roc_base_train = roc_auc_score(y_train, y_pred_base_gbc_train_f)\n",
    "\n",
    "accuracy_adv_train = accuracy_score(y_train, y_pred_adv_gbc_train_f)\n",
    "precision_adv_train = precision_score(y_train, y_pred_adv_gbc_train_f)\n",
    "recall_adv_train = recall_score(y_train, y_pred_adv_gbc_train_f)\n",
    "f1_adv_train = f1_score(y_train, y_pred_adv_gbc_train_f)\n",
    "roc_adv_train = roc_auc_score(y_train, y_pred_adv_gbc_train_f)\n",
    "\n",
    "y_pred_base_gbc_test_f = gbc_base.predict(X_test)\n",
    "y_pred_adv_gbc_test_f = gbc_adv.predict(X_test)\n",
    "\n",
    "accuracy_base_test = accuracy_score(y_test, y_pred_base_gbc_test_f)\n",
    "precision_base_test = precision_score(y_test, y_pred_base_gbc_test_f)\n",
    "recall_base_test = recall_score(y_test, y_pred_base_gbc_test_f)\n",
    "f1_base_test = f1_score(y_test, y_pred_base_gbc_test_f)\n",
    "roc_base_test = roc_auc_score(y_test, y_pred_base_gbc_test_f)\n",
    "\n",
    "accuracy_adv_test = accuracy_score(y_test, y_pred_adv_gbc_test_f)\n",
    "precision_adv_test = precision_score(y_test, y_pred_adv_gbc_test_f)\n",
    "recall_adv_test = recall_score(y_test, y_pred_adv_gbc_test_f)\n",
    "f1_adv_test = f1_score(y_test, y_pred_adv_gbc_test_f)\n",
    "roc_adv_test = roc_auc_score(y_test, y_pred_adv_gbc_test_f)"
   ]
  },
  {
   "cell_type": "code",
   "execution_count": 150,
   "metadata": {},
   "outputs": [
    {
     "name": "stdout",
     "output_type": "stream",
     "text": [
      "Final - Training Set Performance\n",
      "Train Accuracy of Base GBC: 0.918\n",
      "Train Precision of Base GBC: 0.830\n",
      "Train Recall of Base GBC: 0.841\n",
      "Train F1 of Base GBC: 0.835\n",
      "Train ROC of Base GBC: 0.892\n",
      "-\n",
      "Train Accuracy of Adv GBC: 0.890\n",
      "Train Precision of Adv GBC: 0.766\n",
      "Train Recall of Adv GBC: 0.803\n",
      "Train F1 of Adv GBC: 0.784\n",
      "Train ROC of Adv GBC: 0.861\n",
      "---\n",
      "Test Accuracy of Base GBC: 0.877\n",
      "Test Precision of Base GBC: 0.734\n",
      "Test Recall of Base GBC: 0.747\n",
      "Test F1 of Base GBC: 0.740\n",
      "Test ROC of Base GBC: 0.832\n",
      "-\n",
      "Test Accuracy of Adv GBC: 0.878\n",
      "Test Precision of Adv GBC: 0.730\n",
      "Test Recall of Adv GBC: 0.762\n",
      "Test F1 of Adv GBC: 0.746\n",
      "Test ROC of Adv GBC: 0.838\n"
     ]
    }
   ],
   "source": [
    "print(\"Final - Training Set Performance\")\n",
    "print(f\"Train Accuracy of Base GBC: {accuracy_base_train:.3f}\")\n",
    "print(f\"Train Precision of Base GBC: {precision_base_train:.3f}\")\n",
    "print(f\"Train Recall of Base GBC: {recall_base_train:.3f}\")\n",
    "print(f\"Train F1 of Base GBC: {f1_base_train:.3f}\")\n",
    "print(f\"Train ROC of Base GBC: {roc_base_train:.3f}\")\n",
    "print(\"-\")\n",
    "print(f\"Train Accuracy of Adv GBC: {accuracy_adv_train:.3f}\")\n",
    "print(f\"Train Precision of Adv GBC: {precision_adv_train:.3f}\")\n",
    "print(f\"Train Recall of Adv GBC: {recall_adv_train:.3f}\")\n",
    "print(f\"Train F1 of Adv GBC: {f1_adv_train:.3f}\")\n",
    "print(f\"Train ROC of Adv GBC: {roc_adv_train:.3f}\")\n",
    "\n",
    "print(\"---\")\n",
    "\n",
    "print(f\"Test Accuracy of Base GBC: {accuracy_base_test:.3f}\")\n",
    "print(f\"Test Precision of Base GBC: {precision_base_test:.3f}\")\n",
    "print(f\"Test Recall of Base GBC: {recall_base_test:.3f}\")\n",
    "print(f\"Test F1 of Base GBC: {f1_base_test:.3f}\")\n",
    "print(f\"Test ROC of Base GBC: {roc_base_test:.3f}\")\n",
    "print(\"-\")\n",
    "print(f\"Test Accuracy of Adv GBC: {accuracy_adv_test:.3f}\")\n",
    "print(f\"Test Precision of Adv GBC: {precision_adv_test:.3f}\")\n",
    "print(f\"Test Recall of Adv GBC: {recall_adv_test:.3f}\")\n",
    "print(f\"Test F1 of Adv GBC: {f1_adv_test:.3f}\")\n",
    "print(f\"Test ROC of Adv GBC: {roc_adv_test:.3f}\")"
   ]
  },
  {
   "cell_type": "code",
   "execution_count": 152,
   "metadata": {},
   "outputs": [
    {
     "data": {
      "text/plain": [
       "<matplotlib.legend.Legend at 0x7fd2412922b0>"
      ]
     },
     "execution_count": 152,
     "metadata": {},
     "output_type": "execute_result"
    },
    {
     "data": {
      "image/png": "[encoded data removed]",
      "text/plain": [
       "<Figure size 432x288 with 1 Axes>"
      ]
     },
     "metadata": {
      "needs_background": "light"
     },
     "output_type": "display_data"
    }
   ],
   "source": [
    "plt.figure(0).clf()\n",
    "\n",
    "# Train\n",
    "fpr, tpr, _ = roc_curve(y_train, y_pred_base_gbc_train_f)\n",
    "auc = round(roc_auc_score(y_train, y_pred_base_gbc_train_f), 4)\n",
    "plt.plot(fpr,tpr,label=\"Base GBC - Training, AUC=\"+str(auc), linestyle=\"dotted\")\n",
    "\n",
    "fpr, tpr, _ = roc_curve(y_train, y_pred_adv_gbc_train_f)\n",
    "auc = round(roc_auc_score(y_train, y_pred_adv_gbc_train_f), 4)\n",
    "plt.plot(fpr,tpr,label=f\"Advanced GBC - Training, AUC=\"+str(auc), linestyle=\"dotted\")\n",
    "plt.legend()\n",
    "\n",
    "# Test\n",
    "fpr, tpr, _ = roc_curve(y_test, y_pred_base_gbc_test_f)\n",
    "auc = round(roc_auc_score(y_test, y_pred_base_gbc_test_f), 4)\n",
    "plt.plot(fpr,tpr,label=\"Base GBC - Testing, AUC=\"+str(auc), linestyle=\"solid\")\n",
    "\n",
    "fpr, tpr, _ = roc_curve(y_test, y_pred_adv_gbc_test_f)\n",
    "auc = round(roc_auc_score(y_test, y_pred_adv_gbc_test_f), 4)\n",
    "plt.plot(fpr,tpr,label=f\"Advanced GBC - Testing, AUC=\"+str(auc), linestyle=\"solid\")\n",
    "plt.legend()"
   ]
  }
 ],
 "metadata": {
  "kernelspec": {
   "display_name": "Python 3.9.0 ('env')",
   "language": "python",
   "name": "python3"
  },
  "language_info": {
   "codemirror_mode": {
    "name": "ipython",
    "version": 3
   },
   "file_extension": ".py",
   "mimetype": "text/x-python",
   "name": "python",
   "nbconvert_exporter": "python",
   "pygments_lexer": "ipython3",
   "version": "3.9.0"
  },
  "orig_nbformat": 4,
  "vscode": {
   "interpreter": {
    "hash": "feb712a7b8845ee20af226e60c344eb8ada9fd25c3cb3dd6e0156fe71ad0fb01"
   }
  }
 },
 "nbformat": 4,
 "nbformat_minor": 2
}
