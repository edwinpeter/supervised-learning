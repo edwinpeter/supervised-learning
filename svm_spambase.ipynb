{
 "cells": [
  {
   "cell_type": "markdown",
   "metadata": {},
   "source": [
    "# Support Vector Machines"
   ]
  },
  {
   "cell_type": "markdown",
   "metadata": {},
   "source": [
    "This notebook shows the SVM model for the spambase data"
   ]
  },
  {
   "cell_type": "code",
   "execution_count": 2,
   "metadata": {},
   "outputs": [],
   "source": [
    "import pandas as pd\n",
    "import numpy as np\n",
    "import matplotlib.pyplot as plt\n",
    "import seaborn as sns\n",
    "from utils import Timer, plot_learning_curve"
   ]
  },
  {
   "cell_type": "code",
   "execution_count": 3,
   "metadata": {},
   "outputs": [],
   "source": [
    "df = pd.read_csv(\"spambase.csv\")"
   ]
  },
  {
   "cell_type": "code",
   "execution_count": 19,
   "metadata": {},
   "outputs": [
    {
     "data": {
      "text/html": [
       "<div>\n",
       "<style scoped>\n",
       "    .dataframe tbody tr th:only-of-type {\n",
       "        vertical-align: middle;\n",
       "    }\n",
       "\n",
       "    .dataframe tbody tr th {\n",
       "        vertical-align: top;\n",
       "    }\n",
       "\n",
       "    .dataframe thead th {\n",
       "        text-align: right;\n",
       "    }\n",
       "</style>\n",
       "<table border=\"1\" class=\"dataframe\">\n",
       "  <thead>\n",
       "    <tr style=\"text-align: right;\">\n",
       "      <th></th>\n",
       "      <th>word_freq_make</th>\n",
       "      <th>word_freq_address</th>\n",
       "      <th>word_freq_all</th>\n",
       "      <th>word_freq_3d</th>\n",
       "      <th>word_freq_our</th>\n",
       "      <th>word_freq_over</th>\n",
       "      <th>word_freq_remove</th>\n",
       "      <th>word_freq_internet</th>\n",
       "      <th>word_freq_order</th>\n",
       "      <th>word_freq_mail</th>\n",
       "      <th>...</th>\n",
       "      <th>word_freq_conference</th>\n",
       "      <th>char_freq_;</th>\n",
       "      <th>char_freq_(</th>\n",
       "      <th>char_freq_[</th>\n",
       "      <th>char_freq_!</th>\n",
       "      <th>char_freq_$</th>\n",
       "      <th>char_freq_#</th>\n",
       "      <th>capital_run_length_average</th>\n",
       "      <th>capital_run_length_longest</th>\n",
       "      <th>capital_run_length_total</th>\n",
       "    </tr>\n",
       "  </thead>\n",
       "  <tbody>\n",
       "    <tr>\n",
       "      <th>0</th>\n",
       "      <td>-0.342434</td>\n",
       "      <td>0.330885</td>\n",
       "      <td>0.712859</td>\n",
       "      <td>-0.0469</td>\n",
       "      <td>0.011565</td>\n",
       "      <td>-0.350266</td>\n",
       "      <td>-0.291794</td>\n",
       "      <td>-0.262562</td>\n",
       "      <td>-0.323302</td>\n",
       "      <td>-0.371364</td>\n",
       "      <td>...</td>\n",
       "      <td>-0.111546</td>\n",
       "      <td>-0.158453</td>\n",
       "      <td>-0.514307</td>\n",
       "      <td>-0.155198</td>\n",
       "      <td>0.624007</td>\n",
       "      <td>-0.308355</td>\n",
       "      <td>-0.103048</td>\n",
       "      <td>-0.045247</td>\n",
       "      <td>0.045298</td>\n",
       "      <td>-0.008724</td>\n",
       "    </tr>\n",
       "    <tr>\n",
       "      <th>1</th>\n",
       "      <td>0.345359</td>\n",
       "      <td>0.051909</td>\n",
       "      <td>0.435130</td>\n",
       "      <td>-0.0469</td>\n",
       "      <td>-0.256117</td>\n",
       "      <td>0.672399</td>\n",
       "      <td>0.244743</td>\n",
       "      <td>-0.088010</td>\n",
       "      <td>-0.323302</td>\n",
       "      <td>1.086711</td>\n",
       "      <td>...</td>\n",
       "      <td>-0.111546</td>\n",
       "      <td>-0.158453</td>\n",
       "      <td>-0.026007</td>\n",
       "      <td>-0.155198</td>\n",
       "      <td>0.126203</td>\n",
       "      <td>0.423783</td>\n",
       "      <td>0.008763</td>\n",
       "      <td>-0.002443</td>\n",
       "      <td>0.250563</td>\n",
       "      <td>1.228324</td>\n",
       "    </tr>\n",
       "    <tr>\n",
       "      <th>2</th>\n",
       "      <td>-0.145921</td>\n",
       "      <td>-0.165072</td>\n",
       "      <td>0.851723</td>\n",
       "      <td>-0.0469</td>\n",
       "      <td>1.364846</td>\n",
       "      <td>0.343685</td>\n",
       "      <td>0.193644</td>\n",
       "      <td>0.036670</td>\n",
       "      <td>1.974017</td>\n",
       "      <td>0.016422</td>\n",
       "      <td>...</td>\n",
       "      <td>-0.111546</td>\n",
       "      <td>-0.117376</td>\n",
       "      <td>0.014684</td>\n",
       "      <td>-0.155198</td>\n",
       "      <td>0.008496</td>\n",
       "      <td>0.440053</td>\n",
       "      <td>-0.079754</td>\n",
       "      <td>0.145921</td>\n",
       "      <td>2.221106</td>\n",
       "      <td>3.258733</td>\n",
       "    </tr>\n",
       "    <tr>\n",
       "      <th>3</th>\n",
       "      <td>-0.342434</td>\n",
       "      <td>-0.165072</td>\n",
       "      <td>-0.556761</td>\n",
       "      <td>-0.0469</td>\n",
       "      <td>0.472573</td>\n",
       "      <td>-0.350266</td>\n",
       "      <td>0.500237</td>\n",
       "      <td>1.308402</td>\n",
       "      <td>0.789462</td>\n",
       "      <td>0.605857</td>\n",
       "      <td>...</td>\n",
       "      <td>-0.111546</td>\n",
       "      <td>-0.158453</td>\n",
       "      <td>-0.007511</td>\n",
       "      <td>-0.155198</td>\n",
       "      <td>-0.161934</td>\n",
       "      <td>-0.308355</td>\n",
       "      <td>-0.103048</td>\n",
       "      <td>-0.052150</td>\n",
       "      <td>-0.062466</td>\n",
       "      <td>-0.152222</td>\n",
       "    </tr>\n",
       "    <tr>\n",
       "      <th>4</th>\n",
       "      <td>-0.342434</td>\n",
       "      <td>-0.165072</td>\n",
       "      <td>-0.556761</td>\n",
       "      <td>-0.0469</td>\n",
       "      <td>0.472573</td>\n",
       "      <td>-0.350266</td>\n",
       "      <td>0.500237</td>\n",
       "      <td>1.308402</td>\n",
       "      <td>0.789462</td>\n",
       "      <td>0.605857</td>\n",
       "      <td>...</td>\n",
       "      <td>-0.111546</td>\n",
       "      <td>-0.158453</td>\n",
       "      <td>-0.014910</td>\n",
       "      <td>-0.155198</td>\n",
       "      <td>-0.164387</td>\n",
       "      <td>-0.308355</td>\n",
       "      <td>-0.103048</td>\n",
       "      <td>-0.052150</td>\n",
       "      <td>-0.062466</td>\n",
       "      <td>-0.152222</td>\n",
       "    </tr>\n",
       "  </tbody>\n",
       "</table>\n",
       "<p>5 rows × 57 columns</p>\n",
       "</div>"
      ],
      "text/plain": [
       "   word_freq_make  word_freq_address  word_freq_all  word_freq_3d  \\\n",
       "0       -0.342434           0.330885       0.712859       -0.0469   \n",
       "1        0.345359           0.051909       0.435130       -0.0469   \n",
       "2       -0.145921          -0.165072       0.851723       -0.0469   \n",
       "3       -0.342434          -0.165072      -0.556761       -0.0469   \n",
       "4       -0.342434          -0.165072      -0.556761       -0.0469   \n",
       "\n",
       "   word_freq_our  word_freq_over  word_freq_remove  word_freq_internet  \\\n",
       "0       0.011565       -0.350266         -0.291794           -0.262562   \n",
       "1      -0.256117        0.672399          0.244743           -0.088010   \n",
       "2       1.364846        0.343685          0.193644            0.036670   \n",
       "3       0.472573       -0.350266          0.500237            1.308402   \n",
       "4       0.472573       -0.350266          0.500237            1.308402   \n",
       "\n",
       "   word_freq_order  word_freq_mail  ...  word_freq_conference  char_freq_;  \\\n",
       "0        -0.323302       -0.371364  ...             -0.111546    -0.158453   \n",
       "1        -0.323302        1.086711  ...             -0.111546    -0.158453   \n",
       "2         1.974017        0.016422  ...             -0.111546    -0.117376   \n",
       "3         0.789462        0.605857  ...             -0.111546    -0.158453   \n",
       "4         0.789462        0.605857  ...             -0.111546    -0.158453   \n",
       "\n",
       "   char_freq_(  char_freq_[  char_freq_!  char_freq_$  char_freq_#  \\\n",
       "0    -0.514307    -0.155198     0.624007    -0.308355    -0.103048   \n",
       "1    -0.026007    -0.155198     0.126203     0.423783     0.008763   \n",
       "2     0.014684    -0.155198     0.008496     0.440053    -0.079754   \n",
       "3    -0.007511    -0.155198    -0.161934    -0.308355    -0.103048   \n",
       "4    -0.014910    -0.155198    -0.164387    -0.308355    -0.103048   \n",
       "\n",
       "   capital_run_length_average  capital_run_length_longest  \\\n",
       "0                   -0.045247                    0.045298   \n",
       "1                   -0.002443                    0.250563   \n",
       "2                    0.145921                    2.221106   \n",
       "3                   -0.052150                   -0.062466   \n",
       "4                   -0.052150                   -0.062466   \n",
       "\n",
       "   capital_run_length_total  \n",
       "0                 -0.008724  \n",
       "1                  1.228324  \n",
       "2                  3.258733  \n",
       "3                 -0.152222  \n",
       "4                 -0.152222  \n",
       "\n",
       "[5 rows x 57 columns]"
      ]
     },
     "execution_count": 19,
     "metadata": {},
     "output_type": "execute_result"
    }
   ],
   "source": [
    "from sklearn.preprocessing import StandardScaler\n",
    "scaler = StandardScaler()\n",
    "scaler.fit(df.drop('class',axis=1))\n",
    "\n",
    "scaled_features = scaler.transform(df.drop('class',axis=1))\n",
    "df_feat = pd.DataFrame(scaled_features,columns=df.columns[:-1])\n",
    "df_feat.head()"
   ]
  },
  {
   "cell_type": "markdown",
   "metadata": {},
   "source": [
    "### Modelling"
   ]
  },
  {
   "cell_type": "markdown",
   "metadata": {},
   "source": [
    "1. Split dataset into training and test set"
   ]
  },
  {
   "cell_type": "code",
   "execution_count": 43,
   "metadata": {},
   "outputs": [],
   "source": [
    "from sklearn.model_selection import train_test_split\n",
    "\n",
    "# X = df.drop('class', axis=1)\n",
    "X = scaled_features\n",
    "y = df['class']\n",
    "\n",
    "X_train, X_test, y_train, y_test = train_test_split(X, y, test_size=0.33, random_state=42)"
   ]
  },
  {
   "cell_type": "code",
   "execution_count": 44,
   "metadata": {},
   "outputs": [],
   "source": [
    "# Set up timer\n",
    "t = Timer()"
   ]
  },
  {
   "cell_type": "markdown",
   "metadata": {},
   "source": [
    "## SVM"
   ]
  },
  {
   "cell_type": "markdown",
   "metadata": {},
   "source": [
    "1. Default SVC model"
   ]
  },
  {
   "cell_type": "code",
   "execution_count": 45,
   "metadata": {},
   "outputs": [
    {
     "name": "stdout",
     "output_type": "stream",
     "text": [
      "Elapsed time: 0.8192 seconds\n",
      "Train Accuracy of SVC, C=1: 0.942\n",
      "Train Precision of SVC, C=1: 0.944\n",
      "Train Recall of SVC, C=1: 0.903\n",
      "Train F1 of SVC, C=1: 0.923\n",
      "Train ROC AUC of SVC, C=1: 0.935\n",
      "---\n",
      "Test Accuracy of SVC, C=1: 0.935\n",
      "Test Precision of SVC, C=1: 0.945\n",
      "Test Recall of SVC, C=1: 0.896\n",
      "Test F1 of SVC, C=1: 0.920\n",
      "Test ROC AUC of SVC, C=1: 0.929\n"
     ]
    }
   ],
   "source": [
    "from sklearn.svm import SVC\n",
    "from sklearn.model_selection import learning_curve\n",
    "from sklearn.metrics import classification_report,confusion_matrix, accuracy_score,roc_curve,roc_auc_score\n",
    "from sklearn.metrics import recall_score, precision_score, f1_score\n",
    "\n",
    "t.start()\n",
    "svc_base = SVC(C=1)\n",
    "svc_base.fit(X_train, y_train)\n",
    "y_pred_svc_base_train = svc_base.predict(X_train)\n",
    "y_pred_svc_base_test = svc_base.predict(X_test)\n",
    "t.stop()\n",
    "\n",
    "accuracy_train = accuracy_score(y_train, y_pred_svc_base_train)\n",
    "precision_train = precision_score(y_train, y_pred_svc_base_train)\n",
    "recall_train = recall_score(y_train, y_pred_svc_base_train)\n",
    "f1_train = f1_score(y_train, y_pred_svc_base_train)\n",
    "roc_auc_train = roc_auc_score(y_train, y_pred_svc_base_train)\n",
    "\n",
    "accuracy_test = accuracy_score(y_test, y_pred_svc_base_test)\n",
    "precision_test = precision_score(y_test, y_pred_svc_base_test)\n",
    "recall_test = recall_score(y_test, y_pred_svc_base_test)\n",
    "f1_test = f1_score(y_test, y_pred_svc_base_test)\n",
    "roc_auc_test = roc_auc_score(y_test, y_pred_svc_base_test)\n",
    "\n",
    "\n",
    "print(f\"Train Accuracy of SVC, C=1: {accuracy_train:.3f}\")\n",
    "print(f\"Train Precision of SVC, C=1: {precision_train:.3f}\")\n",
    "print(f\"Train Recall of SVC, C=1: {recall_train:.3f}\")\n",
    "print(f\"Train F1 of SVC, C=1: {f1_train:.3f}\")\n",
    "print(f\"Train ROC AUC of SVC, C=1: {roc_auc_train:.3f}\")\n",
    "\n",
    "print(\"---\")\n",
    "print(f\"Test Accuracy of SVC, C=1: {accuracy_test:.3f}\")\n",
    "print(f\"Test Precision of SVC, C=1: {precision_test:.3f}\")\n",
    "print(f\"Test Recall of SVC, C=1: {recall_test:.3f}\")\n",
    "print(f\"Test F1 of SVC, C=1: {f1_test:.3f}\")\n",
    "print(f\"Test ROC AUC of SVC, C=1: {roc_auc_test:.3f}\")"
   ]
  },
  {
   "cell_type": "markdown",
   "metadata": {},
   "source": [
    "Use Cross Validation for default model"
   ]
  },
  {
   "cell_type": "code",
   "execution_count": 46,
   "metadata": {},
   "outputs": [
    {
     "name": "stdout",
     "output_type": "stream",
     "text": [
      "Elapsed time: 2.2518 seconds\n"
     ]
    }
   ],
   "source": [
    "from sklearn.model_selection import cross_validate,cross_val_predict\n",
    "\n",
    "t.start()\n",
    "svc_base_res_base = cross_validate(\n",
    "      estimator=svc_base,\n",
    "      X=X_train,\n",
    "      y=y_train,\n",
    "      cv=5,\n",
    "      scoring=['accuracy', 'precision', 'recall', 'f1'],\n",
    "      return_train_score=True\n",
    "      )\n",
    "t.stop()"
   ]
  },
  {
   "cell_type": "markdown",
   "metadata": {},
   "source": [
    "Collect mean of all scores"
   ]
  },
  {
   "cell_type": "code",
   "execution_count": 47,
   "metadata": {},
   "outputs": [
    {
     "name": "stdout",
     "output_type": "stream",
     "text": [
      "train_accuracy: 0.943\n",
      "train_precision: 0.945\n",
      "train_recall: 0.903\n",
      "train_f1: 0.924\n",
      "----\n",
      "test_accuracy: 0.927\n",
      "test_precision: 0.928\n",
      "test_recall: 0.877\n",
      "test_f1: 0.902\n"
     ]
    }
   ],
   "source": [
    "training_metrics = [\"train_accuracy\", \"train_precision\", \"train_recall\", \"train_f1\"]\n",
    "testing_metrics = [\"test_accuracy\", \"test_precision\", \"test_recall\", \"test_f1\"]\n",
    "for m in training_metrics:\n",
    "    print(f\"{m}: {np.mean(svc_base_res_base[m]):.3f}\")\n",
    "print(\"----\")\n",
    "for m in testing_metrics:\n",
    "    print(f\"{m}: {np.mean(svc_base_res_base[m]):.3f}\")"
   ]
  },
  {
   "cell_type": "markdown",
   "metadata": {},
   "source": [
    "Plot learning curve of default SVC"
   ]
  },
  {
   "cell_type": "code",
   "execution_count": 48,
   "metadata": {},
   "outputs": [
    {
     "data": {
      "image/png": "[encoded data removed]",
      "text/plain": [
       "<Figure size 1440x360 with 3 Axes>"
      ]
     },
     "metadata": {
      "needs_background": "light"
     },
     "output_type": "display_data"
    }
   ],
   "source": [
    "title = \"SVC, C=1\"\n",
    "plot_learning_curve(\n",
    "    svc_base, title, X_train, y_train, ylim=(0.5, 1.01), cv=5, n_jobs=4\n",
    ")\n",
    "\n",
    "plt.show()"
   ]
  },
  {
   "cell_type": "code",
   "execution_count": 49,
   "metadata": {},
   "outputs": [
    {
     "name": "stdout",
     "output_type": "stream",
     "text": [
      "Train Accuracy of SVC, C=1: 0.927\n",
      "Train Precision of SVC, C=1: 0.928\n",
      "Train Recall of SVC, C=1: 0.877\n",
      "Train F1 of SVC, C=1: 0.902\n",
      "Train ROC AUC of SVC, C=1: 0.918\n",
      "---\n",
      "Test Accuracy of SVC, C=1: 0.932\n",
      "Test Precision of SVC, C=1: 0.942\n",
      "Test Recall of SVC, C=1: 0.893\n",
      "Test F1 of SVC, C=1: 0.916\n",
      "Test ROC AUC of SVC, C=1: 0.927\n"
     ]
    }
   ],
   "source": [
    "y_pred_svc_base_train = cross_val_predict(svc_base, X_train, y_train, cv=5)\n",
    "y_pred_svc_base_test = cross_val_predict(svc_base, X_test, y_test, cv=5)\n",
    "\n",
    "accuracy_train = accuracy_score(y_train, y_pred_svc_base_train)\n",
    "precision_train = precision_score(y_train, y_pred_svc_base_train)\n",
    "recall_train = recall_score(y_train, y_pred_svc_base_train)\n",
    "f1_train = f1_score(y_train, y_pred_svc_base_train)\n",
    "roc_auc_train = roc_auc_score(y_train, y_pred_svc_base_train)\n",
    "\n",
    "accuracy_test = accuracy_score(y_test, y_pred_svc_base_test)\n",
    "precision_test = precision_score(y_test, y_pred_svc_base_test)\n",
    "recall_test = recall_score(y_test, y_pred_svc_base_test)\n",
    "f1_test = f1_score(y_test, y_pred_svc_base_test)\n",
    "roc_auc_test = roc_auc_score(y_test, y_pred_svc_base_test)\n",
    "\n",
    "print(f\"Train Accuracy of SVC, C=1: {accuracy_train:.3f}\")\n",
    "print(f\"Train Precision of SVC, C=1: {precision_train:.3f}\")\n",
    "print(f\"Train Recall of SVC, C=1: {recall_train:.3f}\")\n",
    "print(f\"Train F1 of SVC, C=1: {f1_train:.3f}\")\n",
    "print(f\"Train ROC AUC of SVC, C=1: {roc_auc_train:.3f}\")\n",
    "\n",
    "print(\"---\")\n",
    "print(f\"Test Accuracy of SVC, C=1: {accuracy_test:.3f}\")\n",
    "print(f\"Test Precision of SVC, C=1: {precision_test:.3f}\")\n",
    "print(f\"Test Recall of SVC, C=1: {recall_test:.3f}\")\n",
    "print(f\"Test F1 of SVC, C=1: {f1_test:.3f}\")\n",
    "print(f\"Test ROC AUC of SVC, C=1: {roc_auc_test:.3f}\")"
   ]
  },
  {
   "cell_type": "markdown",
   "metadata": {},
   "source": [
    "Perform a hyperparameter tuning"
   ]
  },
  {
   "cell_type": "code",
   "execution_count": 27,
   "metadata": {},
   "outputs": [],
   "source": [
    "# Try with different kernels and C (reg parameter)\n",
    "kernels = [\"linear\", \"poly\", \"rbf\", \"sigmoid\"]\n",
    "regs = [0.0001, 0.001, 0.01, 0.1, 1]"
   ]
  },
  {
   "cell_type": "code",
   "execution_count": 28,
   "metadata": {},
   "outputs": [
    {
     "name": "stdout",
     "output_type": "stream",
     "text": [
      "Training for linear, 0.0001\n",
      "Training for linear, 0.001\n",
      "Training for linear, 0.01\n",
      "Training for linear, 0.1\n",
      "Training for linear, 1\n",
      "Training for poly, 0.0001\n",
      "Training for poly, 0.001\n",
      "Training for poly, 0.01\n",
      "Training for poly, 0.1\n",
      "Training for poly, 1\n",
      "Training for rbf, 0.0001\n"
     ]
    },
    {
     "name": "stderr",
     "output_type": "stream",
     "text": [
      "/Users/edwin/.virtualenvs/env/lib/python3.9/site-packages/sklearn/metrics/_classification.py:1334: UndefinedMetricWarning: Precision is ill-defined and being set to 0.0 due to no predicted samples. Use `zero_division` parameter to control this behavior.\n",
      "  _warn_prf(average, modifier, msg_start, len(result))\n",
      "/Users/edwin/.virtualenvs/env/lib/python3.9/site-packages/sklearn/metrics/_classification.py:1334: UndefinedMetricWarning: Precision is ill-defined and being set to 0.0 due to no predicted samples. Use `zero_division` parameter to control this behavior.\n",
      "  _warn_prf(average, modifier, msg_start, len(result))\n"
     ]
    },
    {
     "name": "stdout",
     "output_type": "stream",
     "text": [
      "Training for rbf, 0.001\n"
     ]
    },
    {
     "name": "stderr",
     "output_type": "stream",
     "text": [
      "/Users/edwin/.virtualenvs/env/lib/python3.9/site-packages/sklearn/metrics/_classification.py:1334: UndefinedMetricWarning: Precision is ill-defined and being set to 0.0 due to no predicted samples. Use `zero_division` parameter to control this behavior.\n",
      "  _warn_prf(average, modifier, msg_start, len(result))\n",
      "/Users/edwin/.virtualenvs/env/lib/python3.9/site-packages/sklearn/metrics/_classification.py:1334: UndefinedMetricWarning: Precision is ill-defined and being set to 0.0 due to no predicted samples. Use `zero_division` parameter to control this behavior.\n",
      "  _warn_prf(average, modifier, msg_start, len(result))\n"
     ]
    },
    {
     "name": "stdout",
     "output_type": "stream",
     "text": [
      "Training for rbf, 0.01\n",
      "Training for rbf, 0.1\n",
      "Training for rbf, 1\n",
      "Training for sigmoid, 0.0001\n"
     ]
    },
    {
     "name": "stderr",
     "output_type": "stream",
     "text": [
      "/Users/edwin/.virtualenvs/env/lib/python3.9/site-packages/sklearn/metrics/_classification.py:1334: UndefinedMetricWarning: Precision is ill-defined and being set to 0.0 due to no predicted samples. Use `zero_division` parameter to control this behavior.\n",
      "  _warn_prf(average, modifier, msg_start, len(result))\n",
      "/Users/edwin/.virtualenvs/env/lib/python3.9/site-packages/sklearn/metrics/_classification.py:1334: UndefinedMetricWarning: Precision is ill-defined and being set to 0.0 due to no predicted samples. Use `zero_division` parameter to control this behavior.\n",
      "  _warn_prf(average, modifier, msg_start, len(result))\n"
     ]
    },
    {
     "name": "stdout",
     "output_type": "stream",
     "text": [
      "Training for sigmoid, 0.001\n"
     ]
    },
    {
     "name": "stderr",
     "output_type": "stream",
     "text": [
      "/Users/edwin/.virtualenvs/env/lib/python3.9/site-packages/sklearn/metrics/_classification.py:1334: UndefinedMetricWarning: Precision is ill-defined and being set to 0.0 due to no predicted samples. Use `zero_division` parameter to control this behavior.\n",
      "  _warn_prf(average, modifier, msg_start, len(result))\n",
      "/Users/edwin/.virtualenvs/env/lib/python3.9/site-packages/sklearn/metrics/_classification.py:1334: UndefinedMetricWarning: Precision is ill-defined and being set to 0.0 due to no predicted samples. Use `zero_division` parameter to control this behavior.\n",
      "  _warn_prf(average, modifier, msg_start, len(result))\n"
     ]
    },
    {
     "name": "stdout",
     "output_type": "stream",
     "text": [
      "Training for sigmoid, 0.01\n",
      "Training for sigmoid, 0.1\n",
      "Training for sigmoid, 1\n"
     ]
    }
   ],
   "source": [
    "hp_scores = {}\n",
    "for k in kernels:\n",
    "    for c in regs:\n",
    "        hp_scores[f\"{k},{c}\"] = {}\n",
    "        print(f\"Training for {k}, {c}\")\n",
    "        svc = SVC(kernel = k, C=c)\n",
    "        svc.fit(X_train, y_train)\n",
    "        y_pred_train = svc.predict(X_train)\n",
    "        y_pred_test = svc.predict(X_test)\n",
    "\n",
    "        train_acc = accuracy_score(y_train,y_pred_train)\n",
    "        train_precision = precision_score(y_train, y_pred_train)\n",
    "        train_recall = recall_score(y_train, y_pred_train)\n",
    "        train_f1 = f1_score(y_train, y_pred_train)\n",
    "        train_roc = roc_auc_score(y_train, y_pred_train)\n",
    "\n",
    "        test_acc = accuracy_score(y_test,y_pred_test)\n",
    "        test_precision = precision_score(y_test, y_pred_test)\n",
    "        test_recall = recall_score(y_test, y_pred_test)\n",
    "        test_f1 = f1_score(y_test, y_pred_test)\n",
    "        test_roc = roc_auc_score(y_test, y_pred_test)\n",
    "    \n",
    "        hp_scores[f\"{k},{c}\"][\"train_acc\"] = train_acc\n",
    "        hp_scores[f\"{k},{c}\"][\"train_precision\"] = train_precision\n",
    "        hp_scores[f\"{k},{c}\"][\"train_recall\"] = train_recall\n",
    "        hp_scores[f\"{k},{c}\"][\"train_f1\"] = train_f1\n",
    "        hp_scores[f\"{k},{c}\"][\"train_roc\"] = train_roc\n",
    "\n",
    "        hp_scores[f\"{k},{c}\"][\"test_acc\"] = test_acc\n",
    "        hp_scores[f\"{k},{c}\"][\"test_precision\"] = test_precision\n",
    "        hp_scores[f\"{k},{c}\"][\"test_recall\"] = test_recall\n",
    "        hp_scores[f\"{k},{c}\"][\"test_f1\"] = test_f1\n",
    "        hp_scores[f\"{k},{c}\"][\"test_roc\"] = test_roc"
   ]
  },
  {
   "cell_type": "code",
   "execution_count": 29,
   "metadata": {},
   "outputs": [],
   "source": [
    "hp_scores_df = pd.DataFrame(hp_scores)"
   ]
  },
  {
   "cell_type": "code",
   "execution_count": 30,
   "metadata": {},
   "outputs": [
    {
     "data": {
      "text/plain": [
       "train_acc                rbf,1\n",
       "train_precision    poly,0.0001\n",
       "train_recall             rbf,1\n",
       "train_f1                 rbf,1\n",
       "train_roc                rbf,1\n",
       "test_acc                 rbf,1\n",
       "test_precision     poly,0.0001\n",
       "test_recall              rbf,1\n",
       "test_f1                  rbf,1\n",
       "test_roc                 rbf,1\n",
       "dtype: object"
      ]
     },
     "execution_count": 30,
     "metadata": {},
     "output_type": "execute_result"
    }
   ],
   "source": [
    "hp_scores_df.idxmax(axis=1)"
   ]
  },
  {
   "cell_type": "code",
   "execution_count": 31,
   "metadata": {},
   "outputs": [],
   "source": [
    "lin_columns = [c for c in hp_scores_df.columns if c.startswith(\"linear,\")]\n",
    "poly_columns = [c for c in hp_scores_df.columns if c.startswith(\"poly,\")]\n",
    "rbf_columns = [c for c in hp_scores_df.columns if c.startswith(\"rbf,\")]\n",
    "sig_columns = [c for c in hp_scores_df.columns if c.startswith(\"sigmoid,\")]\n",
    "\n",
    "lin_roc_scores_test = hp_scores_df.loc[\"test_roc\", lin_columns]\n",
    "poly_roc_scores_test = hp_scores_df.loc[\"test_roc\", poly_columns]\n",
    "rbf_roc_scores_test = hp_scores_df.loc[\"test_roc\", rbf_columns]\n",
    "sig_roc_scores_test = hp_scores_df.loc[\"test_roc\", sig_columns]"
   ]
  },
  {
   "cell_type": "code",
   "execution_count": 33,
   "metadata": {},
   "outputs": [
    {
     "data": {
      "text/plain": [
       "(array([-0.2,  0. ,  0.2,  0.4,  0.6,  0.8,  1. ,  1.2]),\n",
       " [Text(0, 0, ''),\n",
       "  Text(0, 0, ''),\n",
       "  Text(0, 0, ''),\n",
       "  Text(0, 0, ''),\n",
       "  Text(0, 0, ''),\n",
       "  Text(0, 0, ''),\n",
       "  Text(0, 0, ''),\n",
       "  Text(0, 0, '')])"
      ]
     },
     "execution_count": 33,
     "metadata": {},
     "output_type": "execute_result"
    },
    {
     "data": {
      "image/png": "[encoded data removed]",
      "text/plain": [
       "<Figure size 432x288 with 1 Axes>"
      ]
     },
     "metadata": {
      "needs_background": "light"
     },
     "output_type": "display_data"
    }
   ],
   "source": [
    "fig, ax = plt.subplots()\n",
    "\n",
    "ax.plot(\n",
    "    regs,\n",
    "    lin_roc_scores_test,\n",
    "    color='black', \n",
    "    linestyle='dashed', \n",
    "    marker='o',\n",
    "    markerfacecolor='black', \n",
    "    markersize=8,\n",
    "    label=\"linear\"\n",
    ")\n",
    "ax.plot(\n",
    "    regs,\n",
    "    poly_roc_scores_test,\n",
    "    color='blue', \n",
    "    linestyle='dashed', \n",
    "    marker='o',\n",
    "    markerfacecolor='blue', \n",
    "    markersize=8,\n",
    "    label=\"polynomial\"\n",
    ")\n",
    "ax.plot(\n",
    "    regs,\n",
    "    rbf_roc_scores_test,\n",
    "    color='red', \n",
    "    linestyle='dashed', \n",
    "    marker='o',\n",
    "    markerfacecolor='red', \n",
    "    markersize=8,\n",
    "    label=\"rbf\"\n",
    ")\n",
    "ax.plot(\n",
    "    regs,\n",
    "    sig_roc_scores_test,\n",
    "    color='green', \n",
    "    linestyle='dashed', \n",
    "    marker='o',\n",
    "    markerfacecolor='green', \n",
    "    markersize=8,\n",
    "    label=\"sigmoid\"\n",
    ")\n",
    "plt.title('ROC vs. C')\n",
    "plt.xlabel('C')\n",
    "plt.ylabel('ROC Score')\n",
    "plt.legend()\n",
    "plt.xticks()"
   ]
  },
  {
   "cell_type": "markdown",
   "metadata": {},
   "source": [
    "It seems that kernel=linear and C=0.001 provided the best scores. We will train the model again with these settings"
   ]
  },
  {
   "cell_type": "markdown",
   "metadata": {},
   "source": [
    "Advanced model"
   ]
  },
  {
   "cell_type": "code",
   "execution_count": 51,
   "metadata": {},
   "outputs": [
    {
     "name": "stdout",
     "output_type": "stream",
     "text": [
      "Elapsed time: 0.4024 seconds\n",
      "Train Accuracy of SVC, kernel=linear, C=0.001: 0.932\n",
      "Train Precision of SVC, kernel=linear, C=0.001: 0.927\n",
      "Train Recall of SVC, kernel=linear, C=0.001: 0.892\n",
      "Train F1 of SVC, kernel=linear, C=0.001: 0.909\n",
      "Train ROC AUC of SVC, kernel=linear, C=0.001: 0.924\n",
      "---\n",
      "Test Accuracy of SVC, kernel=linear, C=0.001: 0.924\n",
      "Test Precision of SVC, kernel=linear, C=0.001: 0.930\n",
      "Test Recall of SVC, kernel=linear, C=0.001: 0.885\n",
      "Test F1 of SVC, kernel=linear, C=0.001: 0.907\n",
      "Test ROC AUC of SVC, kernel=linear, C=0.001: 0.919\n"
     ]
    }
   ],
   "source": [
    "t.start()\n",
    "svc_adv = SVC(C=1, kernel=\"linear\")\n",
    "svc_adv.fit(X_train, y_train)\n",
    "y_pred_svc_adv_train = svc_adv.predict(X_train)\n",
    "y_pred_svc_adv_test = svc_adv.predict(X_test)\n",
    "t.stop()\n",
    "\n",
    "accuracy_train = accuracy_score(y_train, y_pred_svc_adv_train)\n",
    "precision_train = precision_score(y_train, y_pred_svc_adv_train)\n",
    "recall_train = recall_score(y_train, y_pred_svc_adv_train)\n",
    "f1_train = f1_score(y_train, y_pred_svc_adv_train)\n",
    "roc_auc_train = roc_auc_score(y_train, y_pred_svc_adv_train)\n",
    "\n",
    "accuracy_test = accuracy_score(y_test, y_pred_svc_adv_test)\n",
    "precision_test = precision_score(y_test, y_pred_svc_adv_test)\n",
    "recall_test = recall_score(y_test, y_pred_svc_adv_test)\n",
    "f1_test = f1_score(y_test, y_pred_svc_adv_test)\n",
    "roc_auc_test = roc_auc_score(y_test, y_pred_svc_adv_test)\n",
    "\n",
    "print(f\"Train Accuracy of SVC, kernel=linear, C=0.001: {accuracy_train:.3f}\")\n",
    "print(f\"Train Precision of SVC, kernel=linear, C=0.001: {precision_train:.3f}\")\n",
    "print(f\"Train Recall of SVC, kernel=linear, C=0.001: {recall_train:.3f}\")\n",
    "print(f\"Train F1 of SVC, kernel=linear, C=0.001: {f1_train:.3f}\")\n",
    "print(f\"Train ROC AUC of SVC, kernel=linear, C=0.001: {roc_auc_train:.3f}\")\n",
    "\n",
    "print(\"---\")\n",
    "print(f\"Test Accuracy of SVC, kernel=linear, C=0.001: {accuracy_test:.3f}\")\n",
    "print(f\"Test Precision of SVC, kernel=linear, C=0.001: {precision_test:.3f}\")\n",
    "print(f\"Test Recall of SVC, kernel=linear, C=0.001: {recall_test:.3f}\")\n",
    "print(f\"Test F1 of SVC, kernel=linear, C=0.001: {f1_test:.3f}\")\n",
    "print(f\"Test ROC AUC of SVC, kernel=linear, C=0.001: {roc_auc_test:.3f}\")\n"
   ]
  },
  {
   "cell_type": "code",
   "execution_count": 52,
   "metadata": {},
   "outputs": [
    {
     "name": "stdout",
     "output_type": "stream",
     "text": [
      "Elapsed time: 0.9725 seconds\n"
     ]
    }
   ],
   "source": [
    "from sklearn.model_selection import cross_validate,cross_val_predict\n",
    "\n",
    "t.start()\n",
    "svc_base_res_adv = cross_validate(\n",
    "      estimator=svc_adv,\n",
    "      X=X_train,\n",
    "      y=y_train,\n",
    "      cv=5,\n",
    "      scoring=['accuracy', 'precision', 'recall', 'f1'],\n",
    "      return_train_score=True\n",
    "      )\n",
    "t.stop()"
   ]
  },
  {
   "cell_type": "code",
   "execution_count": 53,
   "metadata": {},
   "outputs": [
    {
     "name": "stdout",
     "output_type": "stream",
     "text": [
      "train_accuracy: 0.932\n",
      "train_precision: 0.929\n",
      "train_recall: 0.892\n",
      "train_f1: 0.910\n",
      "----\n",
      "test_accuracy: 0.927\n",
      "test_precision: 0.918\n",
      "test_recall: 0.888\n",
      "test_f1: 0.903\n"
     ]
    }
   ],
   "source": [
    "for m in training_metrics:\n",
    "    print(f\"{m}: {np.mean(svc_base_res_adv[m]):.3f}\")\n",
    "print(\"----\")\n",
    "for m in testing_metrics:\n",
    "    print(f\"{m}: {np.mean(svc_base_res_adv[m]):.3f}\")"
   ]
  },
  {
   "cell_type": "code",
   "execution_count": 54,
   "metadata": {},
   "outputs": [
    {
     "data": {
      "image/png": "[encoded data removed]",
      "text/plain": [
       "<Figure size 1440x360 with 3 Axes>"
      ]
     },
     "metadata": {
      "needs_background": "light"
     },
     "output_type": "display_data"
    }
   ],
   "source": [
    "title = \"SVC, kernel=linear, C=1\"\n",
    "plot_learning_curve(\n",
    "    svc_adv, title, X_train, y_train, ylim=(0.7, 1.01), cv=5, n_jobs=4\n",
    ")\n",
    "\n",
    "plt.show()"
   ]
  },
  {
   "cell_type": "code",
   "execution_count": 38,
   "metadata": {},
   "outputs": [
    {
     "name": "stdout",
     "output_type": "stream",
     "text": [
      "Train Accuracy of SVC, kernel=linear, C=0.001: 0.887\n",
      "Train Precision of SVC, kernel=linear, C=0.001: 0.866\n",
      "Train Recall of SVC, kernel=linear, C=0.001: 0.833\n",
      "Train F1 of SVC, kernel=linear, C=0.001: 0.849\n",
      "Train ROC AUC of SVC, kernel=linear, C=0.001: 0.877\n",
      "---\n",
      "Test Accuracy of SVC, kernel=linear, C=0.001: 0.901\n",
      "Test Precision of SVC, kernel=linear, C=0.001: 0.895\n",
      "Test Recall of SVC, kernel=linear, C=0.001: 0.863\n",
      "Test F1 of SVC, kernel=linear, C=0.001: 0.879\n",
      "Test ROC AUC of SVC, kernel=linear, C=0.001: 0.895\n"
     ]
    }
   ],
   "source": [
    "y_pred_svc_adv_train = cross_val_predict(svc_adv, X_train, y_train, cv=5)\n",
    "y_pred_svc_adv_test = cross_val_predict(svc_adv, X_test, y_test, cv=5)\n",
    "\n",
    "accuracy_train = accuracy_score(y_train, y_pred_svc_adv_train)\n",
    "precision_train = precision_score(y_train, y_pred_svc_adv_train)\n",
    "recall_train = recall_score(y_train, y_pred_svc_adv_train)\n",
    "f1_train = f1_score(y_train, y_pred_svc_adv_train)\n",
    "roc_auc_train = roc_auc_score(y_train, y_pred_svc_adv_train)\n",
    "\n",
    "accuracy_test = accuracy_score(y_test, y_pred_svc_adv_test)\n",
    "precision_test = precision_score(y_test, y_pred_svc_adv_test)\n",
    "recall_test = recall_score(y_test, y_pred_svc_adv_test)\n",
    "f1_test = f1_score(y_test, y_pred_svc_adv_test)\n",
    "roc_auc_test = roc_auc_score(y_test, y_pred_svc_adv_test)\n",
    "\n",
    "print(f\"Train Accuracy of SVC, kernel=linear, C=0.001: {accuracy_train:.3f}\")\n",
    "print(f\"Train Precision of SVC, kernel=linear, C=0.001: {precision_train:.3f}\")\n",
    "print(f\"Train Recall of SVC, kernel=linear, C=0.001: {recall_train:.3f}\")\n",
    "print(f\"Train F1 of SVC, kernel=linear, C=0.001: {f1_train:.3f}\")\n",
    "print(f\"Train ROC AUC of SVC, kernel=linear, C=0.001: {roc_auc_train:.3f}\")\n",
    "\n",
    "print(\"---\")\n",
    "print(f\"Test Accuracy of SVC, kernel=linear, C=0.001: {accuracy_test:.3f}\")\n",
    "print(f\"Test Precision of SVC, kernel=linear, C=0.001: {precision_test:.3f}\")\n",
    "print(f\"Test Recall of SVC, kernel=linear, C=0.001: {recall_test:.3f}\")\n",
    "print(f\"Test F1 of SVC, kernel=linear, C=0.001: {f1_test:.3f}\")\n",
    "print(f\"Test ROC AUC of SVC, kernel=linear, C=0.001: {roc_auc_test:.3f}\")"
   ]
  },
  {
   "cell_type": "code",
   "execution_count": 55,
   "metadata": {},
   "outputs": [],
   "source": [
    "y_pred_base_svc_train_f = svc_base.predict(X_train)\n",
    "y_pred_adv_svc_train_f = svc_adv.predict(X_train)\n",
    "\n",
    "accuracy_base_train = accuracy_score(y_train, y_pred_base_svc_train_f)\n",
    "precision_base_train = precision_score(y_train, y_pred_base_svc_train_f)\n",
    "recall_base_train = recall_score(y_train, y_pred_base_svc_train_f)\n",
    "f1_base_train = f1_score(y_train, y_pred_base_svc_train_f)\n",
    "roc_base_train = roc_auc_score(y_train, y_pred_base_svc_train_f)\n",
    "\n",
    "accuracy_adv_train = accuracy_score(y_train, y_pred_adv_svc_train_f)\n",
    "precision_adv_train = precision_score(y_train, y_pred_adv_svc_train_f)\n",
    "recall_adv_train = recall_score(y_train, y_pred_adv_svc_train_f)\n",
    "f1_adv_train = f1_score(y_train, y_pred_adv_svc_train_f)\n",
    "roc_adv_train = roc_auc_score(y_train, y_pred_adv_svc_train_f)\n",
    "\n",
    "y_pred_base_svc_test_f = svc_base.predict(X_test)\n",
    "y_pred_adv_svc_test_f = svc_adv.predict(X_test)\n",
    "\n",
    "accuracy_base_test = accuracy_score(y_test, y_pred_base_svc_test_f)\n",
    "precision_base_test = precision_score(y_test, y_pred_base_svc_test_f)\n",
    "recall_base_test = recall_score(y_test, y_pred_base_svc_test_f)\n",
    "f1_base_test = f1_score(y_test, y_pred_base_svc_test_f)\n",
    "roc_base_test = roc_auc_score(y_test, y_pred_base_svc_test_f)\n",
    "\n",
    "accuracy_adv_test = accuracy_score(y_test, y_pred_adv_svc_test_f)\n",
    "precision_adv_test = precision_score(y_test, y_pred_adv_svc_test_f)\n",
    "recall_adv_test = recall_score(y_test, y_pred_adv_svc_test_f)\n",
    "f1_adv_test = f1_score(y_test, y_pred_adv_svc_test_f)\n",
    "roc_adv_test = roc_auc_score(y_test, y_pred_adv_svc_test_f)"
   ]
  },
  {
   "cell_type": "code",
   "execution_count": 56,
   "metadata": {},
   "outputs": [
    {
     "name": "stdout",
     "output_type": "stream",
     "text": [
      "Final - Training Set Performance\n",
      "Train Accuracy of Base SVC: 0.942\n",
      "Train Precision of Base SVC: 0.944\n",
      "Train Recall of Base SVC: 0.903\n",
      "Train F1 of Base SVC: 0.923\n",
      "Train ROC of Base SVC: 0.935\n",
      "-\n",
      "Train Accuracy of Adv SVC: 0.932\n",
      "Train Precision of Adv SVC: 0.927\n",
      "Train Recall of Adv SVC: 0.892\n",
      "Train F1 of Adv SVC: 0.909\n",
      "Train ROC of Adv SVC: 0.924\n",
      "---\n",
      "Test Accuracy of Base SVC: 0.935\n",
      "Test Precision of Base SVC: 0.945\n",
      "Test Recall of Base SVC: 0.896\n",
      "Test F1 of Base SVC: 0.920\n",
      "Test ROC of Base SVC: 0.929\n",
      "-\n",
      "Test Accuracy of Adv SVC: 0.924\n",
      "Test Precision of Adv SVC: 0.930\n",
      "Test Recall of Adv SVC: 0.885\n",
      "Test F1 of Adv SVC: 0.907\n",
      "Test ROC of Adv SVC: 0.919\n"
     ]
    }
   ],
   "source": [
    "print(\"Final - Training Set Performance\")\n",
    "print(f\"Train Accuracy of Base SVC: {accuracy_base_train:.3f}\")\n",
    "print(f\"Train Precision of Base SVC: {precision_base_train:.3f}\")\n",
    "print(f\"Train Recall of Base SVC: {recall_base_train:.3f}\")\n",
    "print(f\"Train F1 of Base SVC: {f1_base_train:.3f}\")\n",
    "print(f\"Train ROC of Base SVC: {roc_base_train:.3f}\")\n",
    "print(\"-\")\n",
    "print(f\"Train Accuracy of Adv SVC: {accuracy_adv_train:.3f}\")\n",
    "print(f\"Train Precision of Adv SVC: {precision_adv_train:.3f}\")\n",
    "print(f\"Train Recall of Adv SVC: {recall_adv_train:.3f}\")\n",
    "print(f\"Train F1 of Adv SVC: {f1_adv_train:.3f}\")\n",
    "print(f\"Train ROC of Adv SVC: {roc_adv_train:.3f}\")\n",
    "\n",
    "print(\"---\")\n",
    "\n",
    "print(f\"Test Accuracy of Base SVC: {accuracy_base_test:.3f}\")\n",
    "print(f\"Test Precision of Base SVC: {precision_base_test:.3f}\")\n",
    "print(f\"Test Recall of Base SVC: {recall_base_test:.3f}\")\n",
    "print(f\"Test F1 of Base SVC: {f1_base_test:.3f}\")\n",
    "print(f\"Test ROC of Base SVC: {roc_base_test:.3f}\")\n",
    "print(\"-\")\n",
    "print(f\"Test Accuracy of Adv SVC: {accuracy_adv_test:.3f}\")\n",
    "print(f\"Test Precision of Adv SVC: {precision_adv_test:.3f}\")\n",
    "print(f\"Test Recall of Adv SVC: {recall_adv_test:.3f}\")\n",
    "print(f\"Test F1 of Adv SVC: {f1_adv_test:.3f}\")\n",
    "print(f\"Test ROC of Adv SVC: {roc_adv_test:.3f}\")"
   ]
  },
  {
   "cell_type": "code",
   "execution_count": 58,
   "metadata": {},
   "outputs": [
    {
     "data": {
      "text/plain": [
       "<matplotlib.legend.Legend at 0x7fe0995194c0>"
      ]
     },
     "execution_count": 58,
     "metadata": {},
     "output_type": "execute_result"
    },
    {
     "data": {
      "image/png": "[encoded data removed]",
      "text/plain": [
       "<Figure size 432x288 with 1 Axes>"
      ]
     },
     "metadata": {
      "needs_background": "light"
     },
     "output_type": "display_data"
    }
   ],
   "source": [
    "plt.figure(0).clf()\n",
    "\n",
    "# Basic\n",
    "fpr, tpr, _ = roc_curve(y_train, y_pred_base_svc_train_f)\n",
    "auc = round(roc_auc_score(y_train, y_pred_base_svc_train_f), 4)\n",
    "plt.plot(fpr,tpr,label=\"RBF Kernel SVC - Training, AUC=\"+str(auc), linestyle=\"dotted\")\n",
    "\n",
    "fpr, tpr, _ = roc_curve(y_test, y_pred_base_svc_test_f)\n",
    "auc = round(roc_auc_score(y_test, y_pred_base_svc_test_f), 4)\n",
    "plt.plot(fpr,tpr,label=\"RBF Kernel SVC - Testing, AUC=\"+str(auc), linestyle=\"solid\")\n",
    "\n",
    "# ADV\n",
    "\n",
    "fpr, tpr, _ = roc_curve(y_train, y_pred_adv_svc_train_f)\n",
    "auc = round(roc_auc_score(y_train, y_pred_adv_svc_train_f), 4)\n",
    "plt.plot(fpr,tpr,label=f\"Linear Kernel SVC - Training, AUC=\"+str(auc), linestyle=\"dotted\")\n",
    "plt.legend()\n",
    "\n",
    "fpr, tpr, _ = roc_curve(y_test, y_pred_adv_svc_test_f)\n",
    "auc = round(roc_auc_score(y_test, y_pred_adv_svc_test_f), 4)\n",
    "plt.plot(fpr,tpr,label=f\"Linear Kernel SVC - Testing, AUC=\"+str(auc), linestyle=\"solid\")\n",
    "plt.legend()"
   ]
  }
 ],
 "metadata": {
  "kernelspec": {
   "display_name": "Python 3.9.0 ('env')",
   "language": "python",
   "name": "python3"
  },
  "language_info": {
   "codemirror_mode": {
    "name": "ipython",
    "version": 3
   },
   "file_extension": ".py",
   "mimetype": "text/x-python",
   "name": "python",
   "nbconvert_exporter": "python",
   "pygments_lexer": "ipython3",
   "version": "3.9.0"
  },
  "orig_nbformat": 4,
  "vscode": {
   "interpreter": {
    "hash": "feb712a7b8845ee20af226e60c344eb8ada9fd25c3cb3dd6e0156fe71ad0fb01"
   }
  }
 },
 "nbformat": 4,
 "nbformat_minor": 2
}
