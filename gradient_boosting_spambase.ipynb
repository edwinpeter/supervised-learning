{
 "cells": [
  {
   "cell_type": "markdown",
   "metadata": {},
   "source": [
    "# Gradient Boosting"
   ]
  },
  {
   "cell_type": "markdown",
   "metadata": {},
   "source": [
    "This notebook shows the Gradient Boosting model for spambase data"
   ]
  },
  {
   "cell_type": "code",
   "execution_count": 4,
   "metadata": {},
   "outputs": [],
   "source": [
    "import pandas as pd\n",
    "import numpy as np\n",
    "import matplotlib.pyplot as plt\n",
    "import seaborn as sns\n",
    "from utils import Timer, plot_learning_curve"
   ]
  },
  {
   "cell_type": "code",
   "execution_count": 5,
   "metadata": {},
   "outputs": [],
   "source": [
    "df = pd.read_csv(\"spambase.csv\")"
   ]
  },
  {
   "cell_type": "code",
   "execution_count": 6,
   "metadata": {},
   "outputs": [
    {
     "data": {
      "text/html": [
       "<div>\n",
       "<style scoped>\n",
       "    .dataframe tbody tr th:only-of-type {\n",
       "        vertical-align: middle;\n",
       "    }\n",
       "\n",
       "    .dataframe tbody tr th {\n",
       "        vertical-align: top;\n",
       "    }\n",
       "\n",
       "    .dataframe thead th {\n",
       "        text-align: right;\n",
       "    }\n",
       "</style>\n",
       "<table border=\"1\" class=\"dataframe\">\n",
       "  <thead>\n",
       "    <tr style=\"text-align: right;\">\n",
       "      <th></th>\n",
       "      <th>word_freq_make</th>\n",
       "      <th>word_freq_address</th>\n",
       "      <th>word_freq_all</th>\n",
       "      <th>word_freq_3d</th>\n",
       "      <th>word_freq_our</th>\n",
       "      <th>word_freq_over</th>\n",
       "      <th>word_freq_remove</th>\n",
       "      <th>word_freq_internet</th>\n",
       "      <th>word_freq_order</th>\n",
       "      <th>word_freq_mail</th>\n",
       "      <th>...</th>\n",
       "      <th>char_freq_;</th>\n",
       "      <th>char_freq_(</th>\n",
       "      <th>char_freq_[</th>\n",
       "      <th>char_freq_!</th>\n",
       "      <th>char_freq_$</th>\n",
       "      <th>char_freq_#</th>\n",
       "      <th>capital_run_length_average</th>\n",
       "      <th>capital_run_length_longest</th>\n",
       "      <th>capital_run_length_total</th>\n",
       "      <th>class</th>\n",
       "    </tr>\n",
       "  </thead>\n",
       "  <tbody>\n",
       "    <tr>\n",
       "      <th>0</th>\n",
       "      <td>0.00</td>\n",
       "      <td>0.64</td>\n",
       "      <td>0.64</td>\n",
       "      <td>0.0</td>\n",
       "      <td>0.32</td>\n",
       "      <td>0.00</td>\n",
       "      <td>0.00</td>\n",
       "      <td>0.00</td>\n",
       "      <td>0.00</td>\n",
       "      <td>0.00</td>\n",
       "      <td>...</td>\n",
       "      <td>0.00</td>\n",
       "      <td>0.000</td>\n",
       "      <td>0.0</td>\n",
       "      <td>0.778</td>\n",
       "      <td>0.000</td>\n",
       "      <td>0.000</td>\n",
       "      <td>3.756</td>\n",
       "      <td>61</td>\n",
       "      <td>278</td>\n",
       "      <td>1</td>\n",
       "    </tr>\n",
       "    <tr>\n",
       "      <th>1</th>\n",
       "      <td>0.21</td>\n",
       "      <td>0.28</td>\n",
       "      <td>0.50</td>\n",
       "      <td>0.0</td>\n",
       "      <td>0.14</td>\n",
       "      <td>0.28</td>\n",
       "      <td>0.21</td>\n",
       "      <td>0.07</td>\n",
       "      <td>0.00</td>\n",
       "      <td>0.94</td>\n",
       "      <td>...</td>\n",
       "      <td>0.00</td>\n",
       "      <td>0.132</td>\n",
       "      <td>0.0</td>\n",
       "      <td>0.372</td>\n",
       "      <td>0.180</td>\n",
       "      <td>0.048</td>\n",
       "      <td>5.114</td>\n",
       "      <td>101</td>\n",
       "      <td>1028</td>\n",
       "      <td>1</td>\n",
       "    </tr>\n",
       "    <tr>\n",
       "      <th>2</th>\n",
       "      <td>0.06</td>\n",
       "      <td>0.00</td>\n",
       "      <td>0.71</td>\n",
       "      <td>0.0</td>\n",
       "      <td>1.23</td>\n",
       "      <td>0.19</td>\n",
       "      <td>0.19</td>\n",
       "      <td>0.12</td>\n",
       "      <td>0.64</td>\n",
       "      <td>0.25</td>\n",
       "      <td>...</td>\n",
       "      <td>0.01</td>\n",
       "      <td>0.143</td>\n",
       "      <td>0.0</td>\n",
       "      <td>0.276</td>\n",
       "      <td>0.184</td>\n",
       "      <td>0.010</td>\n",
       "      <td>9.821</td>\n",
       "      <td>485</td>\n",
       "      <td>2259</td>\n",
       "      <td>1</td>\n",
       "    </tr>\n",
       "    <tr>\n",
       "      <th>3</th>\n",
       "      <td>0.00</td>\n",
       "      <td>0.00</td>\n",
       "      <td>0.00</td>\n",
       "      <td>0.0</td>\n",
       "      <td>0.63</td>\n",
       "      <td>0.00</td>\n",
       "      <td>0.31</td>\n",
       "      <td>0.63</td>\n",
       "      <td>0.31</td>\n",
       "      <td>0.63</td>\n",
       "      <td>...</td>\n",
       "      <td>0.00</td>\n",
       "      <td>0.137</td>\n",
       "      <td>0.0</td>\n",
       "      <td>0.137</td>\n",
       "      <td>0.000</td>\n",
       "      <td>0.000</td>\n",
       "      <td>3.537</td>\n",
       "      <td>40</td>\n",
       "      <td>191</td>\n",
       "      <td>1</td>\n",
       "    </tr>\n",
       "    <tr>\n",
       "      <th>4</th>\n",
       "      <td>0.00</td>\n",
       "      <td>0.00</td>\n",
       "      <td>0.00</td>\n",
       "      <td>0.0</td>\n",
       "      <td>0.63</td>\n",
       "      <td>0.00</td>\n",
       "      <td>0.31</td>\n",
       "      <td>0.63</td>\n",
       "      <td>0.31</td>\n",
       "      <td>0.63</td>\n",
       "      <td>...</td>\n",
       "      <td>0.00</td>\n",
       "      <td>0.135</td>\n",
       "      <td>0.0</td>\n",
       "      <td>0.135</td>\n",
       "      <td>0.000</td>\n",
       "      <td>0.000</td>\n",
       "      <td>3.537</td>\n",
       "      <td>40</td>\n",
       "      <td>191</td>\n",
       "      <td>1</td>\n",
       "    </tr>\n",
       "  </tbody>\n",
       "</table>\n",
       "<p>5 rows × 58 columns</p>\n",
       "</div>"
      ],
      "text/plain": [
       "   word_freq_make  word_freq_address  word_freq_all  word_freq_3d  \\\n",
       "0            0.00               0.64           0.64           0.0   \n",
       "1            0.21               0.28           0.50           0.0   \n",
       "2            0.06               0.00           0.71           0.0   \n",
       "3            0.00               0.00           0.00           0.0   \n",
       "4            0.00               0.00           0.00           0.0   \n",
       "\n",
       "   word_freq_our  word_freq_over  word_freq_remove  word_freq_internet  \\\n",
       "0           0.32            0.00              0.00                0.00   \n",
       "1           0.14            0.28              0.21                0.07   \n",
       "2           1.23            0.19              0.19                0.12   \n",
       "3           0.63            0.00              0.31                0.63   \n",
       "4           0.63            0.00              0.31                0.63   \n",
       "\n",
       "   word_freq_order  word_freq_mail  ...  char_freq_;  char_freq_(  \\\n",
       "0             0.00            0.00  ...         0.00        0.000   \n",
       "1             0.00            0.94  ...         0.00        0.132   \n",
       "2             0.64            0.25  ...         0.01        0.143   \n",
       "3             0.31            0.63  ...         0.00        0.137   \n",
       "4             0.31            0.63  ...         0.00        0.135   \n",
       "\n",
       "   char_freq_[  char_freq_!  char_freq_$  char_freq_#  \\\n",
       "0          0.0        0.778        0.000        0.000   \n",
       "1          0.0        0.372        0.180        0.048   \n",
       "2          0.0        0.276        0.184        0.010   \n",
       "3          0.0        0.137        0.000        0.000   \n",
       "4          0.0        0.135        0.000        0.000   \n",
       "\n",
       "   capital_run_length_average  capital_run_length_longest  \\\n",
       "0                       3.756                          61   \n",
       "1                       5.114                         101   \n",
       "2                       9.821                         485   \n",
       "3                       3.537                          40   \n",
       "4                       3.537                          40   \n",
       "\n",
       "   capital_run_length_total  class  \n",
       "0                       278      1  \n",
       "1                      1028      1  \n",
       "2                      2259      1  \n",
       "3                       191      1  \n",
       "4                       191      1  \n",
       "\n",
       "[5 rows x 58 columns]"
      ]
     },
     "execution_count": 6,
     "metadata": {},
     "output_type": "execute_result"
    }
   ],
   "source": [
    "df.head()"
   ]
  },
  {
   "cell_type": "code",
   "execution_count": 7,
   "metadata": {},
   "outputs": [
    {
     "data": {
      "text/html": [
       "<div>\n",
       "<style scoped>\n",
       "    .dataframe tbody tr th:only-of-type {\n",
       "        vertical-align: middle;\n",
       "    }\n",
       "\n",
       "    .dataframe tbody tr th {\n",
       "        vertical-align: top;\n",
       "    }\n",
       "\n",
       "    .dataframe thead th {\n",
       "        text-align: right;\n",
       "    }\n",
       "</style>\n",
       "<table border=\"1\" class=\"dataframe\">\n",
       "  <thead>\n",
       "    <tr style=\"text-align: right;\">\n",
       "      <th></th>\n",
       "      <th>word_freq_make</th>\n",
       "      <th>word_freq_address</th>\n",
       "      <th>word_freq_all</th>\n",
       "      <th>word_freq_3d</th>\n",
       "      <th>word_freq_our</th>\n",
       "      <th>word_freq_over</th>\n",
       "      <th>word_freq_remove</th>\n",
       "      <th>word_freq_internet</th>\n",
       "      <th>word_freq_order</th>\n",
       "      <th>word_freq_mail</th>\n",
       "      <th>...</th>\n",
       "      <th>word_freq_conference</th>\n",
       "      <th>char_freq_;</th>\n",
       "      <th>char_freq_(</th>\n",
       "      <th>char_freq_[</th>\n",
       "      <th>char_freq_!</th>\n",
       "      <th>char_freq_$</th>\n",
       "      <th>char_freq_#</th>\n",
       "      <th>capital_run_length_average</th>\n",
       "      <th>capital_run_length_longest</th>\n",
       "      <th>capital_run_length_total</th>\n",
       "    </tr>\n",
       "  </thead>\n",
       "  <tbody>\n",
       "    <tr>\n",
       "      <th>0</th>\n",
       "      <td>-0.342434</td>\n",
       "      <td>0.330885</td>\n",
       "      <td>0.712859</td>\n",
       "      <td>-0.0469</td>\n",
       "      <td>0.011565</td>\n",
       "      <td>-0.350266</td>\n",
       "      <td>-0.291794</td>\n",
       "      <td>-0.262562</td>\n",
       "      <td>-0.323302</td>\n",
       "      <td>-0.371364</td>\n",
       "      <td>...</td>\n",
       "      <td>-0.111546</td>\n",
       "      <td>-0.158453</td>\n",
       "      <td>-0.514307</td>\n",
       "      <td>-0.155198</td>\n",
       "      <td>0.624007</td>\n",
       "      <td>-0.308355</td>\n",
       "      <td>-0.103048</td>\n",
       "      <td>-0.045247</td>\n",
       "      <td>0.045298</td>\n",
       "      <td>-0.008724</td>\n",
       "    </tr>\n",
       "    <tr>\n",
       "      <th>1</th>\n",
       "      <td>0.345359</td>\n",
       "      <td>0.051909</td>\n",
       "      <td>0.435130</td>\n",
       "      <td>-0.0469</td>\n",
       "      <td>-0.256117</td>\n",
       "      <td>0.672399</td>\n",
       "      <td>0.244743</td>\n",
       "      <td>-0.088010</td>\n",
       "      <td>-0.323302</td>\n",
       "      <td>1.086711</td>\n",
       "      <td>...</td>\n",
       "      <td>-0.111546</td>\n",
       "      <td>-0.158453</td>\n",
       "      <td>-0.026007</td>\n",
       "      <td>-0.155198</td>\n",
       "      <td>0.126203</td>\n",
       "      <td>0.423783</td>\n",
       "      <td>0.008763</td>\n",
       "      <td>-0.002443</td>\n",
       "      <td>0.250563</td>\n",
       "      <td>1.228324</td>\n",
       "    </tr>\n",
       "    <tr>\n",
       "      <th>2</th>\n",
       "      <td>-0.145921</td>\n",
       "      <td>-0.165072</td>\n",
       "      <td>0.851723</td>\n",
       "      <td>-0.0469</td>\n",
       "      <td>1.364846</td>\n",
       "      <td>0.343685</td>\n",
       "      <td>0.193644</td>\n",
       "      <td>0.036670</td>\n",
       "      <td>1.974017</td>\n",
       "      <td>0.016422</td>\n",
       "      <td>...</td>\n",
       "      <td>-0.111546</td>\n",
       "      <td>-0.117376</td>\n",
       "      <td>0.014684</td>\n",
       "      <td>-0.155198</td>\n",
       "      <td>0.008496</td>\n",
       "      <td>0.440053</td>\n",
       "      <td>-0.079754</td>\n",
       "      <td>0.145921</td>\n",
       "      <td>2.221106</td>\n",
       "      <td>3.258733</td>\n",
       "    </tr>\n",
       "    <tr>\n",
       "      <th>3</th>\n",
       "      <td>-0.342434</td>\n",
       "      <td>-0.165072</td>\n",
       "      <td>-0.556761</td>\n",
       "      <td>-0.0469</td>\n",
       "      <td>0.472573</td>\n",
       "      <td>-0.350266</td>\n",
       "      <td>0.500237</td>\n",
       "      <td>1.308402</td>\n",
       "      <td>0.789462</td>\n",
       "      <td>0.605857</td>\n",
       "      <td>...</td>\n",
       "      <td>-0.111546</td>\n",
       "      <td>-0.158453</td>\n",
       "      <td>-0.007511</td>\n",
       "      <td>-0.155198</td>\n",
       "      <td>-0.161934</td>\n",
       "      <td>-0.308355</td>\n",
       "      <td>-0.103048</td>\n",
       "      <td>-0.052150</td>\n",
       "      <td>-0.062466</td>\n",
       "      <td>-0.152222</td>\n",
       "    </tr>\n",
       "    <tr>\n",
       "      <th>4</th>\n",
       "      <td>-0.342434</td>\n",
       "      <td>-0.165072</td>\n",
       "      <td>-0.556761</td>\n",
       "      <td>-0.0469</td>\n",
       "      <td>0.472573</td>\n",
       "      <td>-0.350266</td>\n",
       "      <td>0.500237</td>\n",
       "      <td>1.308402</td>\n",
       "      <td>0.789462</td>\n",
       "      <td>0.605857</td>\n",
       "      <td>...</td>\n",
       "      <td>-0.111546</td>\n",
       "      <td>-0.158453</td>\n",
       "      <td>-0.014910</td>\n",
       "      <td>-0.155198</td>\n",
       "      <td>-0.164387</td>\n",
       "      <td>-0.308355</td>\n",
       "      <td>-0.103048</td>\n",
       "      <td>-0.052150</td>\n",
       "      <td>-0.062466</td>\n",
       "      <td>-0.152222</td>\n",
       "    </tr>\n",
       "  </tbody>\n",
       "</table>\n",
       "<p>5 rows × 57 columns</p>\n",
       "</div>"
      ],
      "text/plain": [
       "   word_freq_make  word_freq_address  word_freq_all  word_freq_3d  \\\n",
       "0       -0.342434           0.330885       0.712859       -0.0469   \n",
       "1        0.345359           0.051909       0.435130       -0.0469   \n",
       "2       -0.145921          -0.165072       0.851723       -0.0469   \n",
       "3       -0.342434          -0.165072      -0.556761       -0.0469   \n",
       "4       -0.342434          -0.165072      -0.556761       -0.0469   \n",
       "\n",
       "   word_freq_our  word_freq_over  word_freq_remove  word_freq_internet  \\\n",
       "0       0.011565       -0.350266         -0.291794           -0.262562   \n",
       "1      -0.256117        0.672399          0.244743           -0.088010   \n",
       "2       1.364846        0.343685          0.193644            0.036670   \n",
       "3       0.472573       -0.350266          0.500237            1.308402   \n",
       "4       0.472573       -0.350266          0.500237            1.308402   \n",
       "\n",
       "   word_freq_order  word_freq_mail  ...  word_freq_conference  char_freq_;  \\\n",
       "0        -0.323302       -0.371364  ...             -0.111546    -0.158453   \n",
       "1        -0.323302        1.086711  ...             -0.111546    -0.158453   \n",
       "2         1.974017        0.016422  ...             -0.111546    -0.117376   \n",
       "3         0.789462        0.605857  ...             -0.111546    -0.158453   \n",
       "4         0.789462        0.605857  ...             -0.111546    -0.158453   \n",
       "\n",
       "   char_freq_(  char_freq_[  char_freq_!  char_freq_$  char_freq_#  \\\n",
       "0    -0.514307    -0.155198     0.624007    -0.308355    -0.103048   \n",
       "1    -0.026007    -0.155198     0.126203     0.423783     0.008763   \n",
       "2     0.014684    -0.155198     0.008496     0.440053    -0.079754   \n",
       "3    -0.007511    -0.155198    -0.161934    -0.308355    -0.103048   \n",
       "4    -0.014910    -0.155198    -0.164387    -0.308355    -0.103048   \n",
       "\n",
       "   capital_run_length_average  capital_run_length_longest  \\\n",
       "0                   -0.045247                    0.045298   \n",
       "1                   -0.002443                    0.250563   \n",
       "2                    0.145921                    2.221106   \n",
       "3                   -0.052150                   -0.062466   \n",
       "4                   -0.052150                   -0.062466   \n",
       "\n",
       "   capital_run_length_total  \n",
       "0                 -0.008724  \n",
       "1                  1.228324  \n",
       "2                  3.258733  \n",
       "3                 -0.152222  \n",
       "4                 -0.152222  \n",
       "\n",
       "[5 rows x 57 columns]"
      ]
     },
     "execution_count": 7,
     "metadata": {},
     "output_type": "execute_result"
    }
   ],
   "source": [
    "from sklearn.preprocessing import StandardScaler\n",
    "scaler = StandardScaler()\n",
    "scaler.fit(df.drop('class',axis=1))\n",
    "\n",
    "scaled_features = scaler.transform(df.drop('class',axis=1))\n",
    "df_feat = pd.DataFrame(scaled_features,columns=df.columns[:-1])\n",
    "df_feat.head()"
   ]
  },
  {
   "cell_type": "markdown",
   "metadata": {},
   "source": [
    "### Modelling"
   ]
  },
  {
   "cell_type": "markdown",
   "metadata": {},
   "source": [
    "1. Split dataset into training and test set"
   ]
  },
  {
   "cell_type": "code",
   "execution_count": 8,
   "metadata": {},
   "outputs": [],
   "source": [
    "from sklearn.model_selection import train_test_split\n",
    "\n",
    "X = df_feat\n",
    "y = df['class']\n",
    "\n",
    "X_train, X_test, y_train, y_test = train_test_split(X, y, test_size=0.33, random_state=42)"
   ]
  },
  {
   "cell_type": "code",
   "execution_count": 9,
   "metadata": {},
   "outputs": [],
   "source": [
    "# Set up timer\n",
    "t = Timer()"
   ]
  },
  {
   "cell_type": "markdown",
   "metadata": {},
   "source": [
    "## Gradient Boosting"
   ]
  },
  {
   "cell_type": "markdown",
   "metadata": {},
   "source": [
    "1. Default Gradient Boosting model"
   ]
  },
  {
   "cell_type": "code",
   "execution_count": 10,
   "metadata": {},
   "outputs": [
    {
     "name": "stdout",
     "output_type": "stream",
     "text": [
      "Elapsed time: 0.7982 seconds\n",
      "Train Accuracy of GBC: 0.963\n",
      "Train Precision of GBC: 0.961\n",
      "Train Recall of GBC: 0.942\n",
      "Train F1 of GBC: 0.952\n",
      "Train ROC of GBC: 0.959\n",
      "---\n",
      "Test Accuracy of GBC: 0.951\n",
      "Test Precision of GBC: 0.954\n",
      "Test Recall of GBC: 0.926\n",
      "Test F1 of GBC: 0.940\n",
      "Test ROC of GBC: 0.947\n"
     ]
    }
   ],
   "source": [
    "from sklearn.ensemble import GradientBoostingClassifier\n",
    "from sklearn.model_selection import learning_curve\n",
    "from sklearn.metrics import classification_report,confusion_matrix, accuracy_score,roc_curve,roc_auc_score\n",
    "from sklearn.metrics import recall_score, precision_score, f1_score\n",
    "\n",
    "t.start()\n",
    "gbc_base = GradientBoostingClassifier(\n",
    "    random_state=0\n",
    ")\n",
    "gbc_base.fit(X_train, y_train)\n",
    "y_pred_gbc_base_train = gbc_base.predict(X_train)\n",
    "y_pred_gbc_base_test = gbc_base.predict(X_test)\n",
    "t.stop()\n",
    "\n",
    "accuracy_train = accuracy_score(y_train, y_pred_gbc_base_train)\n",
    "precision_train = precision_score(y_train, y_pred_gbc_base_train)\n",
    "recall_train = recall_score(y_train, y_pred_gbc_base_train)\n",
    "f1_train = f1_score(y_train, y_pred_gbc_base_train)\n",
    "roc_auc_train = roc_auc_score(y_train, y_pred_gbc_base_train)\n",
    "\n",
    "accuracy_test = accuracy_score(y_test, y_pred_gbc_base_test)\n",
    "precision_test = precision_score(y_test, y_pred_gbc_base_test)\n",
    "recall_test = recall_score(y_test, y_pred_gbc_base_test)\n",
    "f1_test = f1_score(y_test, y_pred_gbc_base_test)\n",
    "roc_auc_test = roc_auc_score(y_test, y_pred_gbc_base_test)\n",
    "\n",
    "print(f\"Train Accuracy of GBC: {accuracy_train:.3f}\")\n",
    "print(f\"Train Precision of GBC: {precision_train:.3f}\")\n",
    "print(f\"Train Recall of GBC: {recall_train:.3f}\")\n",
    "print(f\"Train F1 of GBC: {f1_train:.3f}\")\n",
    "print(f\"Train ROC of GBC: {roc_auc_train:.3f}\")\n",
    "print(\"---\")\n",
    "print(f\"Test Accuracy of GBC: {accuracy_test:.3f}\")\n",
    "print(f\"Test Precision of GBC: {precision_test:.3f}\")\n",
    "print(f\"Test Recall of GBC: {recall_test:.3f}\")\n",
    "print(f\"Test F1 of GBC: {f1_test:.3f}\")\n",
    "print(f\"Test ROC of GBC: {roc_auc_test:.3f}\")"
   ]
  },
  {
   "cell_type": "markdown",
   "metadata": {},
   "source": [
    "Use Cross Validation for default model"
   ]
  },
  {
   "cell_type": "code",
   "execution_count": 11,
   "metadata": {},
   "outputs": [
    {
     "name": "stdout",
     "output_type": "stream",
     "text": [
      "Elapsed time: 3.2046 seconds\n"
     ]
    }
   ],
   "source": [
    "from sklearn.model_selection import cross_validate,cross_val_predict\n",
    "\n",
    "t.start()\n",
    "gbc_base_res_base = cross_validate(\n",
    "      estimator=gbc_base,\n",
    "      X=X_train,\n",
    "      y=y_train,\n",
    "      cv=5,\n",
    "      scoring=['accuracy', 'precision', 'recall', 'f1'],\n",
    "      return_train_score=True\n",
    "      )\n",
    "t.stop()"
   ]
  },
  {
   "cell_type": "markdown",
   "metadata": {},
   "source": [
    "Collect mean of all scores"
   ]
  },
  {
   "cell_type": "code",
   "execution_count": 12,
   "metadata": {},
   "outputs": [
    {
     "name": "stdout",
     "output_type": "stream",
     "text": [
      "train_accuracy: 0.966\n",
      "train_precision: 0.966\n",
      "train_recall: 0.946\n",
      "train_f1: 0.956\n",
      "----\n",
      "test_accuracy: 0.940\n",
      "test_precision: 0.942\n",
      "test_recall: 0.899\n",
      "test_f1: 0.920\n"
     ]
    }
   ],
   "source": [
    "training_metrics = [\"train_accuracy\", \"train_precision\", \"train_recall\", \"train_f1\"]\n",
    "testing_metrics = [\"test_accuracy\", \"test_precision\", \"test_recall\", \"test_f1\"]\n",
    "for m in training_metrics:\n",
    "    print(f\"{m}: {np.mean(gbc_base_res_base[m]):.3f}\")\n",
    "print(\"----\")\n",
    "for m in testing_metrics:\n",
    "    print(f\"{m}: {np.mean(gbc_base_res_base[m]):.3f}\")"
   ]
  },
  {
   "cell_type": "markdown",
   "metadata": {},
   "source": [
    "Plot learning curve of default GBC"
   ]
  },
  {
   "cell_type": "code",
   "execution_count": 13,
   "metadata": {},
   "outputs": [
    {
     "data": {
      "image/png": "[encoded data removed]",
      "text/plain": [
       "<Figure size 1440x360 with 3 Axes>"
      ]
     },
     "metadata": {
      "needs_background": "light"
     },
     "output_type": "display_data"
    }
   ],
   "source": [
    "title = \"Base GBC\"\n",
    "plot_learning_curve(\n",
    "    gbc_base, title, X_train, y_train, ylim=(0.7, 1.01), cv=5, n_jobs=4\n",
    ")\n",
    "\n",
    "plt.show()"
   ]
  },
  {
   "cell_type": "code",
   "execution_count": 14,
   "metadata": {},
   "outputs": [
    {
     "name": "stdout",
     "output_type": "stream",
     "text": [
      "Train Accuracy of GBC: 0.940\n",
      "Train Precision of GBC: 0.941\n",
      "Train Recall of GBC: 0.899\n",
      "Train F1 of GBC: 0.920\n",
      "Train ROC of GBC: 0.932\n",
      "---\n",
      "Test Accuracy of GBC: 0.945\n",
      "Test Precision of GBC: 0.948\n",
      "Test Recall of GBC: 0.918\n",
      "Test F1 of GBC: 0.933\n",
      "Test ROC of GBC: 0.941\n"
     ]
    }
   ],
   "source": [
    "y_pred_gbc_base_train = cross_val_predict(gbc_base, X_train, y_train, cv=5)\n",
    "y_pred_gbc_base_test = cross_val_predict(gbc_base, X_test, y_test, cv=5)\n",
    "\n",
    "accuracy_train = accuracy_score(y_train, y_pred_gbc_base_train)\n",
    "precision_train = precision_score(y_train, y_pred_gbc_base_train)\n",
    "recall_train = recall_score(y_train, y_pred_gbc_base_train)\n",
    "f1_train = f1_score(y_train, y_pred_gbc_base_train)\n",
    "roc_auc_train = roc_auc_score(y_train, y_pred_gbc_base_train)\n",
    "\n",
    "accuracy_test = accuracy_score(y_test, y_pred_gbc_base_test)\n",
    "precision_test = precision_score(y_test, y_pred_gbc_base_test)\n",
    "recall_test = recall_score(y_test, y_pred_gbc_base_test)\n",
    "f1_test = f1_score(y_test, y_pred_gbc_base_test)\n",
    "roc_auc_test = roc_auc_score(y_test, y_pred_gbc_base_test)\n",
    "\n",
    "print(f\"Train Accuracy of GBC: {accuracy_train:.3f}\")\n",
    "print(f\"Train Precision of GBC: {precision_train:.3f}\")\n",
    "print(f\"Train Recall of GBC: {recall_train:.3f}\")\n",
    "print(f\"Train F1 of GBC: {f1_train:.3f}\")\n",
    "print(f\"Train ROC of GBC: {roc_auc_train:.3f}\")\n",
    "print(\"---\")\n",
    "print(f\"Test Accuracy of GBC: {accuracy_test:.3f}\")\n",
    "print(f\"Test Precision of GBC: {precision_test:.3f}\")\n",
    "print(f\"Test Recall of GBC: {recall_test:.3f}\")\n",
    "print(f\"Test F1 of GBC: {f1_test:.3f}\")\n",
    "print(f\"Test ROC of GBC: {roc_auc_test:.3f}\")"
   ]
  },
  {
   "cell_type": "markdown",
   "metadata": {},
   "source": [
    "Perform pruning"
   ]
  },
  {
   "cell_type": "markdown",
   "metadata": {},
   "source": [
    "I will try to tune the other hyperparameters to prune the model and score higher for the accuracy metrics"
   ]
  },
  {
   "cell_type": "code",
   "execution_count": 30,
   "metadata": {},
   "outputs": [
    {
     "data": {
      "text/html": [
       "<style>#sk-container-id-3 {color: black;background-color: white;}#sk-container-id-3 pre{padding: 0;}#sk-container-id-3 div.sk-toggleable {background-color: white;}#sk-container-id-3 label.sk-toggleable__label {cursor: pointer;display: block;width: 100%;margin-bottom: 0;padding: 0.3em;box-sizing: border-box;text-align: center;}#sk-container-id-3 label.sk-toggleable__label-arrow:before {content: \"▸\";float: left;margin-right: 0.25em;color: #696969;}#sk-container-id-3 label.sk-toggleable__label-arrow:hover:before {color: black;}#sk-container-id-3 div.sk-estimator:hover label.sk-toggleable__label-arrow:before {color: black;}#sk-container-id-3 div.sk-toggleable__content {max-height: 0;max-width: 0;overflow: hidden;text-align: left;background-color: #f0f8ff;}#sk-container-id-3 div.sk-toggleable__content pre {margin: 0.2em;color: black;border-radius: 0.25em;background-color: #f0f8ff;}#sk-container-id-3 input.sk-toggleable__control:checked~div.sk-toggleable__content {max-height: 200px;max-width: 100%;overflow: auto;}#sk-container-id-3 input.sk-toggleable__control:checked~label.sk-toggleable__label-arrow:before {content: \"▾\";}#sk-container-id-3 div.sk-estimator input.sk-toggleable__control:checked~label.sk-toggleable__label {background-color: #d4ebff;}#sk-container-id-3 div.sk-label input.sk-toggleable__control:checked~label.sk-toggleable__label {background-color: #d4ebff;}#sk-container-id-3 input.sk-hidden--visually {border: 0;clip: rect(1px 1px 1px 1px);clip: rect(1px, 1px, 1px, 1px);height: 1px;margin: -1px;overflow: hidden;padding: 0;position: absolute;width: 1px;}#sk-container-id-3 div.sk-estimator {font-family: monospace;background-color: #f0f8ff;border: 1px dotted black;border-radius: 0.25em;box-sizing: border-box;margin-bottom: 0.5em;}#sk-container-id-3 div.sk-estimator:hover {background-color: #d4ebff;}#sk-container-id-3 div.sk-parallel-item::after {content: \"\";width: 100%;border-bottom: 1px solid gray;flex-grow: 1;}#sk-container-id-3 div.sk-label:hover label.sk-toggleable__label {background-color: #d4ebff;}#sk-container-id-3 div.sk-serial::before {content: \"\";position: absolute;border-left: 1px solid gray;box-sizing: border-box;top: 0;bottom: 0;left: 50%;z-index: 0;}#sk-container-id-3 div.sk-serial {display: flex;flex-direction: column;align-items: center;background-color: white;padding-right: 0.2em;padding-left: 0.2em;position: relative;}#sk-container-id-3 div.sk-item {position: relative;z-index: 1;}#sk-container-id-3 div.sk-parallel {display: flex;align-items: stretch;justify-content: center;background-color: white;position: relative;}#sk-container-id-3 div.sk-item::before, #sk-container-id-3 div.sk-parallel-item::before {content: \"\";position: absolute;border-left: 1px solid gray;box-sizing: border-box;top: 0;bottom: 0;left: 50%;z-index: -1;}#sk-container-id-3 div.sk-parallel-item {display: flex;flex-direction: column;z-index: 1;position: relative;background-color: white;}#sk-container-id-3 div.sk-parallel-item:first-child::after {align-self: flex-end;width: 50%;}#sk-container-id-3 div.sk-parallel-item:last-child::after {align-self: flex-start;width: 50%;}#sk-container-id-3 div.sk-parallel-item:only-child::after {width: 0;}#sk-container-id-3 div.sk-dashed-wrapped {border: 1px dashed gray;margin: 0 0.4em 0.5em 0.4em;box-sizing: border-box;padding-bottom: 0.4em;background-color: white;}#sk-container-id-3 div.sk-label label {font-family: monospace;font-weight: bold;display: inline-block;line-height: 1.2em;}#sk-container-id-3 div.sk-label-container {text-align: center;}#sk-container-id-3 div.sk-container {/* jupyter's `normalize.less` sets `[hidden] { display: none; }` but bootstrap.min.css set `[hidden] { display: none !important; }` so we also need the `!important` here to be able to override the default hidden behavior on the sphinx rendered scikit-learn.org. See: https://github.com/scikit-learn/scikit-learn/issues/21755 */display: inline-block !important;position: relative;}#sk-container-id-3 div.sk-text-repr-fallback {display: none;}</style><div id=\"sk-container-id-3\" class=\"sk-top-container\"><div class=\"sk-text-repr-fallback\"><pre>GridSearchCV(cv=5, estimator=GradientBoostingClassifier(random_state=0),\n",
       "             n_jobs=-1,\n",
       "             param_grid={&#x27;learning_rate&#x27;: [0.001, 0.01, 0.1, 1],\n",
       "                         &#x27;max_depth&#x27;: [1, 2, 3, 4],\n",
       "                         &#x27;n_estimators&#x27;: [25, 50, 75, 100, 125, 150]})</pre><b>In a Jupyter environment, please rerun this cell to show the HTML representation or trust the notebook. <br />On GitHub, the HTML representation is unable to render, please try loading this page with nbviewer.org.</b></div><div class=\"sk-container\" hidden><div class=\"sk-item sk-dashed-wrapped\"><div class=\"sk-label-container\"><div class=\"sk-label sk-toggleable\"><input class=\"sk-toggleable__control sk-hidden--visually\" id=\"sk-estimator-id-5\" type=\"checkbox\" ><label for=\"sk-estimator-id-5\" class=\"sk-toggleable__label sk-toggleable__label-arrow\">GridSearchCV</label><div class=\"sk-toggleable__content\"><pre>GridSearchCV(cv=5, estimator=GradientBoostingClassifier(random_state=0),\n",
       "             n_jobs=-1,\n",
       "             param_grid={&#x27;learning_rate&#x27;: [0.001, 0.01, 0.1, 1],\n",
       "                         &#x27;max_depth&#x27;: [1, 2, 3, 4],\n",
       "                         &#x27;n_estimators&#x27;: [25, 50, 75, 100, 125, 150]})</pre></div></div></div><div class=\"sk-parallel\"><div class=\"sk-parallel-item\"><div class=\"sk-item\"><div class=\"sk-label-container\"><div class=\"sk-label sk-toggleable\"><input class=\"sk-toggleable__control sk-hidden--visually\" id=\"sk-estimator-id-6\" type=\"checkbox\" ><label for=\"sk-estimator-id-6\" class=\"sk-toggleable__label sk-toggleable__label-arrow\">estimator: GradientBoostingClassifier</label><div class=\"sk-toggleable__content\"><pre>GradientBoostingClassifier(random_state=0)</pre></div></div></div><div class=\"sk-serial\"><div class=\"sk-item\"><div class=\"sk-estimator sk-toggleable\"><input class=\"sk-toggleable__control sk-hidden--visually\" id=\"sk-estimator-id-7\" type=\"checkbox\" ><label for=\"sk-estimator-id-7\" class=\"sk-toggleable__label sk-toggleable__label-arrow\">GradientBoostingClassifier</label><div class=\"sk-toggleable__content\"><pre>GradientBoostingClassifier(random_state=0)</pre></div></div></div></div></div></div></div></div></div></div>"
      ],
      "text/plain": [
       "GridSearchCV(cv=5, estimator=GradientBoostingClassifier(random_state=0),\n",
       "             n_jobs=-1,\n",
       "             param_grid={'learning_rate': [0.001, 0.01, 0.1, 1],\n",
       "                         'max_depth': [1, 2, 3, 4],\n",
       "                         'n_estimators': [25, 50, 75, 100, 125, 150]})"
      ]
     },
     "execution_count": 30,
     "metadata": {},
     "output_type": "execute_result"
    }
   ],
   "source": [
    "from sklearn.model_selection import GridSearchCV\n",
    "\n",
    "parameter_space = {\n",
    "    \"max_depth\": [1, 2, 3, 4],\n",
    "    \"learning_rate\": [0.001, 0.01, 0.1, 1],\n",
    "    \"n_estimators\": [25, 50, 75, 100, 125, 150]\n",
    "}\n",
    "gbc = GradientBoostingClassifier(random_state=0)\n",
    "gbc_gs = GridSearchCV(gbc, parameter_space, n_jobs=-1, cv=5)\n",
    "gbc_gs.fit(X_train, y_train)"
   ]
  },
  {
   "cell_type": "code",
   "execution_count": 31,
   "metadata": {},
   "outputs": [],
   "source": [
    "cv_results = pd.DataFrame(gbc_gs.cv_results_)"
   ]
  },
  {
   "cell_type": "code",
   "execution_count": 32,
   "metadata": {},
   "outputs": [
    {
     "data": {
      "text/html": [
       "<div>\n",
       "<style scoped>\n",
       "    .dataframe tbody tr th:only-of-type {\n",
       "        vertical-align: middle;\n",
       "    }\n",
       "\n",
       "    .dataframe tbody tr th {\n",
       "        vertical-align: top;\n",
       "    }\n",
       "\n",
       "    .dataframe thead th {\n",
       "        text-align: right;\n",
       "    }\n",
       "</style>\n",
       "<table border=\"1\" class=\"dataframe\">\n",
       "  <thead>\n",
       "    <tr style=\"text-align: right;\">\n",
       "      <th></th>\n",
       "      <th>mean_fit_time</th>\n",
       "      <th>std_fit_time</th>\n",
       "      <th>mean_score_time</th>\n",
       "      <th>std_score_time</th>\n",
       "      <th>param_learning_rate</th>\n",
       "      <th>param_max_depth</th>\n",
       "      <th>param_n_estimators</th>\n",
       "      <th>params</th>\n",
       "      <th>split0_test_score</th>\n",
       "      <th>split1_test_score</th>\n",
       "      <th>split2_test_score</th>\n",
       "      <th>split3_test_score</th>\n",
       "      <th>split4_test_score</th>\n",
       "      <th>mean_test_score</th>\n",
       "      <th>std_test_score</th>\n",
       "      <th>rank_test_score</th>\n",
       "    </tr>\n",
       "  </thead>\n",
       "  <tbody>\n",
       "    <tr>\n",
       "      <th>71</th>\n",
       "      <td>1.862595</td>\n",
       "      <td>0.052242</td>\n",
       "      <td>0.003787</td>\n",
       "      <td>0.002070</td>\n",
       "      <td>0.1</td>\n",
       "      <td>4</td>\n",
       "      <td>150</td>\n",
       "      <td>{'learning_rate': 0.1, 'max_depth': 4, 'n_esti...</td>\n",
       "      <td>0.930308</td>\n",
       "      <td>0.948136</td>\n",
       "      <td>0.925325</td>\n",
       "      <td>0.967532</td>\n",
       "      <td>0.957792</td>\n",
       "      <td>0.945819</td>\n",
       "      <td>0.016005</td>\n",
       "      <td>1</td>\n",
       "    </tr>\n",
       "    <tr>\n",
       "      <th>65</th>\n",
       "      <td>1.432054</td>\n",
       "      <td>0.030907</td>\n",
       "      <td>0.003557</td>\n",
       "      <td>0.001691</td>\n",
       "      <td>0.1</td>\n",
       "      <td>3</td>\n",
       "      <td>150</td>\n",
       "      <td>{'learning_rate': 0.1, 'max_depth': 3, 'n_esti...</td>\n",
       "      <td>0.925446</td>\n",
       "      <td>0.956240</td>\n",
       "      <td>0.928571</td>\n",
       "      <td>0.962662</td>\n",
       "      <td>0.951299</td>\n",
       "      <td>0.944844</td>\n",
       "      <td>0.015034</td>\n",
       "      <td>2</td>\n",
       "    </tr>\n",
       "    <tr>\n",
       "      <th>70</th>\n",
       "      <td>1.605721</td>\n",
       "      <td>0.059666</td>\n",
       "      <td>0.006227</td>\n",
       "      <td>0.002676</td>\n",
       "      <td>0.1</td>\n",
       "      <td>4</td>\n",
       "      <td>125</td>\n",
       "      <td>{'learning_rate': 0.1, 'max_depth': 4, 'n_esti...</td>\n",
       "      <td>0.930308</td>\n",
       "      <td>0.946515</td>\n",
       "      <td>0.926948</td>\n",
       "      <td>0.964286</td>\n",
       "      <td>0.954545</td>\n",
       "      <td>0.944521</td>\n",
       "      <td>0.014184</td>\n",
       "      <td>3</td>\n",
       "    </tr>\n",
       "  </tbody>\n",
       "</table>\n",
       "</div>"
      ],
      "text/plain": [
       "    mean_fit_time  std_fit_time  mean_score_time  std_score_time  \\\n",
       "71       1.862595      0.052242         0.003787        0.002070   \n",
       "65       1.432054      0.030907         0.003557        0.001691   \n",
       "70       1.605721      0.059666         0.006227        0.002676   \n",
       "\n",
       "   param_learning_rate param_max_depth param_n_estimators  \\\n",
       "71                 0.1               4                150   \n",
       "65                 0.1               3                150   \n",
       "70                 0.1               4                125   \n",
       "\n",
       "                                               params  split0_test_score  \\\n",
       "71  {'learning_rate': 0.1, 'max_depth': 4, 'n_esti...           0.930308   \n",
       "65  {'learning_rate': 0.1, 'max_depth': 3, 'n_esti...           0.925446   \n",
       "70  {'learning_rate': 0.1, 'max_depth': 4, 'n_esti...           0.930308   \n",
       "\n",
       "    split1_test_score  split2_test_score  split3_test_score  \\\n",
       "71           0.948136           0.925325           0.967532   \n",
       "65           0.956240           0.928571           0.962662   \n",
       "70           0.946515           0.926948           0.964286   \n",
       "\n",
       "    split4_test_score  mean_test_score  std_test_score  rank_test_score  \n",
       "71           0.957792         0.945819        0.016005                1  \n",
       "65           0.951299         0.944844        0.015034                2  \n",
       "70           0.954545         0.944521        0.014184                3  "
      ]
     },
     "execution_count": 32,
     "metadata": {},
     "output_type": "execute_result"
    }
   ],
   "source": [
    "cv_results.sort_values(by=\"mean_test_score\", ascending=False).head(3)"
   ]
  },
  {
   "cell_type": "code",
   "execution_count": 33,
   "metadata": {},
   "outputs": [
    {
     "data": {
      "text/html": [
       "<div>\n",
       "<style scoped>\n",
       "    .dataframe tbody tr th:only-of-type {\n",
       "        vertical-align: middle;\n",
       "    }\n",
       "\n",
       "    .dataframe tbody tr th {\n",
       "        vertical-align: top;\n",
       "    }\n",
       "\n",
       "    .dataframe thead th {\n",
       "        text-align: right;\n",
       "    }\n",
       "</style>\n",
       "<table border=\"1\" class=\"dataframe\">\n",
       "  <thead>\n",
       "    <tr style=\"text-align: right;\">\n",
       "      <th></th>\n",
       "      <th>param_learning_rate</th>\n",
       "      <th>param_max_depth</th>\n",
       "      <th>param_n_estimators</th>\n",
       "      <th>mean_test_score</th>\n",
       "      <th>std_test_score</th>\n",
       "    </tr>\n",
       "  </thead>\n",
       "  <tbody>\n",
       "    <tr>\n",
       "      <th>71</th>\n",
       "      <td>0.1</td>\n",
       "      <td>4</td>\n",
       "      <td>150</td>\n",
       "      <td>0.945819</td>\n",
       "      <td>0.016005</td>\n",
       "    </tr>\n",
       "    <tr>\n",
       "      <th>65</th>\n",
       "      <td>0.1</td>\n",
       "      <td>3</td>\n",
       "      <td>150</td>\n",
       "      <td>0.944844</td>\n",
       "      <td>0.015034</td>\n",
       "    </tr>\n",
       "    <tr>\n",
       "      <th>70</th>\n",
       "      <td>0.1</td>\n",
       "      <td>4</td>\n",
       "      <td>125</td>\n",
       "      <td>0.944521</td>\n",
       "      <td>0.014184</td>\n",
       "    </tr>\n",
       "  </tbody>\n",
       "</table>\n",
       "</div>"
      ],
      "text/plain": [
       "   param_learning_rate param_max_depth param_n_estimators  mean_test_score  \\\n",
       "71                 0.1               4                150         0.945819   \n",
       "65                 0.1               3                150         0.944844   \n",
       "70                 0.1               4                125         0.944521   \n",
       "\n",
       "    std_test_score  \n",
       "71        0.016005  \n",
       "65        0.015034  \n",
       "70        0.014184  "
      ]
     },
     "execution_count": 33,
     "metadata": {},
     "output_type": "execute_result"
    }
   ],
   "source": [
    "cv_results.sort_values(by=\"mean_test_score\", ascending=False).head(3)[[\"param_learning_rate\", \"param_max_depth\", \"param_n_estimators\", \"mean_test_score\", \"std_test_score\"]]"
   ]
  },
  {
   "cell_type": "markdown",
   "metadata": {},
   "source": [
    "Advanced model"
   ]
  },
  {
   "cell_type": "code",
   "execution_count": 61,
   "metadata": {},
   "outputs": [
    {
     "name": "stdout",
     "output_type": "stream",
     "text": [
      "Elapsed time: 1.5581 seconds\n",
      "Train Accuracy of Adv GBC: 0.982\n",
      "Train Precision of Adv GBC: 0.985\n",
      "Train Recall of Adv GBC: 0.968\n",
      "Train F1 of Adv GBC: 0.976\n",
      "Train ROC of Adv GBC: 0.979\n",
      "---\n",
      "Test Accuracy of Adv GBC: 0.956\n",
      "Test Precision of Adv GBC: 0.961\n",
      "Test Recall of Adv GBC: 0.932\n",
      "Test F1 of Adv GBC: 0.946\n",
      "Test ROC of Adv GBC: 0.952\n"
     ]
    }
   ],
   "source": [
    "t.start()\n",
    "gbc_adv = GradientBoostingClassifier( \n",
    "    random_state=0, \n",
    "    n_estimators=150, \n",
    "    learning_rate=0.1,\n",
    "    max_depth=4\n",
    ")\n",
    "gbc_adv.fit(X_train, y_train)\n",
    "y_pred_gbc_adv_train = gbc_adv.predict(X_train)\n",
    "y_pred_gbc_adv_test = gbc_adv.predict(X_test)\n",
    "t.stop()\n",
    "\n",
    "accuracy_train = accuracy_score(y_train, y_pred_gbc_adv_train)\n",
    "precision_train = precision_score(y_train, y_pred_gbc_adv_train)\n",
    "recall_train = recall_score(y_train, y_pred_gbc_adv_train)\n",
    "f1_train = f1_score(y_train, y_pred_gbc_adv_train)\n",
    "roc_train = roc_auc_score(y_train, y_pred_gbc_adv_train)\n",
    "\n",
    "accuracy_test = accuracy_score(y_test, y_pred_gbc_adv_test)\n",
    "precision_test = precision_score(y_test, y_pred_gbc_adv_test)\n",
    "recall_test = recall_score(y_test, y_pred_gbc_adv_test)\n",
    "f1_test = f1_score(y_test, y_pred_gbc_adv_test)\n",
    "roc_test = roc_auc_score(y_test, y_pred_gbc_adv_test)\n",
    "\n",
    "print(f\"Train Accuracy of Adv GBC: {accuracy_train:.3f}\")\n",
    "print(f\"Train Precision of Adv GBC: {precision_train:.3f}\")\n",
    "print(f\"Train Recall of Adv GBC: {recall_train:.3f}\")\n",
    "print(f\"Train F1 of Adv GBC: {f1_train:.3f}\")\n",
    "print(f\"Train ROC of Adv GBC: {roc_train:.3f}\")\n",
    "print(\"---\")\n",
    "print(f\"Test Accuracy of Adv GBC: {accuracy_test:.3f}\")\n",
    "print(f\"Test Precision of Adv GBC: {precision_test:.3f}\")\n",
    "print(f\"Test Recall of Adv GBC: {recall_test:.3f}\")\n",
    "print(f\"Test F1 of Adv GBC: {f1_test:.3f}\")\n",
    "print(f\"Test ROC of Adv GBC: {roc_test:.3f}\")"
   ]
  },
  {
   "cell_type": "code",
   "execution_count": 62,
   "metadata": {},
   "outputs": [
    {
     "name": "stdout",
     "output_type": "stream",
     "text": [
      "Elapsed time: 6.4236 seconds\n"
     ]
    }
   ],
   "source": [
    "t.start()\n",
    "gbc_adv_res = cross_validate(\n",
    "      estimator=gbc_adv,\n",
    "      X=X_train,\n",
    "      y=y_train,\n",
    "      cv=5,\n",
    "      scoring=['accuracy', 'precision', 'recall', 'f1'],\n",
    "      return_train_score=True\n",
    "      )\n",
    "t.stop()"
   ]
  },
  {
   "cell_type": "code",
   "execution_count": 63,
   "metadata": {},
   "outputs": [
    {
     "name": "stdout",
     "output_type": "stream",
     "text": [
      "train_accuracy: 0.986\n",
      "train_precision: 0.987\n",
      "train_recall: 0.976\n",
      "train_f1: 0.981\n",
      "----\n",
      "test_accuracy: 0.946\n",
      "test_precision: 0.937\n",
      "test_recall: 0.920\n",
      "test_f1: 0.929\n"
     ]
    }
   ],
   "source": [
    "for m in training_metrics:\n",
    "    print(f\"{m}: {np.mean(gbc_adv_res[m]):.3f}\")\n",
    "print(\"----\")\n",
    "for m in testing_metrics:\n",
    "    print(f\"{m}: {np.mean(gbc_adv_res[m]):.3f}\")"
   ]
  },
  {
   "cell_type": "code",
   "execution_count": 60,
   "metadata": {},
   "outputs": [
    {
     "data": {
      "image/png": "[encoded data removed]",
      "text/plain": [
       "<Figure size 1440x360 with 3 Axes>"
      ]
     },
     "metadata": {
      "needs_background": "light"
     },
     "output_type": "display_data"
    }
   ],
   "source": [
    "title = \"Adv. GBC, n_est=50, learning_rate=0.1, max_depth=2\"\n",
    "plot_learning_curve(\n",
    "    gbc_adv, title, X_train, y_train, ylim=(0.7, 1.01), cv=5, n_jobs=-1\n",
    ")\n",
    "\n",
    "plt.show()"
   ]
  },
  {
   "cell_type": "code",
   "execution_count": 57,
   "metadata": {},
   "outputs": [
    {
     "name": "stdout",
     "output_type": "stream",
     "text": [
      "Train Accuracy of Adv GBC: 0.930\n",
      "Train Precision of Adv GBC: 0.940\n",
      "Train Recall of Adv GBC: 0.874\n",
      "Train F1 of Adv GBC: 0.906\n",
      "Train ROC of Adv GBC: 0.920\n",
      "---\n",
      "Test Accuracy of Adv GBC: 0.934\n",
      "Test Precision of Adv GBC: 0.945\n",
      "Test Recall of Adv GBC: 0.893\n",
      "Test F1 of Adv GBC: 0.918\n",
      "Test ROC of Adv GBC: 0.928\n"
     ]
    }
   ],
   "source": [
    "y_pred_gbc_adv_train = cross_val_predict(gbc_adv, X_train, y_train, cv=5)\n",
    "y_pred_gbc_adv_test = cross_val_predict(gbc_adv, X_test, y_test, cv=5)\n",
    "\n",
    "accuracy_train = accuracy_score(y_train, y_pred_gbc_adv_train)\n",
    "precision_train = precision_score(y_train, y_pred_gbc_adv_train)\n",
    "recall_train = recall_score(y_train, y_pred_gbc_adv_train)\n",
    "f1_train = f1_score(y_train, y_pred_gbc_adv_train)\n",
    "roc_train = roc_auc_score(y_train, y_pred_gbc_adv_train)\n",
    "\n",
    "accuracy_test = accuracy_score(y_test, y_pred_gbc_adv_test)\n",
    "precision_test = precision_score(y_test, y_pred_gbc_adv_test)\n",
    "recall_test = recall_score(y_test, y_pred_gbc_adv_test)\n",
    "f1_test = f1_score(y_test, y_pred_gbc_adv_test)\n",
    "roc_test = roc_auc_score(y_test, y_pred_gbc_adv_test)\n",
    "\n",
    "print(f\"Train Accuracy of Adv GBC: {accuracy_train:.3f}\")\n",
    "print(f\"Train Precision of Adv GBC: {precision_train:.3f}\")\n",
    "print(f\"Train Recall of Adv GBC: {recall_train:.3f}\")\n",
    "print(f\"Train F1 of Adv GBC: {f1_train:.3f}\")\n",
    "print(f\"Train ROC of Adv GBC: {roc_train:.3f}\")\n",
    "print(\"---\")\n",
    "print(f\"Test Accuracy of Adv GBC: {accuracy_test:.3f}\")\n",
    "print(f\"Test Precision of Adv GBC: {precision_test:.3f}\")\n",
    "print(f\"Test Recall of Adv GBC: {recall_test:.3f}\")\n",
    "print(f\"Test F1 of Adv GBC: {f1_test:.3f}\")\n",
    "print(f\"Test ROC of Adv GBC: {roc_test:.3f}\")"
   ]
  },
  {
   "cell_type": "markdown",
   "metadata": {},
   "source": [
    "Final scores on test set"
   ]
  },
  {
   "cell_type": "code",
   "execution_count": 65,
   "metadata": {},
   "outputs": [
    {
     "data": {
      "text/html": [
       "<style>#sk-container-id-5 {color: black;background-color: white;}#sk-container-id-5 pre{padding: 0;}#sk-container-id-5 div.sk-toggleable {background-color: white;}#sk-container-id-5 label.sk-toggleable__label {cursor: pointer;display: block;width: 100%;margin-bottom: 0;padding: 0.3em;box-sizing: border-box;text-align: center;}#sk-container-id-5 label.sk-toggleable__label-arrow:before {content: \"▸\";float: left;margin-right: 0.25em;color: #696969;}#sk-container-id-5 label.sk-toggleable__label-arrow:hover:before {color: black;}#sk-container-id-5 div.sk-estimator:hover label.sk-toggleable__label-arrow:before {color: black;}#sk-container-id-5 div.sk-toggleable__content {max-height: 0;max-width: 0;overflow: hidden;text-align: left;background-color: #f0f8ff;}#sk-container-id-5 div.sk-toggleable__content pre {margin: 0.2em;color: black;border-radius: 0.25em;background-color: #f0f8ff;}#sk-container-id-5 input.sk-toggleable__control:checked~div.sk-toggleable__content {max-height: 200px;max-width: 100%;overflow: auto;}#sk-container-id-5 input.sk-toggleable__control:checked~label.sk-toggleable__label-arrow:before {content: \"▾\";}#sk-container-id-5 div.sk-estimator input.sk-toggleable__control:checked~label.sk-toggleable__label {background-color: #d4ebff;}#sk-container-id-5 div.sk-label input.sk-toggleable__control:checked~label.sk-toggleable__label {background-color: #d4ebff;}#sk-container-id-5 input.sk-hidden--visually {border: 0;clip: rect(1px 1px 1px 1px);clip: rect(1px, 1px, 1px, 1px);height: 1px;margin: -1px;overflow: hidden;padding: 0;position: absolute;width: 1px;}#sk-container-id-5 div.sk-estimator {font-family: monospace;background-color: #f0f8ff;border: 1px dotted black;border-radius: 0.25em;box-sizing: border-box;margin-bottom: 0.5em;}#sk-container-id-5 div.sk-estimator:hover {background-color: #d4ebff;}#sk-container-id-5 div.sk-parallel-item::after {content: \"\";width: 100%;border-bottom: 1px solid gray;flex-grow: 1;}#sk-container-id-5 div.sk-label:hover label.sk-toggleable__label {background-color: #d4ebff;}#sk-container-id-5 div.sk-serial::before {content: \"\";position: absolute;border-left: 1px solid gray;box-sizing: border-box;top: 0;bottom: 0;left: 50%;z-index: 0;}#sk-container-id-5 div.sk-serial {display: flex;flex-direction: column;align-items: center;background-color: white;padding-right: 0.2em;padding-left: 0.2em;position: relative;}#sk-container-id-5 div.sk-item {position: relative;z-index: 1;}#sk-container-id-5 div.sk-parallel {display: flex;align-items: stretch;justify-content: center;background-color: white;position: relative;}#sk-container-id-5 div.sk-item::before, #sk-container-id-5 div.sk-parallel-item::before {content: \"\";position: absolute;border-left: 1px solid gray;box-sizing: border-box;top: 0;bottom: 0;left: 50%;z-index: -1;}#sk-container-id-5 div.sk-parallel-item {display: flex;flex-direction: column;z-index: 1;position: relative;background-color: white;}#sk-container-id-5 div.sk-parallel-item:first-child::after {align-self: flex-end;width: 50%;}#sk-container-id-5 div.sk-parallel-item:last-child::after {align-self: flex-start;width: 50%;}#sk-container-id-5 div.sk-parallel-item:only-child::after {width: 0;}#sk-container-id-5 div.sk-dashed-wrapped {border: 1px dashed gray;margin: 0 0.4em 0.5em 0.4em;box-sizing: border-box;padding-bottom: 0.4em;background-color: white;}#sk-container-id-5 div.sk-label label {font-family: monospace;font-weight: bold;display: inline-block;line-height: 1.2em;}#sk-container-id-5 div.sk-label-container {text-align: center;}#sk-container-id-5 div.sk-container {/* jupyter's `normalize.less` sets `[hidden] { display: none; }` but bootstrap.min.css set `[hidden] { display: none !important; }` so we also need the `!important` here to be able to override the default hidden behavior on the sphinx rendered scikit-learn.org. See: https://github.com/scikit-learn/scikit-learn/issues/21755 */display: inline-block !important;position: relative;}#sk-container-id-5 div.sk-text-repr-fallback {display: none;}</style><div id=\"sk-container-id-5\" class=\"sk-top-container\"><div class=\"sk-text-repr-fallback\"><pre>GradientBoostingClassifier(max_depth=2, n_estimators=50, random_state=0)</pre><b>In a Jupyter environment, please rerun this cell to show the HTML representation or trust the notebook. <br />On GitHub, the HTML representation is unable to render, please try loading this page with nbviewer.org.</b></div><div class=\"sk-container\" hidden><div class=\"sk-item\"><div class=\"sk-estimator sk-toggleable\"><input class=\"sk-toggleable__control sk-hidden--visually\" id=\"sk-estimator-id-9\" type=\"checkbox\" checked><label for=\"sk-estimator-id-9\" class=\"sk-toggleable__label sk-toggleable__label-arrow\">GradientBoostingClassifier</label><div class=\"sk-toggleable__content\"><pre>GradientBoostingClassifier(max_depth=2, n_estimators=50, random_state=0)</pre></div></div></div></div></div>"
      ],
      "text/plain": [
       "GradientBoostingClassifier(max_depth=2, n_estimators=50, random_state=0)"
      ]
     },
     "execution_count": 65,
     "metadata": {},
     "output_type": "execute_result"
    }
   ],
   "source": [
    "gbc_adv2 = GradientBoostingClassifier( \n",
    "    random_state=0, \n",
    "    n_estimators=50, \n",
    "    learning_rate=0.1,\n",
    "    max_depth=2\n",
    ")\n",
    "gbc_adv2.fit(X_train, y_train)"
   ]
  },
  {
   "cell_type": "code",
   "execution_count": 66,
   "metadata": {},
   "outputs": [],
   "source": [
    "y_pred_base_gbc_train_f = gbc_base.predict(X_train)\n",
    "y_pred_adv_gbc_train_f = gbc_adv.predict(X_train)\n",
    "y_pred_adv2_gbc_train_f = gbc_adv2.predict(X_train)\n",
    "\n",
    "accuracy_base_train = accuracy_score(y_train, y_pred_base_gbc_train_f)\n",
    "precision_base_train = precision_score(y_train, y_pred_base_gbc_train_f)\n",
    "recall_base_train = recall_score(y_train, y_pred_base_gbc_train_f)\n",
    "f1_base_train = f1_score(y_train, y_pred_base_gbc_train_f)\n",
    "roc_base_train = roc_auc_score(y_train, y_pred_base_gbc_train_f)\n",
    "\n",
    "accuracy_adv_train = accuracy_score(y_train, y_pred_adv_gbc_train_f)\n",
    "precision_adv_train = precision_score(y_train, y_pred_adv_gbc_train_f)\n",
    "recall_adv_train = recall_score(y_train, y_pred_adv_gbc_train_f)\n",
    "f1_adv_train = f1_score(y_train, y_pred_adv_gbc_train_f)\n",
    "roc_adv_train = roc_auc_score(y_train, y_pred_adv_gbc_train_f)\n",
    "\n",
    "accuracy_adv2_train = accuracy_score(y_train, y_pred_adv2_gbc_train_f)\n",
    "precision_adv2_train = precision_score(y_train, y_pred_adv2_gbc_train_f)\n",
    "recall_adv2_train = recall_score(y_train, y_pred_adv2_gbc_train_f)\n",
    "f1_adv2_train = f1_score(y_train, y_pred_adv2_gbc_train_f)\n",
    "roc_adv2_train = roc_auc_score(y_train, y_pred_adv2_gbc_train_f)\n",
    "\n",
    "y_pred_base_gbc_test_f = gbc_base.predict(X_test)\n",
    "y_pred_adv_gbc_test_f = gbc_adv.predict(X_test)\n",
    "y_pred_adv2_gbc_test_f = gbc_adv2.predict(X_test)\n",
    "\n",
    "accuracy_base_test = accuracy_score(y_test, y_pred_base_gbc_test_f)\n",
    "precision_base_test = precision_score(y_test, y_pred_base_gbc_test_f)\n",
    "recall_base_test = recall_score(y_test, y_pred_base_gbc_test_f)\n",
    "f1_base_test = f1_score(y_test, y_pred_base_gbc_test_f)\n",
    "roc_base_test = roc_auc_score(y_test, y_pred_base_gbc_test_f)\n",
    "\n",
    "accuracy_adv_test = accuracy_score(y_test, y_pred_adv_gbc_test_f)\n",
    "precision_adv_test = precision_score(y_test, y_pred_adv_gbc_test_f)\n",
    "recall_adv_test = recall_score(y_test, y_pred_adv_gbc_test_f)\n",
    "f1_adv_test = f1_score(y_test, y_pred_adv_gbc_test_f)\n",
    "roc_adv_test = roc_auc_score(y_test, y_pred_adv_gbc_test_f)\n",
    "\n",
    "accuracy_adv2_test = accuracy_score(y_test, y_pred_adv2_gbc_test_f)\n",
    "precision_adv2_test = precision_score(y_test, y_pred_adv2_gbc_test_f)\n",
    "recall_adv2_test = recall_score(y_test, y_pred_adv2_gbc_test_f)\n",
    "f1_adv2_test = f1_score(y_test, y_pred_adv2_gbc_test_f)\n",
    "roc_adv2_test = roc_auc_score(y_test, y_pred_adv2_gbc_test_f)"
   ]
  },
  {
   "cell_type": "code",
   "execution_count": 67,
   "metadata": {},
   "outputs": [
    {
     "name": "stdout",
     "output_type": "stream",
     "text": [
      "Final - Base GBC\n",
      "Train Accuracy of Base GBC: 0.963\n",
      "Train Precision of Base GBC: 0.961\n",
      "Train Recall of Base GBC: 0.942\n",
      "Train F1 of Base GBC: 0.952\n",
      "Train ROC of Base GBC: 0.959\n",
      "Test Accuracy of Base GBC: 0.951\n",
      "Test Precision of Base GBC: 0.954\n",
      "Test Recall of Base GBC: 0.926\n",
      "Test F1 of Base GBC: 0.940\n",
      "Test ROC of Base GBC: 0.947\n",
      "Adv GBC\n",
      "Train Accuracy of Adv GBC: 0.982\n",
      "Train Precision of Adv GBC: 0.985\n",
      "Train Recall of Adv GBC: 0.968\n",
      "Train F1 of Adv GBC: 0.976\n",
      "Train ROC of Adv GBC: 0.979\n",
      "Test Accuracy of Adv GBC: 0.956\n",
      "Test Precision of Adv GBC: 0.961\n",
      "Test Recall of Adv GBC: 0.932\n",
      "Test F1 of Adv GBC: 0.946\n",
      "Test ROC of Adv GBC: 0.952\n",
      "---\n",
      "Adv2 GBC\n",
      "Train Accuracy of Adv2 GBC: 0.939\n",
      "Train Precision of Adv2 GBC: 0.949\n",
      "Train Recall of Adv2 GBC: 0.887\n",
      "Train F1 of Adv2 GBC: 0.917\n",
      "Train ROC of Adv2 GBC: 0.929\n",
      "Test Accuracy of Adv2 GBC: 0.936\n",
      "Test Precision of Adv2 GBC: 0.956\n",
      "Test Recall of Adv2 GBC: 0.888\n",
      "Test F1 of Adv2 GBC: 0.921\n",
      "Test ROC of Adv2 GBC: 0.929\n",
      "---\n"
     ]
    }
   ],
   "source": [
    "print(\"Final - Base GBC\")\n",
    "print(f\"Train Accuracy of Base GBC: {accuracy_base_train:.3f}\")\n",
    "print(f\"Train Precision of Base GBC: {precision_base_train:.3f}\")\n",
    "print(f\"Train Recall of Base GBC: {recall_base_train:.3f}\")\n",
    "print(f\"Train F1 of Base GBC: {f1_base_train:.3f}\")\n",
    "print(f\"Train ROC of Base GBC: {roc_base_train:.3f}\")\n",
    "\n",
    "print(f\"Test Accuracy of Base GBC: {accuracy_base_test:.3f}\")\n",
    "print(f\"Test Precision of Base GBC: {precision_base_test:.3f}\")\n",
    "print(f\"Test Recall of Base GBC: {recall_base_test:.3f}\")\n",
    "print(f\"Test F1 of Base GBC: {f1_base_test:.3f}\")\n",
    "print(f\"Test ROC of Base GBC: {roc_base_test:.3f}\")\n",
    "\n",
    "print(\"Adv GBC\")\n",
    "print(f\"Train Accuracy of Adv GBC: {accuracy_adv_train:.3f}\")\n",
    "print(f\"Train Precision of Adv GBC: {precision_adv_train:.3f}\")\n",
    "print(f\"Train Recall of Adv GBC: {recall_adv_train:.3f}\")\n",
    "print(f\"Train F1 of Adv GBC: {f1_adv_train:.3f}\")\n",
    "print(f\"Train ROC of Adv GBC: {roc_adv_train:.3f}\")\n",
    "\n",
    "print(f\"Test Accuracy of Adv GBC: {accuracy_adv_test:.3f}\")\n",
    "print(f\"Test Precision of Adv GBC: {precision_adv_test:.3f}\")\n",
    "print(f\"Test Recall of Adv GBC: {recall_adv_test:.3f}\")\n",
    "print(f\"Test F1 of Adv GBC: {f1_adv_test:.3f}\")\n",
    "print(f\"Test ROC of Adv GBC: {roc_adv_test:.3f}\")\n",
    "\n",
    "print(\"---\")\n",
    "\n",
    "print(\"Adv2 GBC\")\n",
    "print(f\"Train Accuracy of Adv2 GBC: {accuracy_adv2_train:.3f}\")\n",
    "print(f\"Train Precision of Adv2 GBC: {precision_adv2_train:.3f}\")\n",
    "print(f\"Train Recall of Adv2 GBC: {recall_adv2_train:.3f}\")\n",
    "print(f\"Train F1 of Adv2 GBC: {f1_adv2_train:.3f}\")\n",
    "print(f\"Train ROC of Adv2 GBC: {roc_adv2_train:.3f}\")\n",
    "\n",
    "print(f\"Test Accuracy of Adv2 GBC: {accuracy_adv2_test:.3f}\")\n",
    "print(f\"Test Precision of Adv2 GBC: {precision_adv2_test:.3f}\")\n",
    "print(f\"Test Recall of Adv2 GBC: {recall_adv2_test:.3f}\")\n",
    "print(f\"Test F1 of Adv2 GBC: {f1_adv2_test:.3f}\")\n",
    "print(f\"Test ROC of Adv2 GBC: {roc_adv2_test:.3f}\")\n",
    "\n",
    "print(\"---\")"
   ]
  },
  {
   "cell_type": "code",
   "execution_count": 68,
   "metadata": {},
   "outputs": [
    {
     "data": {
      "text/plain": [
       "<matplotlib.legend.Legend at 0x7fb811d90700>"
      ]
     },
     "execution_count": 68,
     "metadata": {},
     "output_type": "execute_result"
    },
    {
     "data": {
      "image/png": "[encoded data removed]",
      "text/plain": [
       "<Figure size 432x288 with 1 Axes>"
      ]
     },
     "metadata": {
      "needs_background": "light"
     },
     "output_type": "display_data"
    }
   ],
   "source": [
    "plt.figure(0).clf()\n",
    "\n",
    "# Train\n",
    "fpr, tpr, _ = roc_curve(y_train, y_pred_base_gbc_train_f)\n",
    "auc = round(roc_auc_score(y_train, y_pred_base_gbc_train_f), 4)\n",
    "plt.plot(fpr,tpr,label=\"Base GBC - Training, AUC=\"+str(auc), linestyle=\"dotted\")\n",
    "\n",
    "fpr, tpr, _ = roc_curve(y_train, y_pred_adv_gbc_train_f)\n",
    "auc = round(roc_auc_score(y_train, y_pred_adv_gbc_train_f), 4)\n",
    "plt.plot(fpr,tpr,label=f\"Advanced GBC - Training, AUC=\"+str(auc), linestyle=\"dotted\")\n",
    "\n",
    "fpr, tpr, _ = roc_curve(y_train, y_pred_adv2_gbc_train_f)\n",
    "auc = round(roc_auc_score(y_train, y_pred_adv2_gbc_train_f), 4)\n",
    "plt.plot(fpr,tpr,label=f\"Advanced2 GBC - Training, AUC=\"+str(auc), linestyle=\"dotted\")\n",
    "\n",
    "# Test\n",
    "fpr, tpr, _ = roc_curve(y_test, y_pred_base_gbc_test_f)\n",
    "auc = round(roc_auc_score(y_test, y_pred_base_gbc_test_f), 4)\n",
    "plt.plot(fpr,tpr,label=\"Base GBC - Testing, AUC=\"+str(auc), linestyle=\"solid\")\n",
    "\n",
    "fpr, tpr, _ = roc_curve(y_test, y_pred_adv_gbc_test_f)\n",
    "auc = round(roc_auc_score(y_test, y_pred_adv_gbc_test_f), 4)\n",
    "plt.plot(fpr,tpr,label=f\"Advanced GBC - Testing, AUC=\"+str(auc), linestyle=\"solid\")\n",
    "\n",
    "fpr, tpr, _ = roc_curve(y_test, y_pred_adv2_gbc_test_f)\n",
    "auc = round(roc_auc_score(y_test, y_pred_adv2_gbc_test_f), 4)\n",
    "plt.plot(fpr,tpr,label=f\"Advanced2 GBC - Testing, AUC=\"+str(auc), linestyle=\"solid\")\n",
    "\n",
    "plt.legend()"
   ]
  }
 ],
 "metadata": {
  "kernelspec": {
   "display_name": "Python 3.9.0 ('env')",
   "language": "python",
   "name": "python3"
  },
  "language_info": {
   "codemirror_mode": {
    "name": "ipython",
    "version": 3
   },
   "file_extension": ".py",
   "mimetype": "text/x-python",
   "name": "python",
   "nbconvert_exporter": "python",
   "pygments_lexer": "ipython3",
   "version": "3.9.0"
  },
  "orig_nbformat": 4,
  "vscode": {
   "interpreter": {
    "hash": "feb712a7b8845ee20af226e60c344eb8ada9fd25c3cb3dd6e0156fe71ad0fb01"
   }
  }
 },
 "nbformat": 4,
 "nbformat_minor": 2
}
